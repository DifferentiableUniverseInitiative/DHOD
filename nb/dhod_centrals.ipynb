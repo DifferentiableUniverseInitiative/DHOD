{
 "cells": [
  {
   "cell_type": "code",
   "execution_count": 1,
   "metadata": {},
   "outputs": [],
   "source": [
    "import numpy as np \n",
    "\n",
    "import tensorflow as tf\n",
    "import tensorflow_probability as tfp\n",
    "# -- plotting\n",
    "import matplotlib as mpl\n",
    "import matplotlib.pyplot as plt\n",
    "mpl.rcParams['text.usetex'] = True\n",
    "mpl.rcParams['font.family'] = 'serif'\n",
    "mpl.rcParams['axes.linewidth'] = 1.5\n",
    "mpl.rcParams['axes.xmargin'] = 1\n",
    "mpl.rcParams['xtick.labelsize'] = 'x-large'\n",
    "mpl.rcParams['xtick.major.size'] = 5\n",
    "mpl.rcParams['xtick.major.width'] = 1.5\n",
    "mpl.rcParams['ytick.labelsize'] = 'x-large'\n",
    "mpl.rcParams['ytick.major.size'] = 5\n",
    "mpl.rcParams['ytick.major.width'] = 1.5\n",
    "mpl.rcParams['legend.frameon'] = False"
   ]
  },
  {
   "cell_type": "code",
   "execution_count": 2,
   "metadata": {},
   "outputs": [],
   "source": [
    "Mhalo = tf.convert_to_tensor(np.random.uniform(10., 15., 1000), dtype=tf.float32)\n",
    "siglogm = tf.convert_to_tensor(0.2, dtype=tf.float32)\n",
    "temperature = 0.5\n",
    "\n",
    "def Ncen(Mmin): \n",
    "    # mean occupation of centrals\n",
    "    return 0.5 * (1+tf.math.erf((Mhalo - Mmin)/siglogm))\n",
    "\n",
    "def hod(Mmin): \n",
    "    bern = tfp.distributions.RelaxedBernoulli(temperature, probs=Ncen(Mmin))\n",
    "    return bern.sample()\n",
    "\n",
    "def numden(Mmin): \n",
    "    return sum(hod(Mmin))"
   ]
  },
  {
   "cell_type": "code",
   "execution_count": 3,
   "metadata": {},
   "outputs": [
    {
     "data": {
      "text/plain": [
       "(10.0, 15.0)"
      ]
     },
     "execution_count": 3,
     "metadata": {},
     "output_type": "execute_result"
    },
    {
     "data": {
      "image/png": "[encoded data removed]",
      "text/plain": [
       "<Figure size 432x288 with 1 Axes>"
      ]
     },
     "metadata": {
      "needs_background": "light"
     },
     "output_type": "display_data"
    }
   ],
   "source": [
    "ncen = Ncen(13.0)\n",
    "plt.scatter(Mhalo, ncen)\n",
    "plt.xlim(10., 15.)"
   ]
  },
  {
   "cell_type": "code",
   "execution_count": 4,
   "metadata": {},
   "outputs": [
    {
     "data": {
      "text/plain": [
       "(10.0, 15.0)"
      ]
     },
     "execution_count": 4,
     "metadata": {},
     "output_type": "execute_result"
    },
    {
     "data": {
      "image/png": "[encoded data removed]",
      "text/plain": [
       "<Figure size 432x288 with 1 Axes>"
      ]
     },
     "metadata": {
      "needs_background": "light"
     },
     "output_type": "display_data"
    }
   ],
   "source": [
    "plt.scatter(Mhalo, ncen, c='k')\n",
    "plt.scatter(Mhalo, hod(13.))\n",
    "plt.xlim(10., 15.)"
   ]
  },
  {
   "cell_type": "code",
   "execution_count": 5,
   "metadata": {},
   "outputs": [
    {
     "name": "stdout",
     "output_type": "stream",
     "text": [
      "tf.Tensor(434.80634, shape=(), dtype=float32)\n",
      "<tf.Variable 'Variable:0' shape=() dtype=float32, numpy=nan>\n"
     ]
    }
   ],
   "source": [
    "Mmin_true = 13.\n",
    "numden_true = numden(Mmin_true)\n",
    "print(numden_true)\n",
    "\n",
    "opt = tf.keras.optimizers.Adam(learning_rate=0.1)\n",
    "\n",
    "_Mmin = tf.Variable(13.2, trainable=True, dtype=tf.float32)\n",
    "trainable_variables = [_Mmin]\n",
    "\n",
    "loss = lambda: tf.math.square(numden_true - numden(_Mmin))\n",
    "train = opt.minimize(loss, var_list=trainable_variables)\n",
    "print(_Mmin)"
   ]
  },
  {
   "cell_type": "code",
   "execution_count": 6,
   "metadata": {},
   "outputs": [
    {
     "name": "stdout",
     "output_type": "stream",
     "text": [
      "[<tf.Tensor: id=12590, shape=(), dtype=float32, numpy=nan>]\n",
      "[<tf.Tensor: id=12736, shape=(), dtype=float32, numpy=nan>]\n",
      "[<tf.Tensor: id=12882, shape=(), dtype=float32, numpy=nan>]\n",
      "[<tf.Tensor: id=13028, shape=(), dtype=float32, numpy=nan>]\n",
      "[<tf.Tensor: id=13174, shape=(), dtype=float32, numpy=nan>]\n",
      "[<tf.Tensor: id=13320, shape=(), dtype=float32, numpy=nan>]\n",
      "[<tf.Tensor: id=13466, shape=(), dtype=float32, numpy=nan>]\n",
      "[<tf.Tensor: id=13612, shape=(), dtype=float32, numpy=nan>]\n",
      "[<tf.Tensor: id=13758, shape=(), dtype=float32, numpy=nan>]\n",
      "[<tf.Tensor: id=13904, shape=(), dtype=float32, numpy=nan>]\n"
     ]
    }
   ],
   "source": [
    "for temp in np.linspace(0., 1., 10).astype(np.float32): \n",
    "    def _hod(Mmin): \n",
    "        bern = tfp.distributions.RelaxedBernoulli(temp, probs=Ncen(Mmin))\n",
    "        return bern.sample()\n",
    "\n",
    "    loss = lambda mm: _hod(mm)\n",
    "    val, grad = tfp.math.value_and_gradient(loss, [_Mmin])\n",
    "    print(grad)"
   ]
  }
 ],
 "metadata": {
  "kernelspec": {
   "display_name": "Python 3",
   "language": "python",
   "name": "python3"
  },
  "language_info": {
   "codemirror_mode": {
    "name": "ipython",
    "version": 3
   },
   "file_extension": ".py",
   "mimetype": "text/x-python",
   "name": "python",
   "nbconvert_exporter": "python",
   "pygments_lexer": "ipython3",
   "version": "3.7.3"
  }
 },
 "nbformat": 4,
 "nbformat_minor": 2
}
