{
 "cells": [
  {
   "cell_type": "markdown",
   "metadata": {},
   "source": [
    "# standard HOD MCMC\n",
    "standard HOD inference using MCMC"
   ]
  },
  {
   "cell_type": "code",
   "execution_count": 1,
   "metadata": {},
   "outputs": [],
   "source": [
    "import os\n",
    "import numpy as np \n",
    "import emcee\n",
    "import warnings\n",
    "warnings.filterwarnings('ignore')\n",
    "# -- nbodykit -- \n",
    "import nbodykit.lab as NBlab\n",
    "from nbodykit.hod import Zheng07Model\n",
    "from halotools.sim_manager import CachedHaloCatalog\n",
    "# \n",
    "import matplotlib.pyplot as plt"
   ]
  },
  {
   "cell_type": "markdown",
   "metadata": {},
   "source": [
    "# read halo catalog\n",
    "Only use $x, y, z < 128$ for now. "
   ]
  },
  {
   "cell_type": "code",
   "execution_count": 2,
   "metadata": {},
   "outputs": [],
   "source": [
    "halocat = CachedHaloCatalog(simname = 'bolshoi', redshift=0, halo_finder = 'rockstar')\n",
    "\n",
    "Lbox = 128.\n",
    "halo_table = halocat.halo_table\n",
    "halo_table = halo_table[halo_table['halo_pid'] == -1]\n",
    "halo_table = halo_table[halo_table['halo_x'] < Lbox]\n",
    "halo_table = halo_table[halo_table['halo_y'] < Lbox]\n",
    "halo_table = halo_table[halo_table['halo_z'] < Lbox]"
   ]
  },
  {
   "cell_type": "code",
   "execution_count": 3,
   "metadata": {},
   "outputs": [],
   "source": [
    "halo_data = {} \n",
    "halo_data['Position'] = np.vstack([halo_table['halo_x'], halo_table['halo_y'], halo_table['halo_z']]).T\n",
    "halo_data['Velocity'] = np.vstack([halo_table['halo_vx'], halo_table['halo_vy'], halo_table['halo_vz']]).T\n",
    "halo_data['Mass'] = halo_table['halo_mvir']\n",
    "\n",
    "# save to ArryCatalog for consistency\n",
    "halos = NBlab.ArrayCatalog(halo_data, BoxSize=np.array([Lbox, Lbox, Lbox])) \n",
    "halos = NBlab.HaloCatalog(halos, cosmo=NBlab.cosmology.cosmology.Cosmology().from_astropy(halocat.cosmology), redshift=0.0, mdef='vir') "
   ]
  },
  {
   "cell_type": "code",
   "execution_count": 4,
   "metadata": {},
   "outputs": [],
   "source": [
    "def model_Pk(theta): \n",
    "    ''' For given HOD parameters populate halo and calculate power spectrum\n",
    "    \n",
    "    Parameters\n",
    "    ----------\n",
    "    theta : 1d array\n",
    "        hod parameters \n",
    "    '''\n",
    "    gals = halos.populate(\n",
    "        Zheng07Model, \n",
    "        logMmin=theta[0], \n",
    "        sigma_logM=theta[1],\n",
    "        logM0=theta[2], \n",
    "        logM1=theta[3],\n",
    "        alpha=theta[4]\n",
    "    )\n",
    "    # calculate power spectrum\n",
    "    mesh = gals.to_mesh(window='tsc', Nmesh=360, compensated=True, position='Position')\n",
    "\n",
    "    kf = 2.*np.pi/Lbox # fundamental mode\n",
    "    r = NBlab.FFTPower(mesh, mode='1d', dk=kf, kmin=kf)\n",
    "    Pk = r.power\n",
    "    return Pk['k'], Pk['power'].real - Pk.attrs['shotnoise']"
   ]
  },
  {
   "cell_type": "code",
   "execution_count": 5,
   "metadata": {},
   "outputs": [],
   "source": [
    "theta_fid = np.array([12.02, 0.26, 11.38, 13.31, 1.06]) # value from https://github.com/DifferentiableUniverseInitiative/DHOD/blob/batch_hmc/nb/batch_hod-hmc-overview.ipynb"
   ]
  },
  {
   "cell_type": "code",
   "execution_count": 6,
   "metadata": {},
   "outputs": [
    {
     "name": "stdout",
     "output_type": "stream",
     "text": [
      "3.11 s ± 123 ms per loop (mean ± std. dev. of 7 runs, 1 loop each)\n"
     ]
    }
   ],
   "source": [
    "%timeit model_Pk(theta_fid);"
   ]
  },
  {
   "cell_type": "code",
   "execution_count": 7,
   "metadata": {},
   "outputs": [
    {
     "data": {
      "image/png": "[encoded data removed]",
      "text/plain": [
       "<Figure size 360x360 with 1 Axes>"
      ]
     },
     "metadata": {
      "needs_background": "light"
     },
     "output_type": "display_data"
    }
   ],
   "source": [
    "k, pk = model_Pk(theta_fid)\n",
    "fig = plt.figure(figsize=(5,5))\n",
    "sub = fig.add_subplot(111)\n",
    "sub.plot(k, pk)\n",
    "sub.set_xscale('log')\n",
    "sub.set_yscale('log')"
   ]
  },
  {
   "cell_type": "markdown",
   "metadata": {},
   "source": [
    "# covariance matrix for likelihood"
   ]
  },
  {
   "cell_type": "code",
   "execution_count": 10,
   "metadata": {},
   "outputs": [],
   "source": [
    "Nmock = 100\n",
    "\n",
    "fpf = 'pk_fid.%i.npy' % Nmock\n",
    "if not os.path.isfile(fpf): \n",
    "    klim = (k < 1.)\n",
    "    \n",
    "    k_arr = k[klim]\n",
    "    \n",
    "    pk_fid = np.array([model_Pk(theta_fid)[1] for i in range(Nmock)])[:,klim]\n",
    "    np.save(fpf, pk_fid)\n",
    "    np.save('k_arr.npy', k_arr)\n",
    "else: \n",
    "    pk_fid = np.load(fpf)\n",
    "    k_arr = np.load('k_arr.npy')"
   ]
  },
  {
   "cell_type": "code",
   "execution_count": 11,
   "metadata": {},
   "outputs": [
    {
     "data": {
      "image/png": "[encoded data removed]",
      "text/plain": [
       "<Figure size 360x360 with 1 Axes>"
      ]
     },
     "metadata": {
      "needs_background": "light"
     },
     "output_type": "display_data"
    }
   ],
   "source": [
    "fig = plt.figure(figsize=(5,5))\n",
    "sub = fig.add_subplot(111)\n",
    "for _pk in pk_fid: \n",
    "    sub.plot(k_arr, _pk)\n",
    "sub.set_xscale('log')\n",
    "sub.set_yscale('log')"
   ]
  },
  {
   "cell_type": "code",
   "execution_count": 12,
   "metadata": {},
   "outputs": [
    {
     "name": "stdout",
     "output_type": "stream",
     "text": [
      "0.797979797979798\n"
     ]
    }
   ],
   "source": [
    "cov_pk = np.cov(pk_fid.T)\n",
    "cinv_pk = np.linalg.inv(cov_pk)\n",
    "f_hartlap = (float(Nmock) - float(pk_fid.shape[1]) -2.)/(float(Nmock) - 1.)\n",
    "print(f_hartlap)"
   ]
  },
  {
   "cell_type": "code",
   "execution_count": 13,
   "metadata": {},
   "outputs": [],
   "source": [
    "pk_obs = np.mean(pk_fid, axis=0) # our \"observed P(k)\""
   ]
  },
  {
   "cell_type": "code",
   "execution_count": 14,
   "metadata": {},
   "outputs": [],
   "source": [
    "def lnProb(theta): \n",
    "    '''log probability\n",
    "    '''\n",
    "    _, _pk_model = model_Pk(theta)\n",
    "    pk_model = _pk_model[klim]\n",
    "    \n",
    "    dpk = pk_model - pk_obs \n",
    "    chi2 = np.dot(dpk, np.dot(cinv_pk, dpk))\n",
    "    return -0.5*chi2"
   ]
  },
  {
   "cell_type": "code",
   "execution_count": 15,
   "metadata": {},
   "outputs": [],
   "source": [
    "# 32 walkers\n",
    "pos = theta_fid + 1e-4 * np.random.randn(32, theta_fid.shape[0])\n",
    "nwalkers, ndim = pos.shape"
   ]
  },
  {
   "cell_type": "code",
   "execution_count": null,
   "metadata": {},
   "outputs": [],
   "source": [
    "sampler = emcee.EnsembleSampler(nwalkers, ndim, lnProb)\n",
    "sampler.run_mcmc(pos, 5, progress=True);"
   ]
  },
  {
   "cell_type": "code",
   "execution_count": null,
   "metadata": {},
   "outputs": [],
   "source": []
  }
 ],
 "metadata": {
  "kernelspec": {
   "display_name": "dhod",
   "language": "python",
   "name": "dhod"
  },
  "language_info": {
   "codemirror_mode": {
    "name": "ipython",
    "version": 3
   },
   "file_extension": ".py",
   "mimetype": "text/x-python",
   "name": "python",
   "nbconvert_exporter": "python",
   "pygments_lexer": "ipython3",
   "version": "3.7.9"
  }
 },
 "nbformat": 4,
 "nbformat_minor": 4
}
