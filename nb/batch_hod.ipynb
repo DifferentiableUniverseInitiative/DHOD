{
 "cells": [
  {
   "cell_type": "code",
   "execution_count": 1,
   "metadata": {},
   "outputs": [
    {
     "name": "stdout",
     "output_type": "stream",
     "text": [
      "Fri Jun 19 04:37:15 2020       \n",
      "+-----------------------------------------------------------------------------+\n",
      "| NVIDIA-SMI 440.33.01    Driver Version: 440.33.01    CUDA Version: 10.2     |\n",
      "|-------------------------------+----------------------+----------------------+\n",
      "| GPU  Name        Persistence-M| Bus-Id        Disp.A | Volatile Uncorr. ECC |\n",
      "| Fan  Temp  Perf  Pwr:Usage/Cap|         Memory-Usage | GPU-Util  Compute M. |\n",
      "|===============================+======================+======================|\n",
      "|   0  GeForce RTX 208...  Off  | 00000000:1A:00.0 Off |                  N/A |\n",
      "| 16%   40C    P0    74W / 250W |     11MiB / 11019MiB |     40%      Default |\n",
      "+-------------------------------+----------------------+----------------------+\n",
      "|   1  GeForce RTX 208...  Off  | 00000000:1B:00.0 Off |                  N/A |\n",
      "| 16%   37C    P8    25W / 250W |     11MiB / 11019MiB |      0%      Default |\n",
      "+-------------------------------+----------------------+----------------------+\n",
      "|   2  Tesla V100-PCIE...  Off  | 00000000:1F:00.0 Off |                    0 |\n",
      "| N/A   59C    P0    47W / 250W |  31549MiB / 32510MiB |     74%      Default |\n",
      "+-------------------------------+----------------------+----------------------+\n",
      "|   3  Tesla V100-PCIE...  Off  | 00000000:20:00.0 Off |                    0 |\n",
      "| N/A   41C    P0    37W / 250W |  31167MiB / 32510MiB |      0%      Default |\n",
      "+-------------------------------+----------------------+----------------------+\n",
      "|   4  Tesla V100-PCIE...  Off  | 00000000:21:00.0 Off |                    0 |\n",
      "| N/A   42C    P0    36W / 250W |  31167MiB / 32510MiB |      0%      Default |\n",
      "+-------------------------------+----------------------+----------------------+\n",
      "|   5  Tesla V100-PCIE...  Off  | 00000000:22:00.0 Off |                    0 |\n",
      "| N/A   37C    P0    25W / 250W |     12MiB / 32510MiB |      0%      Default |\n",
      "+-------------------------------+----------------------+----------------------+\n",
      "|   6  GeForce RTX 208...  Off  | 00000000:23:00.0 Off |                  N/A |\n",
      "| 17%   38C    P8    23W / 250W |  10706MiB / 11019MiB |      0%      Default |\n",
      "+-------------------------------+----------------------+----------------------+\n",
      "|   7  GeForce RTX 208...  Off  | 00000000:24:00.0 Off |                  N/A |\n",
      "| 16%   37C    P8    12W / 250W |     11MiB / 11019MiB |      0%      Default |\n",
      "+-------------------------------+----------------------+----------------------+\n",
      "                                                                               \n",
      "+-----------------------------------------------------------------------------+\n",
      "| Processes:                                                       GPU Memory |\n",
      "|  GPU       PID   Type   Process name                             Usage      |\n",
      "|=============================================================================|\n",
      "|    2    187387      C   /usr/bin/python3                           31537MiB |\n",
      "|    3    180917      C   ...tz/miniconda3/envs/conda_env/bin/python 31147MiB |\n",
      "|    4     79236      C   ...ng/miniconda3/envs/tardis-tf/bin/python 31147MiB |\n",
      "|    6    135653      C   ...tz/miniconda3/envs/conda_env/bin/python 10693MiB |\n",
      "+-----------------------------------------------------------------------------+\n"
     ]
    }
   ],
   "source": [
    "!nvidia-smi"
   ]
  },
  {
   "cell_type": "code",
   "execution_count": 2,
   "metadata": {},
   "outputs": [],
   "source": [
    "import os\n",
    "\n",
    "#using GPU, comment out if on CPU\n",
    "os.environ['CUDA_DEVICE_ORDER'] = 'PCI_BUS_ID'\n",
    "os.environ['CUDA_VISIBLE_DEVICES'] = \"0\"\n"
   ]
  },
  {
   "cell_type": "code",
   "execution_count": 3,
   "metadata": {},
   "outputs": [
    {
     "name": "stdout",
     "output_type": "stream",
     "text": [
      "batch mode...\n"
     ]
    },
    {
     "name": "stderr",
     "output_type": "stream",
     "text": [
      "/home/ben.horowitz/miniconda3/envs/dhod2/lib/python3.8/site-packages/diffhod-0.1-py3.8.egg/diffhod/components.py:8: UserWarning: tfp.edward2 module is deprecated and will be removed on 2019-12-01. Use https://github.com/google/edward2 library instead.\n"
     ]
    },
    {
     "name": "stdout",
     "output_type": "stream",
     "text": [
      "Populating the interactive namespace from numpy and matplotlib\n"
     ]
    }
   ],
   "source": [
    "%load_ext autoreload\n",
    "%autoreload 2\n",
    "\n",
    "from halotools.sim_manager import CachedHaloCatalog\n",
    "from halotools.empirical_models import PrebuiltHodModelFactory\n",
    "from halotools.mock_observables.two_point_clustering import tpcf\n",
    "from halotools.mock_observables import return_xyz_formatted_array\n",
    "\n",
    "from tensorflow_probability import edward2 as ed\n",
    "\n",
    "import diffhod\n",
    "\n",
    "from diffhod.components import Zheng07Cens, Zheng07SatsRelaxedBernoulli, NFWProfile\n",
    "\n",
    "#from flowpm.utils import cic_paint\n",
    "import tensorflow as tf\n",
    "%pylab inline"
   ]
  },
  {
   "cell_type": "code",
   "execution_count": 4,
   "metadata": {},
   "outputs": [],
   "source": [
    "#TF2 compatable painter\n",
    "def cic_paint(mesh, part, weight=None, name=\"CiCPaint\"):\n",
    "  \"\"\"\n",
    "  Paints particules on a 3D mesh.\n",
    "  Parameters:\n",
    "  -----------\n",
    "  mesh: tensor (batch_size, nc, nc, nc)\n",
    "    Input 3D mesh tensor\n",
    "  part: tensor (batch_size, npart, 3)\n",
    "    List of 3D particle coordinates, assumed to be in mesh units if\n",
    "    boxsize is None\n",
    "  weight: tensor (batch_size, npart)\n",
    "    List of weights  for each particle\n",
    "  \"\"\"\n",
    "  with tf.name_scope(name):\n",
    "    mesh = tf.convert_to_tensor(mesh, name=\"mesh\")\n",
    "    part = tf.convert_to_tensor(part, name=\"part\")\n",
    "    if weight is not None:\n",
    "      weight = tf.convert_to_tensor(weight, name=\"weight\")\n",
    "\n",
    "    shape = tf.shape(mesh)\n",
    "    batch_size, nx, ny, nz = shape[0], shape[1], shape[2], shape[3]\n",
    "    nc = nz\n",
    "\n",
    "    # Flatten part if it's not already done\n",
    "    if len(part.shape) > 3:\n",
    "      part = tf.reshape(part, (batch_size, -1, 3))\n",
    "\n",
    "    # Extract the indices of all the mesh points affected by each particles\n",
    "    part = tf.expand_dims(part, 2)\n",
    "    floor = tf.floor(part)\n",
    "    connection = tf.expand_dims(tf.constant([[[0, 0, 0], [1., 0, 0],[0., 1, 0],\n",
    "                                              [0., 0, 1],[1., 1, 0],[1., 0, 1],\n",
    "                                              [0., 1, 1],[1., 1, 1]]]), 0)\n",
    "\n",
    "    neighboor_coords = floor + connection\n",
    "    kernel = 1. - tf.abs(part - neighboor_coords)\n",
    "    # Replacing the reduce_prod op by manual multiplication\n",
    "    # TODO: figure out why reduce_prod was crashing the Hessian computation\n",
    "    kernel = kernel[..., 0] * kernel[..., 1] * kernel[..., 2]\n",
    "\n",
    "    if weight is not None: kernel = tf.multiply(tf.expand_dims(weight, axis=-1) , kernel)\n",
    "\n",
    "    neighboor_coords = tf.cast(neighboor_coords, tf.int32)\n",
    "    neighboor_coords = tf.math.mod(neighboor_coords , nc)\n",
    "\n",
    "    # Adding batch dimension to the neighboor coordinates\n",
    "    batch_idx = tf.range(0, batch_size)\n",
    "    batch_idx = tf.reshape(batch_idx, (batch_size, 1, 1, 1))\n",
    "    b = tf.tile(batch_idx, [1] + list(neighboor_coords.get_shape()[1:-1]) + [1])\n",
    "    neighboor_coords = tf.concat([b, neighboor_coords], axis=-1)\n",
    "\n",
    "    update = tf.scatter_nd(tf.reshape(neighboor_coords, (-1, 8,4)),tf.reshape(kernel, (-1, 8)),[batch_size, nx, ny, nz])\n",
    "    mesh = mesh + update\n",
    "    return mesh\n"
   ]
  },
  {
   "cell_type": "code",
   "execution_count": 5,
   "metadata": {},
   "outputs": [],
   "source": [
    "def _initialize_pk(shape,boxsize,kmin,dk):\n",
    "    \"\"\"\n",
    "       Helper function to initialize various (fixed) values for powerspectra... not differentiable!\n",
    "    \"\"\"\n",
    "    I = np.eye(len(shape), dtype='int') * -2 + 1\n",
    "\n",
    "    W = np.empty(shape, dtype='f4')\n",
    "    W[...] = 2.0\n",
    "    W[..., 0] = 1.0\n",
    "    W[..., -1] = 1.0\n",
    "    kedges = np.arange(kmin, np.pi * 3 / 2 + dk/2, dk)\n",
    "\n",
    "    k = [np.fft.fftfreq(N, 1. / (N * 2 * np.pi / L))[:pkshape].reshape(kshape) for N, L, kshape, pkshape in zip(shape.as_list(), boxsize, I, shape.as_list())]\n",
    "    kmag = sum(ki ** 2 for ki in k) ** 0.5\n",
    "\n",
    "    xsum = np.zeros(len(kedges) + 1)\n",
    "    Nsum = np.zeros(len(kedges) + 1)\n",
    "\n",
    "    dig = np.digitize(kmag.flat, kedges)\n",
    "\n",
    "    xsum.flat += np.bincount(dig, weights=(W * kmag).flat, minlength=xsum.size)\n",
    "    Nsum.flat += np.bincount(dig, weights=W.flat, minlength=xsum.size)\n",
    "    dig = tf.convert_to_tensor(dig,dtype=tf.int32)\n",
    "    Nsum = tf.convert_to_tensor(Nsum,dtype=tf.complex64)\n",
    "    xsum = tf.convert_to_tensor(np.array(xsum))\n",
    "    W = tf.convert_to_tensor(np.array(W))\n",
    "    k = np.array(k)\n",
    "    kedges = tf.convert_to_tensor(np.array(kedges))\n",
    "    return dig, Nsum, xsum, W, k, kedges"
   ]
  },
  {
   "cell_type": "code",
   "execution_count": 6,
   "metadata": {},
   "outputs": [],
   "source": [
    "#updated pk for batch mode...\n",
    "def pk(field,kmin=5,dk=0.8,shape = False,boxsize= False):   \n",
    "    \"\"\"\n",
    "    Calculate the powerspectra given real space field\n",
    "    \n",
    "    Args:\n",
    "        \n",
    "        field: real valued field \n",
    "        kmin: minimum k-value for binned powerspectra\n",
    "        dk: differential in each kbin\n",
    "        shape: shape of field to calculate field (can be strangely shaped?)\n",
    "        boxsize: length of each boxlength (can be strangly shaped?)\n",
    "    \n",
    "    Returns:\n",
    "        \n",
    "        kbins: the central value of the bins for plotting\n",
    "        power: real valued array of power in each bin\n",
    "        \n",
    "    \"\"\"\n",
    "     \n",
    "    bs = field.shape[0] #batch size\n",
    "\n",
    "    dig, Nsum, xsum, W, k, kedges = _initialize_pk(shape,boxsize,kmin,dk)\n",
    "\n",
    "    #convert field to complex for fft\n",
    "    field_complex = tf.dtypes.cast(field,dtype=tf.complex64)\n",
    "\n",
    "    #fast fourier transform\n",
    "    fft_image = tf.map_fn(\n",
    "    tf.signal.fft3d, field_complex, dtype=None, parallel_iterations=None, back_prop=True,\n",
    "    swap_memory=False, infer_shape=True, name=None\n",
    "    )\n",
    "\n",
    "\n",
    "    #absolute value of fast fourier transform\n",
    "    pk = tf.math.real(fft_image*tf.math.conj(fft_image))\n",
    "    #calculating powerspectra\n",
    "    Psum = tf.zeros(tf.size(kedges) + 1, dtype=tf.complex64)\n",
    "    real = tf.reshape(tf.math.real(pk),[bs,-1,])\n",
    "    imag = tf.reshape(tf.math.imag(pk),[bs,-1,])\n",
    "\n",
    "\n",
    "    #def bincount func\n",
    "\n",
    "    def bincount(x):\n",
    "        return tf.math.bincount(dig, weights=(tf.reshape(W,[-1])  * x), minlength=tf.size(xsum))\n",
    "\n",
    "    Psum1 = tf.dtypes.cast(tf.map_fn(\n",
    "    bincount, imag, dtype=None, parallel_iterations=None, back_prop=True,\n",
    "    swap_memory=False, infer_shape=True, name=None\n",
    "    ),dtype=tf.complex64)*1j\n",
    "\n",
    "    Psum2 = tf.dtypes.cast(tf.map_fn(\n",
    "    bincount, real, dtype=None, parallel_iterations=None, back_prop=True,\n",
    "    swap_memory=False, infer_shape=True, name=None\n",
    "    ),dtype=tf.complex64)\n",
    "\n",
    "\n",
    "    power = ((Psum + Psum1+Psum2)/ Nsum)[:,1:-1]* boxsize.prod() \n",
    "\n",
    "    #normalization for powerspectra\n",
    "    norm = tf.dtypes.cast(tf.reduce_prod(shape),dtype=tf.float32)**2\n",
    "\n",
    "    #find central values of each bin\n",
    "    kbins = kedges[:-1]+ (kedges[1:] - kedges[:-1])/2\n",
    "\n",
    "    return kbins,tf.dtypes.cast(power,dtype=tf.float32)/norm"
   ]
  },
  {
   "cell_type": "code",
   "execution_count": 7,
   "metadata": {},
   "outputs": [],
   "source": [
    "# Load a reference halo catalog\n",
    "halocat = CachedHaloCatalog(simname = 'bolshoi', redshift=0.) \n",
    "\n",
    "# Removing subhalos and convert table to tensors\n",
    "halo_table = halocat.halo_table\n",
    "halo_table = halo_table[halo_table['halo_pid'] == -1]\n",
    "halo_table = halo_table[halo_table['halo_x'] < 64]\n",
    "halo_table = halo_table[halo_table['halo_y'] < 64]\n",
    "halo_table = halo_table[halo_table['halo_z'] < 64]\n",
    "\n",
    "tf_halocat = {k: tf.convert_to_tensor(halo_table[k], dtype=tf.float32) for k in halo_table.colnames}"
   ]
  },
  {
   "cell_type": "code",
   "execution_count": 8,
   "metadata": {},
   "outputs": [],
   "source": [
    "# We first load our reference halotools model\n",
    "zheng07_model = PrebuiltHodModelFactory('zheng07', redshift =-0, \n",
    "                                        modulate_with_cenocc=True)"
   ]
  },
  {
   "cell_type": "code",
   "execution_count": 9,
   "metadata": {},
   "outputs": [
    {
     "data": {
      "text/plain": [
       "{'logMmin': 12.02,\n",
       " 'sigma_logM': 0.26,\n",
       " 'logM0': 11.38,\n",
       " 'logM1': 13.31,\n",
       " 'alpha': 1.06}"
      ]
     },
     "execution_count": 9,
     "metadata": {},
     "output_type": "execute_result"
    }
   ],
   "source": [
    "# Let's see what are the parameters of the model\n",
    "zheng07_model.param_dict"
   ]
  },
  {
   "cell_type": "code",
   "execution_count": 10,
   "metadata": {},
   "outputs": [],
   "source": [
    "# Here is how we define the same model in diffhod\n",
    "@tf.function\n",
    "def hod(halo_cat, logMmin, sigma_logM, logM0, logM1, alpha, max_sat=40, temp=0.4,bs=10):\n",
    "  ### Occupation model ###\n",
    "  n_cen = Zheng07Cens(halo_cat['halo_mvir'],\n",
    "                      sigma_logM=sigma_logM,\n",
    "                      logMmin=logMmin,\n",
    "                      temperature=temp)\n",
    "  n_sat = Zheng07SatsRelaxedBernoulli(halo_cat['halo_mvir'],\n",
    "                                      n_cen,\n",
    "                                      logM0=logM0,\n",
    "                                      logM1=logM1,\n",
    "                                      alpha=alpha,\n",
    "                                      sample_shape=(max_sat,),\n",
    "                                      temperature=temp)\n",
    "  \n",
    "  ### Phase Space model ###\n",
    "  # Centrals are just located at center of halo\n",
    "  pos_cen = ed.Deterministic(tf.stack([halo_cat['halo_x'],\n",
    "                                        halo_cat['halo_y'],\n",
    "                                        halo_cat['halo_z']], axis=-1))\n",
    "\n",
    "  # Satellites follow an NFW profile centered on halos\n",
    "  pos_sat = NFWProfile(pos=pos_cen,\n",
    "                        concentration=halo_cat['halo_nfw_conc'],\n",
    "                        Rvir=halo_cat['halo_rvir'],\n",
    "                        sample_shape=(max_sat,))\n",
    "  \n",
    "  return {'pos_cen':pos_cen,'n_cen':n_cen, 'pos_sat':pos_sat,  'n_sat':n_sat}"
   ]
  },
  {
   "cell_type": "code",
   "execution_count": 11,
   "metadata": {},
   "outputs": [],
   "source": [
    "#batch compatable painter\n",
    "@tf.function\n",
    "def paint_galaxies(gal_cat, nc=64):\n",
    "    # Take centrals and rescale them to the boxsize\n",
    "    \n",
    "    bs = gal_cat['n_sat'].shape[1]\n",
    "    \n",
    "    sample1 = gal_cat['pos_cen'] / 64. * nc\n",
    "    weights1 = gal_cat['n_cen']\n",
    "    # Take sats and rescale them to the boxize\n",
    "  \n",
    "    sample2 = tf.reshape(gal_cat['pos_sat'], [-1,3]) / 64. * nc\n",
    "    weights2 = tf.reshape(gal_cat['n_sat'],[bs,-1])\n",
    "    \n",
    "    sample1_r = tf.tile(tf.expand_dims(sample1,0),[bs,1,1])\n",
    "    print(sample1_r.shape,weights1.shape)\n",
    "    rho1 = cic_paint(tf.zeros((bs, nc, nc, nc)),sample1_r, weights1)\n",
    "    sample2_r = tf.tile(tf.expand_dims(sample2,0),[bs,1,1])\n",
    "    print(sample2_r.shape,weights2.shape)\n",
    "\n",
    "    rho2 = cic_paint(tf.zeros((bs, nc, nc, nc)),sample2_r, weights2)\n",
    "    rho = rho1+rho2\n",
    "    return rho"
   ]
  },
  {
   "cell_type": "code",
   "execution_count": 12,
   "metadata": {},
   "outputs": [],
   "source": [
    "# sampling galaxies from the model, with given params\n",
    "@tf.function\n",
    "def sample(halo_cat, logMmin, sigma_logM, logM0, logM1, alpha):\n",
    "    return paint_galaxies(hod(halo_cat,logMmin, sigma_logM, logM0, logM1, alpha))"
   ]
  },
  {
   "cell_type": "code",
   "execution_count": 13,
   "metadata": {},
   "outputs": [
    {
     "name": "stdout",
     "output_type": "stream",
     "text": [
      "Tensor(\"Pow:0\", shape=(3,), dtype=float32)\n",
      "WARNING:tensorflow:From /home/ben.horowitz/miniconda3/envs/dhod2/lib/python3.8/site-packages/diffhod-0.1-py3.8.egg/diffhod/components.py:53: AffineScalar.__init__ (from tensorflow_probability.python.bijectors.affine_scalar) is deprecated and will be removed after 2020-01-01.\n",
      "Instructions for updating:\n",
      "`AffineScalar` bijector is deprecated; please use `tfb.Shift(loc)(tfb.Scale(...))` instead.\n",
      "(3, 19457, 3) (3, 19457)\n",
      "(3, 778280, 3) (3, 778280)\n"
     ]
    }
   ],
   "source": [
    "#check all variables for batch-ness\n",
    "\n",
    "rho = sample(tf_halocat, [15.02,11.0,10.02], [0.26,0.22,0.40], [10.0,11.,13.0], [10.31,12.0,13.0], [1.06,1.06,1.06])"
   ]
  },
  {
   "cell_type": "code",
   "execution_count": 14,
   "metadata": {},
   "outputs": [
    {
     "data": {
      "image/png": "[encoded data removed]",
      "text/plain": [
       "<Figure size 432x288 with 2 Axes>"
      ]
     },
     "metadata": {
      "needs_background": "light"
     },
     "output_type": "display_data"
    },
    {
     "data": {
      "image/png": "[encoded data removed]",
      "text/plain": [
       "<Figure size 432x288 with 2 Axes>"
      ]
     },
     "metadata": {
      "needs_background": "light"
     },
     "output_type": "display_data"
    },
    {
     "data": {
      "image/png": "[encoded data removed]",
      "text/plain": [
       "<Figure size 432x288 with 2 Axes>"
      ]
     },
     "metadata": {
      "needs_background": "light"
     },
     "output_type": "display_data"
    }
   ],
   "source": [
    "\n",
    "#check that something different is happening :P\n",
    "\n",
    "imshow(np.array(rho[0]).sum(axis=0))\n",
    "colorbar()\n",
    "show()\n",
    "imshow(np.array(rho[1]).sum(axis=0))\n",
    "colorbar()\n",
    "show()\n",
    "\n",
    "imshow(np.array(rho[2]).sum(axis=0))\n",
    "colorbar()\n",
    "show()\n"
   ]
  },
  {
   "cell_type": "code",
   "execution_count": 15,
   "metadata": {},
   "outputs": [
    {
     "name": "stderr",
     "output_type": "stream",
     "text": [
      "<ipython-input-5-5ab92cad888c>:14: DeprecationWarning: Calling np.sum(generator) is deprecated, and in the future will give a different result. Use np.sum(np.fromiter(generator)) or the python sum builtin instead.\n",
      "  kmag = sum(ki ** 2 for ki in k) ** 0.5\n"
     ]
    }
   ],
   "source": [
    "k1, pkr1 = pk(rho,\n",
    "         shape=rho[0].shape, \n",
    "         boxsize= np.array([64,64,64]), # WARNING: That's not the right size\n",
    "         kmin=0.1,dk=.05)"
   ]
  },
  {
   "cell_type": "code",
   "execution_count": 16,
   "metadata": {},
   "outputs": [
    {
     "data": {
      "image/png": "[encoded data removed]",
      "text/plain": [
       "<Figure size 432x288 with 1 Axes>"
      ]
     },
     "metadata": {
      "needs_background": "light"
     },
     "output_type": "display_data"
    }
   ],
   "source": [
    "for pks in pkr1:\n",
    "    loglog(k1,pks)"
   ]
  },
  {
   "cell_type": "code",
   "execution_count": 17,
   "metadata": {},
   "outputs": [
    {
     "name": "stdout",
     "output_type": "stream",
     "text": [
      "Tensor(\"Pow:0\", shape=(), dtype=float32)\n",
      "(1, 19457, 3) (1, 19457)\n",
      "(1, 778280, 3) (1, 778280)\n"
     ]
    },
    {
     "name": "stderr",
     "output_type": "stream",
     "text": [
      "<ipython-input-5-5ab92cad888c>:14: DeprecationWarning: Calling np.sum(generator) is deprecated, and in the future will give a different result. Use np.sum(np.fromiter(generator)) or the python sum builtin instead.\n",
      "  kmag = sum(ki ** 2 for ki in k) ** 0.5\n"
     ]
    }
   ],
   "source": [
    "#fiducial model\n",
    "rho = sample(tf_halocat, 12.02, 0.26, 11.38, 13.31, 1.06)\n",
    "k2, pkr2 = pk(rho,\n",
    "         shape=rho[0].shape, \n",
    "         boxsize= np.array([64,64,64]), # WARNING: That's not the right size\n",
    "         kmin=0.1,dk=.05)"
   ]
  },
  {
   "cell_type": "code",
   "execution_count": 18,
   "metadata": {},
   "outputs": [
    {
     "data": {
      "text/plain": [
       "<matplotlib.legend.Legend at 0x7f0fe8668730>"
      ]
     },
     "execution_count": 18,
     "metadata": {},
     "output_type": "execute_result"
    },
    {
     "data": {
      "image/png": "[encoded data removed]",
      "text/plain": [
       "<Figure size 432x288 with 1 Axes>"
      ]
     },
     "metadata": {
      "needs_background": "light"
     },
     "output_type": "display_data"
    }
   ],
   "source": [
    "loglog(k1,pkr1[0], label='data')\n",
    "loglog(k2,pkr2[0], label='rec')\n",
    "legend()"
   ]
  },
  {
   "cell_type": "code",
   "execution_count": 19,
   "metadata": {},
   "outputs": [],
   "source": [
    "# Let's just compute a diagonal cov (takes a while...)\n",
    "@tf.function\n",
    "def get_pk(halocat):\n",
    "    k2, pkr = pk(sample(tf_halocat, 12.02, 0.26, 11.38, 13.31, 1.06 ),\n",
    "         shape=rho[0].shape, \n",
    "         boxsize= np.array([64,64,64]), # WARNING: That's not the right size\n",
    "         kmin=0.1,dk=.05)\n",
    "    return pkr\n",
    "\n",
    "samps = [get_pk(halocat) for i in range(200)]\n",
    "samps = np.stack(samps, axis=0)\n",
    "diag_std = samps.std(axis=0)"
   ]
  },
  {
   "cell_type": "code",
   "execution_count": 20,
   "metadata": {},
   "outputs": [],
   "source": [
    "# Ok sweet, so now we can define these as a function of variables\n",
    "logM = tf.Variable(12.5)\n",
    "sig_logM = tf.Variable(0.5)\n",
    "logM0 = tf.Variable(10.38)\n",
    "logM1 = tf.Variable(13.01)\n",
    "alpha = tf.Variable(1.6)"
   ]
  },
  {
   "cell_type": "code",
   "execution_count": 21,
   "metadata": {},
   "outputs": [],
   "source": [
    "learning_rate=0.0000002\n",
    "\n",
    "@tf.function\n",
    "def opt_step(tf_halocat, pkref):\n",
    "    with tf.GradientTape() as tape:\n",
    "        _, pkr = pk(sample(tf_halocat, logM, sig_logM, 11.38, logM1, alpha),\n",
    "             shape=rho[0].shape, \n",
    "             boxsize= np.array([64,64,64]), # WARNING: That's not the right size\n",
    "             kmin=0.1,dk=.05)\n",
    "        loss = tf.reduce_sum((pkr - pkref)**2/diag_std**2)\n",
    "\n",
    "    grads = tape.gradient(loss, [logM, sig_logM, logM1, alpha])\n",
    "    alpha.assign_sub(learning_rate*grads[3])\n",
    "    logM1.assign_sub(learning_rate*grads[2]);\n",
    "    logM.assign_sub(learning_rate*grads[0]);\n",
    "    sig_logM.assign_sub(learning_rate*grads[1]);\n",
    "    return loss"
   ]
  },
  {
   "cell_type": "code",
   "execution_count": null,
   "metadata": {
    "scrolled": true
   },
   "outputs": [
    {
     "name": "stdout",
     "output_type": "stream",
     "text": [
      "Tensor(\"Pow:0\", shape=(), dtype=float32)\n"
     ]
    }
   ],
   "source": [
    "for i in range(1000):\n",
    "    loss = opt_step(tf_halocat, pkr2)\n",
    "#    print('loss', loss.numpy())"
   ]
  },
  {
   "cell_type": "code",
   "execution_count": null,
   "metadata": {},
   "outputs": [],
   "source": [
    "#true values: 12.02, 0.26,  13.31, 1.06 \n",
    "#starting values: 12.5,0.5,10.38,13.01,1.6\n",
    "logM, sig_logM, logM0, logM1, alpha"
   ]
  },
  {
   "cell_type": "code",
   "execution_count": null,
   "metadata": {},
   "outputs": [],
   "source": [
    "#much closer to true values than starting values! :D"
   ]
  },
  {
   "cell_type": "code",
   "execution_count": 61,
   "metadata": {},
   "outputs": [
    {
     "name": "stderr",
     "output_type": "stream",
     "text": [
      "<ipython-input-22-5ab92cad888c>:14: DeprecationWarning: Calling np.sum(generator) is deprecated, and in the future will give a different result. Use np.sum(np.fromiter(generator)) or the python sum builtin instead.\n",
      "  kmag = sum(ki ** 2 for ki in k) ** 0.5\n"
     ]
    },
    {
     "data": {
      "text/plain": [
       "<matplotlib.legend.Legend at 0x7f90f831bc40>"
      ]
     },
     "execution_count": 61,
     "metadata": {},
     "output_type": "execute_result"
    },
    {
     "data": {
      "image/png": "[encoded data removed]",
      "text/plain": [
       "<Figure size 432x288 with 1 Axes>"
      ]
     },
     "metadata": {
      "needs_background": "light"
     },
     "output_type": "display_data"
    }
   ],
   "source": [
    "_, pkr = pk(sample(tf_halocat, logM, sig_logM, logM0, logM1, alpha),\n",
    "     shape=rho[0].shape, \n",
    "     boxsize= np.array([64,64,64]), # WARNING: That's not the right size\n",
    "     kmin=0.1,dk=.05)\n",
    "\n",
    "loglog(k1,pkr2[0], label='data')\n",
    "loglog(k1,pkr2[0]-diag_std[0], '--', color='C0')\n",
    "loglog(k1,pkr2[0]+diag_std[0], '--', color='C0')\n",
    "\n",
    "loglog(k2,pkr[0], label='rec')\n",
    "legend()"
   ]
  },
  {
   "cell_type": "code",
   "execution_count": 65,
   "metadata": {},
   "outputs": [
    {
     "ename": "TypeError",
     "evalue": "'tensorflow.python.framework.ops.EagerTensor' object is not callable",
     "output_type": "error",
     "traceback": [
      "\u001b[0;31m---------------------------------------------------------------------------\u001b[0m",
      "\u001b[0;31mTypeError\u001b[0m                                 Traceback (most recent call last)",
      "\u001b[0;32m<ipython-input-65-6eee63e340b8>\u001b[0m in \u001b[0;36m<module>\u001b[0;34m\u001b[0m\n\u001b[1;32m      1\u001b[0m \u001b[0;31m#quick example showing large sample... use this for covariance estimation? might be just as slow with the map_fn\u001b[0m\u001b[0;34m\u001b[0m\u001b[0;34m\u001b[0m\u001b[0;34m\u001b[0m\u001b[0m\n\u001b[1;32m      2\u001b[0m \u001b[0;34m\u001b[0m\u001b[0m\n\u001b[0;32m----> 3\u001b[0;31m k, pko = pk(sample(tf_halocat, tf.Variable(np.ones(10)*logM,dtype=float32), tf.Variable(sig_logM,dtype=float32), tf.Variable(logM0,dtype=float32), tf.Variable(logM1,dtype=float32), tf.Variable(alpha,dtype=float32)),shape=rho[0].shape, \n\u001b[0m\u001b[1;32m      4\u001b[0m      \u001b[0mboxsize\u001b[0m\u001b[0;34m=\u001b[0m \u001b[0mnp\u001b[0m\u001b[0;34m.\u001b[0m\u001b[0marray\u001b[0m\u001b[0;34m(\u001b[0m\u001b[0;34m[\u001b[0m\u001b[0;36m64\u001b[0m\u001b[0;34m,\u001b[0m\u001b[0;36m64\u001b[0m\u001b[0;34m,\u001b[0m\u001b[0;36m64\u001b[0m\u001b[0;34m]\u001b[0m\u001b[0;34m)\u001b[0m\u001b[0;34m,\u001b[0m \u001b[0;31m# WARNING: That's not the right size\u001b[0m\u001b[0;34m\u001b[0m\u001b[0;34m\u001b[0m\u001b[0m\n\u001b[1;32m      5\u001b[0m      kmin=0.1,dk=.05)\n",
      "\u001b[0;31mTypeError\u001b[0m: 'tensorflow.python.framework.ops.EagerTensor' object is not callable"
     ]
    }
   ],
   "source": [
    "#quick example showing large sample... use this for covariance estimation? might be just as slow with the map_fn\n",
    "\n",
    "k, pko = pk(sample(tf_halocat, tf.Variable(np.ones(10)*logM,dtype=float32), tf.Variable(sig_logM,dtype=float32), tf.Variable(logM0,dtype=float32), tf.Variable(logM1,dtype=float32), tf.Variable(alpha,dtype=float32)),shape=rho[0].shape, \n",
    "     boxsize= np.array([64,64,64]), # WARNING: That's not the right size\n",
    "     kmin=0.1,dk=.05)"
   ]
  },
  {
   "cell_type": "code",
   "execution_count": null,
   "metadata": {},
   "outputs": [],
   "source": []
  }
 ],
 "metadata": {
  "kernelspec": {
   "display_name": "dhod2",
   "language": "python",
   "name": "dhod2"
  },
  "language_info": {
   "codemirror_mode": {
    "name": "ipython",
    "version": 3
   },
   "file_extension": ".py",
   "mimetype": "text/x-python",
   "name": "python",
   "nbconvert_exporter": "python",
   "pygments_lexer": "ipython3",
   "version": "3.8.3"
  }
 },
 "nbformat": 4,
 "nbformat_minor": 4
}
