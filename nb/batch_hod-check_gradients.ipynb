{
 "cells": [
  {
   "cell_type": "code",
   "execution_count": 1,
   "metadata": {},
   "outputs": [
    {
     "name": "stdout",
     "output_type": "stream",
     "text": [
      "Fri Apr  2 03:23:15 2021       \n",
      "+-----------------------------------------------------------------------------+\n",
      "| NVIDIA-SMI 440.33.01    Driver Version: 440.33.01    CUDA Version: 10.2     |\n",
      "|-------------------------------+----------------------+----------------------+\n",
      "| GPU  Name        Persistence-M| Bus-Id        Disp.A | Volatile Uncorr. ECC |\n",
      "| Fan  Temp  Perf  Pwr:Usage/Cap|         Memory-Usage | GPU-Util  Compute M. |\n",
      "|===============================+======================+======================|\n",
      "|   0  GeForce RTX 208...  Off  | 00000000:1A:00.0 Off |                  N/A |\n",
      "| 16%   33C    P8    11W / 250W |      0MiB / 11019MiB |      0%      Default |\n",
      "+-------------------------------+----------------------+----------------------+\n",
      "|   1  GeForce RTX 208...  Off  | 00000000:1B:00.0 Off |                  N/A |\n",
      "| 16%   37C    P8    24W / 250W |      0MiB / 11019MiB |      0%      Default |\n",
      "+-------------------------------+----------------------+----------------------+\n",
      "|   2  Tesla V100-PCIE...  Off  | 00000000:1F:00.0 Off |                    0 |\n",
      "| N/A   46C    P0    43W / 250W |      0MiB / 32510MiB |      0%      Default |\n",
      "+-------------------------------+----------------------+----------------------+\n",
      "|   3  Tesla V100-PCIE...  Off  | 00000000:20:00.0 Off |                    0 |\n",
      "| N/A   46C    P0    38W / 250W |  30787MiB / 32510MiB |      0%      Default |\n",
      "+-------------------------------+----------------------+----------------------+\n",
      "|   4  Tesla V100-PCIE...  Off  | 00000000:21:00.0 Off |                    0 |\n",
      "| N/A   44C    P0    36W / 250W |  30841MiB / 32510MiB |      0%      Default |\n",
      "+-------------------------------+----------------------+----------------------+\n",
      "|   5  Tesla V100-PCIE...  Off  | 00000000:22:00.0 Off |                    0 |\n",
      "| N/A   45C    P0    36W / 250W |  30793MiB / 32510MiB |      0%      Default |\n",
      "+-------------------------------+----------------------+----------------------+\n",
      "|   6  GeForce RTX 208...  Off  | 00000000:23:00.0 Off |                  N/A |\n",
      "| 16%   36C    P8    23W / 250W |      0MiB / 11019MiB |      0%      Default |\n",
      "+-------------------------------+----------------------+----------------------+\n",
      "|   7  GeForce RTX 208...  Off  | 00000000:24:00.0 Off |                  N/A |\n",
      "| 16%   36C    P8    10W / 250W |      0MiB / 11019MiB |      0%      Default |\n",
      "+-------------------------------+----------------------+----------------------+\n",
      "                                                                               \n",
      "+-----------------------------------------------------------------------------+\n",
      "| Processes:                                                       GPU Memory |\n",
      "|  GPU       PID   Type   Process name                             Usage      |\n",
      "|=============================================================================|\n",
      "|    3     91472      C   ...rowitz/miniconda3/envs/dhod2/bin/python 30759MiB |\n",
      "|    4    133287      C   ...rowitz/miniconda3/envs/dhod2/bin/python 30827MiB |\n",
      "|    5    132210      C   ...rowitz/miniconda3/envs/dhod2/bin/python 30759MiB |\n",
      "+-----------------------------------------------------------------------------+\n"
     ]
    }
   ],
   "source": [
    "#figuring out which GPU to use...\n",
    "!nvidia-smi"
   ]
  },
  {
   "cell_type": "code",
   "execution_count": 2,
   "metadata": {},
   "outputs": [],
   "source": [
    "import os\n",
    "\n",
    "#using GPU, comment out if on CPU\n",
    "os.environ['CUDA_DEVICE_ORDER'] = 'PCI_BUS_ID'\n",
    "os.environ['CUDA_VISIBLE_DEVICES'] = \"2\"\n"
   ]
  },
  {
   "cell_type": "code",
   "execution_count": 3,
   "metadata": {},
   "outputs": [
    {
     "name": "stdout",
     "output_type": "stream",
     "text": [
      "batch mode...\n",
      "Populating the interactive namespace from numpy and matplotlib\n"
     ]
    },
    {
     "name": "stderr",
     "output_type": "stream",
     "text": [
      "/home/ben.horowitz/miniconda3/envs/dhod2/lib/python3.8/site-packages/diffhod-0.1-py3.8.egg/diffhod/components.py:8: UserWarning: tfp.edward2 module is deprecated and will be removed on 2019-12-01. Use https://github.com/google/edward2 library instead.\n"
     ]
    }
   ],
   "source": [
    "%load_ext autoreload\n",
    "%autoreload 2\n",
    "\n",
    "from halotools.sim_manager import CachedHaloCatalog\n",
    "from halotools.empirical_models import PrebuiltHodModelFactory\n",
    "from halotools.mock_observables.two_point_clustering import tpcf\n",
    "from halotools.mock_observables import return_xyz_formatted_array\n",
    "\n",
    "from tensorflow_probability import edward2 as ed\n",
    "\n",
    "import diffhod\n",
    "\n",
    "from diffhod.components import Zheng07Cens, Zheng07SatsRelaxedBernoulli, Zheng07SatsPoisson,NFWProfile\n",
    "\n",
    "#from flowpm.utils import cic_paint\n",
    "import tensorflow as tf\n",
    "\n",
    "%pylab inline"
   ]
  },
  {
   "cell_type": "code",
   "execution_count": 4,
   "metadata": {},
   "outputs": [
    {
     "data": {
      "text/plain": [
       "'2.2.0'"
      ]
     },
     "execution_count": 4,
     "metadata": {},
     "output_type": "execute_result"
    }
   ],
   "source": [
    "tf.__version__"
   ]
  },
  {
   "cell_type": "code",
   "execution_count": 5,
   "metadata": {},
   "outputs": [],
   "source": [
    "#TF2 compatable painter\n",
    "@tf.function#(experimental_relax_shapes=True)\n",
    "def cic_paint(mesh, part, weight=None, name=\"CiCPaint\"):\n",
    "  \"\"\"\n",
    "  Paints particules on a 3D mesh.\n",
    "  Parameters:\n",
    "  -----------\n",
    "  mesh: tensor (batch_size, nc, nc, nc)\n",
    "    Input 3D mesh tensor\n",
    "  part: tensor (batch_size, npart, 3)\n",
    "    List of 3D particle coordinates, assumed to be in mesh units if\n",
    "    boxsize is None\n",
    "  weight: tensor (batch_size, npart)\n",
    "    List of weights  for each particle\n",
    "  \"\"\"\n",
    "  with tf.name_scope(name):\n",
    "    mesh = tf.convert_to_tensor(mesh, name=\"mesh\")\n",
    "    part = tf.convert_to_tensor(part, name=\"part\")\n",
    "    if weight is not None:\n",
    "      weight = tf.convert_to_tensor(weight, name=\"weight\")\n",
    "\n",
    "    shape = tf.shape(mesh)\n",
    "    batch_size, nx, ny, nz = shape[0], shape[1], shape[2], shape[3]\n",
    "    nc = nz\n",
    "\n",
    "    # Flatten part if it's not already done\n",
    "    if len(part.shape) > 3:\n",
    "      part = tf.reshape(part, (batch_size, -1, 3))\n",
    "\n",
    "    # Extract the indices of all the mesh points affected by each particles\n",
    "    part = tf.expand_dims(part, 2)\n",
    "    floor = tf.floor(part)\n",
    "    connection = tf.expand_dims(tf.constant([[[0, 0, 0], [1., 0, 0],[0., 1, 0],\n",
    "                                              [0., 0, 1],[1., 1, 0],[1., 0, 1],\n",
    "                                              [0., 1, 1],[1., 1, 1]]]), 0)\n",
    "\n",
    "    neighboor_coords = floor + connection\n",
    "    kernel = 1. - tf.abs(part - neighboor_coords)\n",
    "    # Replacing the reduce_prod op by manual multiplication\n",
    "    # TODO: figure out why reduce_prod was crashing the Hessian computation\n",
    "    kernel = kernel[..., 0] * kernel[..., 1] * kernel[..., 2]\n",
    "\n",
    "    if weight is not None: kernel = tf.multiply(tf.expand_dims(weight, axis=-1) , kernel)\n",
    "\n",
    "    neighboor_coords = tf.cast(neighboor_coords, tf.int32)\n",
    "    neighboor_coords = tf.math.mod(neighboor_coords , nc)\n",
    "\n",
    "    # Adding batch dimension to the neighboor coordinates\n",
    "    batch_idx = tf.range(0, batch_size)\n",
    "    batch_idx = tf.reshape(batch_idx, (batch_size, 1, 1, 1))\n",
    "    b = tf.tile(batch_idx, [1] + list(neighboor_coords.get_shape()[1:-1]) + [1])\n",
    "    neighboor_coords = tf.concat([b, neighboor_coords], axis=-1)\n",
    "\n",
    "    update = tf.scatter_nd(tf.reshape(neighboor_coords, (-1, 8,4)),tf.reshape(kernel, (-1, 8)),[batch_size, nx, ny, nz])\n",
    "    mesh = mesh + update\n",
    "    return mesh\n"
   ]
  },
  {
   "cell_type": "code",
   "execution_count": 6,
   "metadata": {},
   "outputs": [],
   "source": [
    "def _initialize_pk(shape,boxsize,kmin,dk):\n",
    "    \"\"\"\n",
    "       Helper function to initialize various (fixed) values for powerspectra... not differentiable!\n",
    "    \"\"\"\n",
    "    I = np.eye(len(shape), dtype='int') * -2 + 1\n",
    "\n",
    "    W = np.empty(shape, dtype='f4')\n",
    "    W[...] = 2.0\n",
    "    W[..., 0] = 1.0\n",
    "    W[..., -1] = 1.0\n",
    "    kedges = np.arange(kmin, np.pi * 3 / 2 + dk/2, dk)\n",
    "\n",
    "    k = [np.fft.fftfreq(N, 1. / (N * 4 * np.pi / L))[:pkshape].reshape(kshape) for N, L, kshape, pkshape in zip(shape, boxsize, I, shape)]\n",
    "    kmag = sum(ki ** 2 for ki in k) ** 0.5\n",
    "\n",
    "    xsum = np.zeros(len(kedges) + 1)\n",
    "    Nsum = np.zeros(len(kedges) + 1)\n",
    "\n",
    "    dig = np.digitize(kmag.flat, kedges)\n",
    "\n",
    "    xsum.flat += np.bincount(dig, weights=(W * kmag).flat, minlength=xsum.size)\n",
    "    Nsum.flat += np.bincount(dig, weights=W.flat, minlength=xsum.size)\n",
    "    dig = tf.convert_to_tensor(dig,dtype=tf.int32)\n",
    "    Nsum = tf.convert_to_tensor(Nsum,dtype=tf.complex64)\n",
    "    xsum = tf.convert_to_tensor(np.array(xsum))\n",
    "    W = tf.convert_to_tensor(np.array(W))\n",
    "    k = np.array(k)\n",
    "    kedges = tf.convert_to_tensor(np.array(kedges))\n",
    "    return dig, Nsum, xsum, W,  kedges\n",
    "\n"
   ]
  },
  {
   "cell_type": "code",
   "execution_count": 7,
   "metadata": {},
   "outputs": [
    {
     "name": "stderr",
     "output_type": "stream",
     "text": [
      "<ipython-input-6-485e7905a0ba>:14: DeprecationWarning: Calling np.sum(generator) is deprecated, and in the future will give a different result. Use np.sum(np.fromiter(generator)) or the python sum builtin instead.\n",
      "  kmag = sum(ki ** 2 for ki in k) ** 0.5\n",
      "<ipython-input-6-485e7905a0ba>:27: VisibleDeprecationWarning: Creating an ndarray from ragged nested sequences (which is a list-or-tuple of lists-or-tuples-or ndarrays with different lengths or shapes) is deprecated. If you meant to do this, you must specify 'dtype=object' when creating the ndarray\n",
      "  k = np.array(k)\n"
     ]
    }
   ],
   "source": [
    "#updated pk for batch mode...\n",
    "dig, Nsum, xsum, W,  kedges = _initialize_pk(np.array([32,32,32]),np.array([64,64,64]),0.045,.049)\n",
    "\n",
    "@tf.function\n",
    "def pk(field,dig=dig, Nsum=Nsum, xsum=xsum, W=W,  kedges=kedges,kmin=5,dk=0.8):  \n",
    "    print(\"traced!\")\n",
    "    \"\"\"\n",
    "    Calculate the powerspectra given real space field\n",
    "    \n",
    "    Args:\n",
    "        \n",
    "        field: real valued field \n",
    "        kmin: minimum k-value for binned powerspectra\n",
    "        dk: differential in each kbin\n",
    "        shape: shape of field to calculate field (can be strangely shaped?)\n",
    "        boxsize: length of each boxlength (can be strangly shaped?)\n",
    "    \n",
    "    Returns:\n",
    "        \n",
    "        kbins: the central value of the bins for plotting\n",
    "        power: real valued array of power in each bin\n",
    "        \n",
    "    \"\"\"\n",
    "     \n",
    "    bs = field.shape[0] #batch size\n",
    "    #print(np.sum(bs))\n",
    "    #dig, Nsum, xsum, W, k, kedges = _initialize_pk(shape,boxsize,kmin,dk)\n",
    "\n",
    "    #convert field to complex for fft\n",
    "    field_complex = tf.dtypes.cast(field,dtype=tf.complex64)\n",
    "\n",
    "    #fast fourier transform\n",
    "    fft_image = tf.map_fn(tf.signal.fft3d, field_complex)#, dtype=None, parallel_iterations=None, back_prop=True,\n",
    "    #swap_memory=False, infer_shape=True, name=None\n",
    "    #)\n",
    "\n",
    "\n",
    "    #absolute value of fast fourier transform\n",
    "    pk = tf.math.real(fft_image*tf.math.conj(fft_image))\n",
    "    #calculating powerspectra\n",
    "    Psum = tf.zeros(tf.size(kedges) + 1, dtype=tf.complex64)\n",
    "    real = tf.reshape(tf.math.real(pk),[bs,-1,])\n",
    "    imag = tf.reshape(tf.math.imag(pk),[bs,-1,])\n",
    "\n",
    "\n",
    "    #def bincount func\n",
    "    @tf.function\n",
    "    def bincount(x):\n",
    "        return tf.math.bincount(dig, weights=(tf.reshape(W,[-1])  * x), minlength=tf.size(xsum))\n",
    "    #Psum1 = tf.dtypes.cast(tf.vectorized_map(bincount, imag),dtype=tf.complex64)*1j\n",
    "    #Psum2 = tf.dtypes.cast(tf.vectorized_map(bincount, real),dtype=tf.complex64)\n",
    "    Psum1 = tf.dtypes.cast(tf.map_fn(\n",
    "     bincount, imag, dtype=None, parallel_iterations=None, back_prop=True,\n",
    "     swap_memory=False, infer_shape=True, name=None\n",
    "     ),dtype=tf.complex64)*1j\n",
    "\n",
    "    Psum2 = tf.dtypes.cast(tf.map_fn(\n",
    "     bincount, real, dtype=None, parallel_iterations=None, back_prop=True,\n",
    "     swap_memory=False, infer_shape=True, name=None\n",
    "     ),dtype=tf.complex64)\n",
    "\n",
    "\n",
    "    power = ((Psum + Psum1+Psum2)/ Nsum)[:,1:-1]* tf.cast(64**3,dtype=complex64)\n",
    "\n",
    "    #normalization for powerspectra\n",
    "    norm = tf.dtypes.cast(32**3,dtype=tf.float32)**2\n",
    "\n",
    "    #find central values of each bin\n",
    "    kbins = kedges[:-1]+ (kedges[1:] - kedges[:-1])/2\n",
    "\n",
    "    return kbins,tf.dtypes.cast(power,dtype=tf.float32)/norm"
   ]
  },
  {
   "cell_type": "code",
   "execution_count": 8,
   "metadata": {},
   "outputs": [],
   "source": [
    "# Load a reference halo catalog\n",
    "halocat = CachedHaloCatalog(simname = 'bolshoi', redshift=0.) \n",
    "\n",
    "# Removing subhalos and convert table to tensors\n",
    "halo_table = halocat.halo_table\n",
    "halo_table = halo_table[halo_table['halo_pid'] == -1]\n",
    "halo_table = halo_table[halo_table['halo_x'] < 128]\n",
    "halo_table = halo_table[halo_table['halo_y'] < 128]\n",
    "halo_table = halo_table[halo_table['halo_z'] < 128]\n",
    "\n",
    "tf_halocat = {k: tf.stop_gradient(tf.convert_to_tensor(halo_table[k], dtype=tf.float32)) for k in halo_table.colnames}\n",
    "\n"
   ]
  },
  {
   "cell_type": "code",
   "execution_count": 9,
   "metadata": {},
   "outputs": [],
   "source": [
    "# We first load our reference halotools model\n",
    "zheng07_model = PrebuiltHodModelFactory('zheng07', redshift =-0, \n",
    "                                        modulate_with_cenocc=True)"
   ]
  },
  {
   "cell_type": "code",
   "execution_count": 10,
   "metadata": {},
   "outputs": [
    {
     "data": {
      "text/plain": [
       "{'logMmin': 12.02,\n",
       " 'sigma_logM': 0.26,\n",
       " 'logM0': 11.38,\n",
       " 'logM1': 13.31,\n",
       " 'alpha': 1.06}"
      ]
     },
     "execution_count": 10,
     "metadata": {},
     "output_type": "execute_result"
    }
   ],
   "source": [
    "# Let's see what are the parameters of the model\n",
    "zheng07_model.param_dict"
   ]
  },
  {
   "cell_type": "code",
   "execution_count": 11,
   "metadata": {},
   "outputs": [],
   "source": [
    "zheng07_model.populate_mock(halocat)"
   ]
  },
  {
   "cell_type": "code",
   "execution_count": 12,
   "metadata": {},
   "outputs": [],
   "source": [
    "# Here is how we define the same model in diffhod\n",
    "@tf.function\n",
    "def hod(halo_cat, logMmin, sigma_logM, logM0, logM1, alpha, max_sat=34, temp=0.01,bs=10):\n",
    "  ### Occupation model ###\n",
    "  n_cen = Zheng07Cens(halo_cat['halo_mvir'],\n",
    "                      sigma_logM=sigma_logM,\n",
    "                      logMmin=logMmin,\n",
    "                      temperature=temp)\n",
    "  n_sat = Zheng07SatsRelaxedBernoulli(halo_cat['halo_mvir'],\n",
    "                                      n_cen,\n",
    "                                      logM0=logM0,\n",
    "                                      logM1=logM1,\n",
    "                                      alpha=alpha,\n",
    "                                      sample_shape=(max_sat,),\n",
    "                                      temperature=temp)\n",
    "  \n",
    "  ### Phase Space model ###\n",
    "  # Centrals are just located at center of halo\n",
    "  pos_cen = ed.Deterministic(tf.stack([halo_cat['halo_x'],\n",
    "                                        halo_cat['halo_y'],\n",
    "                                        halo_cat['halo_z']], axis=-1))\n",
    "\n",
    "  # Satellites follow an NFW profile centered on halos\n",
    "  pos_sat = NFWProfile(pos=pos_cen,\n",
    "                        concentration=halo_cat['halo_nfw_conc'],\n",
    "                        Rvir=halo_cat['halo_rvir'],\n",
    "                        sample_shape=(max_sat,))\n",
    "  \n",
    "  return {'pos_cen':pos_cen,'n_cen':n_cen, 'pos_sat':pos_sat,  'n_sat':n_sat}"
   ]
  },
  {
   "cell_type": "code",
   "execution_count": 13,
   "metadata": {},
   "outputs": [],
   "source": [
    "#batch compatable painter\n",
    "@tf.function\n",
    "def paint_galaxies(gal_cat, nc=64):\n",
    "    # Take centrals and rescale them to the boxsize\n",
    "    \n",
    "    bs = gal_cat['n_sat'].shape[1]\n",
    "    \n",
    "    sample1 = gal_cat['pos_cen'] / 32. * nc\n",
    "    weights1 = gal_cat['n_cen']\n",
    "    # Take sats and rescale them to the boxize\n",
    "  \n",
    "    sample2 = tf.reshape(gal_cat['pos_sat'], [-1,3]) / 32. * nc\n",
    "    weights2 = tf.reshape(gal_cat['n_sat'],[bs,-1])\n",
    "    \n",
    "    sample1_r = tf.tile(tf.expand_dims(sample1,0),[bs,1,1])\n",
    "    print(sample1_r.shape,weights1.shape)\n",
    "    rho1 = cic_paint(tf.zeros((bs, nc, nc, nc)),sample1_r, weights1)\n",
    "    sample2_r = tf.tile(tf.expand_dims(sample2,0),[bs,1,1])\n",
    "    print(sample2_r.shape,weights2.shape)\n",
    "\n",
    "    rho2 = cic_paint(tf.zeros((bs, nc, nc, nc)),sample2_r, weights2)\n",
    "    rho = rho1+rho2\n",
    "    return rho"
   ]
  },
  {
   "cell_type": "code",
   "execution_count": 14,
   "metadata": {},
   "outputs": [],
   "source": [
    "# sampling galaxies from the model, with given params\n",
    "@tf.function\n",
    "def sample(halo_cat, logMmin, sigma_logM, logM0, logM1, alpha):\n",
    "    return paint_galaxies(hod(halo_cat,logMmin, sigma_logM, logM0, logM1, alpha))"
   ]
  },
  {
   "cell_type": "code",
   "execution_count": 15,
   "metadata": {},
   "outputs": [
    {
     "name": "stdout",
     "output_type": "stream",
     "text": [
      "Tensor(\"Pow:0\", shape=(3,), dtype=float32)\n",
      "WARNING:tensorflow:From /home/ben.horowitz/miniconda3/envs/dhod2/lib/python3.8/site-packages/diffhod-0.1-py3.8.egg/diffhod/components.py:56: AffineScalar.__init__ (from tensorflow_probability.python.bijectors.affine_scalar) is deprecated and will be removed after 2020-01-01.\n",
      "Instructions for updating:\n",
      "`AffineScalar` bijector is deprecated; please use `tfb.Shift(loc)(tfb.Scale(...))` instead.\n",
      "(3, 139905, 3) (3, 139905)\n",
      "(3, 4756770, 3) (3, 4756770)\n"
     ]
    }
   ],
   "source": [
    "#check all variables for batch-ness\n",
    "\n",
    "rho = sample(tf_halocat,tf.Variable([15.02,11.0,10.02]), tf.Variable([0.26,0.22,0.40]), tf.Variable([10.0,11.,13.0]), tf.Variable([10.31,12.0,13.0]), tf.Variable([1.06,1.06,1.06]))\n",
    "                                                                                                     \n",
    "np.save(\"rho\",rho)                                                                                        "
   ]
  },
  {
   "cell_type": "code",
   "execution_count": 16,
   "metadata": {},
   "outputs": [
    {
     "name": "stderr",
     "output_type": "stream",
     "text": [
      "<ipython-input-6-485e7905a0ba>:14: DeprecationWarning: Calling np.sum(generator) is deprecated, and in the future will give a different result. Use np.sum(np.fromiter(generator)) or the python sum builtin instead.\n",
      "  kmag = sum(ki ** 2 for ki in k) ** 0.5\n",
      "<ipython-input-6-485e7905a0ba>:27: VisibleDeprecationWarning: Creating an ndarray from ragged nested sequences (which is a list-or-tuple of lists-or-tuples-or ndarrays with different lengths or shapes) is deprecated. If you meant to do this, you must specify 'dtype=object' when creating the ndarray\n",
      "  k = np.array(k)\n"
     ]
    },
    {
     "name": "stdout",
     "output_type": "stream",
     "text": [
      "traced!\n"
     ]
    }
   ],
   "source": [
    "dig, Nsum, xsum, W,  kedges = _initialize_pk(np.array([64,64,64]),np.array([128,128,128]),0.045,.049)\n",
    "\n",
    "k2, pkr2 = pk(rho, tf.constant(dig), tf.constant(Nsum), tf.constant(xsum), tf.constant(W),  tf.constant(kedges),\n",
    "         kmin=tf.constant(0.045),dk=tf.constant(.049))"
   ]
  },
  {
   "cell_type": "code",
   "execution_count": 17,
   "metadata": {},
   "outputs": [
    {
     "data": {
      "text/plain": [
       "(<tf.Tensor: shape=(3, 95), dtype=float32, numpy=\n",
       " array([[           nan, 9.20492096e+01, 1.15071877e+02, 4.29729919e+01,\n",
       "         3.43784599e+01, 3.85165634e+01, 3.62604904e+01, 2.72770672e+01,\n",
       "         3.19876080e+01, 2.57034359e+01, 2.28798485e+01, 1.97900925e+01,\n",
       "         2.18934193e+01, 2.10158405e+01, 1.94413700e+01, 1.89628563e+01,\n",
       "         2.04496784e+01, 1.89376163e+01, 1.89026127e+01, 1.72370567e+01,\n",
       "         1.65822353e+01, 1.49961500e+01, 1.53626766e+01, 1.51135511e+01,\n",
       "         1.34376926e+01, 1.31571198e+01, 1.25608730e+01, 1.15571947e+01,\n",
       "         1.10134106e+01, 1.07575989e+01, 1.00270519e+01, 1.04231052e+01,\n",
       "         8.79076099e+00, 9.09640408e+00, 8.77541542e+00, 7.98340082e+00,\n",
       "         7.77860546e+00, 7.15563679e+00, 7.16990423e+00, 6.40568161e+00,\n",
       "         6.30154848e+00, 6.32531309e+00, 5.91827536e+00, 5.56289053e+00,\n",
       "         5.29659605e+00, 4.84156370e+00, 4.41869926e+00, 4.48385906e+00,\n",
       "         4.07686138e+00, 4.04239130e+00, 3.75288534e+00, 3.55471206e+00,\n",
       "         3.50118041e+00, 3.08980632e+00, 3.11398339e+00, 2.87436604e+00,\n",
       "         2.69688773e+00, 2.60012341e+00, 2.42763519e+00, 2.36232138e+00,\n",
       "         2.20039415e+00, 2.09973097e+00, 2.07448125e+00, 1.95388103e+00,\n",
       "         1.80865359e+00, 1.74498749e+00, 1.59240615e+00, 1.48104370e+00,\n",
       "         1.45053482e+00, 1.39372718e+00, 1.25097120e+00, 1.21857357e+00,\n",
       "         1.15153491e+00, 1.08602297e+00, 1.03271401e+00, 9.54754174e-01,\n",
       "         9.15104747e-01, 8.06182981e-01, 8.44647348e-01, 7.59148955e-01,\n",
       "         7.00191736e-01, 6.79917991e-01, 6.29782557e-01, 6.48178637e-01,\n",
       "         6.14568055e-01, 5.54285169e-01, 5.25892377e-01, 5.29716909e-01,\n",
       "         4.65426236e-01, 4.36368585e-01, 4.13129538e-01, 3.89882892e-01,\n",
       "         3.45959544e-01, 3.55932862e-01, 3.10349673e-01],\n",
       "        [           nan, 1.15125134e+03, 1.03002258e+03, 2.98840851e+02,\n",
       "         2.28451401e+02, 2.00198151e+02, 1.91440842e+02, 1.49056229e+02,\n",
       "         1.35533234e+02, 1.06505501e+02, 8.90776443e+01, 7.62899628e+01,\n",
       "         8.60697632e+01, 6.94870834e+01, 6.71393967e+01, 6.37514038e+01,\n",
       "         6.59548111e+01, 6.10207863e+01, 6.22488098e+01, 5.17481422e+01,\n",
       "         5.41591034e+01, 4.71965446e+01, 4.62840958e+01, 4.42680511e+01,\n",
       "         4.16615372e+01, 4.15100670e+01, 3.60826416e+01, 3.38396759e+01,\n",
       "         3.32283821e+01, 3.16085815e+01, 2.99598999e+01, 2.97885532e+01,\n",
       "         2.54060917e+01, 2.64898148e+01, 2.54734898e+01, 2.43130093e+01,\n",
       "         2.38254070e+01, 2.09986134e+01, 2.11328373e+01, 1.99338799e+01,\n",
       "         1.92044487e+01, 1.96069183e+01, 1.80104408e+01, 1.68172188e+01,\n",
       "         1.59253817e+01, 1.51020746e+01, 1.48208532e+01, 1.49089336e+01,\n",
       "         1.37619972e+01, 1.28522806e+01, 1.18299789e+01, 1.19623547e+01,\n",
       "         1.12753096e+01, 1.06926155e+01, 1.02687597e+01, 9.77755451e+00,\n",
       "         9.41137218e+00, 8.87840748e+00, 8.77409077e+00, 8.54358482e+00,\n",
       "         8.00885296e+00, 8.06396484e+00, 7.61738873e+00, 7.04089260e+00,\n",
       "         6.94750071e+00, 6.50325394e+00, 6.09171534e+00, 5.71771765e+00,\n",
       "         5.52678633e+00, 5.44373941e+00, 5.08746719e+00, 4.71084881e+00,\n",
       "         4.47519588e+00, 4.31873798e+00, 3.99962354e+00, 3.87770796e+00,\n",
       "         3.70625138e+00, 3.50602317e+00, 3.29601407e+00, 3.21164250e+00,\n",
       "         3.05241084e+00, 2.92737389e+00, 2.61138344e+00, 2.59330678e+00,\n",
       "         2.62037230e+00, 2.42989993e+00, 2.44208741e+00, 2.09631443e+00,\n",
       "         2.17070222e+00, 1.93217885e+00, 1.88551474e+00, 1.76212728e+00,\n",
       "         1.62786150e+00, 1.51381803e+00, 1.30541837e+00],\n",
       "        [           nan, 3.51822046e+03, 3.03874805e+03, 8.98039001e+02,\n",
       "         6.22324585e+02, 5.64866821e+02, 5.28008728e+02, 4.01485657e+02,\n",
       "         3.75708191e+02, 2.81541321e+02, 2.37374481e+02, 1.92511322e+02,\n",
       "         1.98632660e+02, 1.62991302e+02, 1.55176498e+02, 1.54477036e+02,\n",
       "         1.35713211e+02, 1.28927872e+02, 1.30391632e+02, 9.87655716e+01,\n",
       "         1.07721626e+02, 8.96743698e+01, 8.76034317e+01, 7.81159210e+01,\n",
       "         7.57048569e+01, 7.08691940e+01, 6.55201416e+01, 5.95674400e+01,\n",
       "         5.80961494e+01, 5.54774513e+01, 5.16615715e+01, 5.06254883e+01,\n",
       "         4.31229172e+01, 4.62453079e+01, 4.06183205e+01, 4.04655685e+01,\n",
       "         3.87954140e+01, 3.58461113e+01, 3.44924660e+01, 3.25431290e+01,\n",
       "         3.12226181e+01, 3.10625019e+01, 2.88054543e+01, 2.71498222e+01,\n",
       "         2.52868347e+01, 2.49902649e+01, 2.39796791e+01, 2.23985348e+01,\n",
       "         2.22758503e+01, 2.02993927e+01, 1.94023628e+01, 1.90880070e+01,\n",
       "         1.76387539e+01, 1.70758305e+01, 1.66328716e+01, 1.57997103e+01,\n",
       "         1.56340857e+01, 1.45754633e+01, 1.40194101e+01, 1.36215849e+01,\n",
       "         1.31729641e+01, 1.31967258e+01, 1.21994810e+01, 1.18246899e+01,\n",
       "         1.10863762e+01, 1.04043856e+01, 1.00532560e+01, 9.50142574e+00,\n",
       "         9.29643250e+00, 8.79231930e+00, 8.40606308e+00, 7.73577356e+00,\n",
       "         7.31511164e+00, 7.19746494e+00, 6.49169827e+00, 6.06440735e+00,\n",
       "         6.04655457e+00, 5.78138161e+00, 5.45406532e+00, 5.23637009e+00,\n",
       "         4.98660946e+00, 4.93545008e+00, 4.51070213e+00, 4.47484541e+00,\n",
       "         4.27826452e+00, 4.16666317e+00, 3.91403842e+00, 3.67103791e+00,\n",
       "         3.73804188e+00, 3.36742496e+00, 3.05794549e+00, 2.96448660e+00,\n",
       "         2.70872355e+00, 2.74535489e+00, 2.41045737e+00]], dtype=float32)>,\n",
       " <tf.Tensor: shape=(95,), dtype=float64, numpy=\n",
       " array([0.0695, 0.1185, 0.1675, 0.2165, 0.2655, 0.3145, 0.3635, 0.4125,\n",
       "        0.4615, 0.5105, 0.5595, 0.6085, 0.6575, 0.7065, 0.7555, 0.8045,\n",
       "        0.8535, 0.9025, 0.9515, 1.0005, 1.0495, 1.0985, 1.1475, 1.1965,\n",
       "        1.2455, 1.2945, 1.3435, 1.3925, 1.4415, 1.4905, 1.5395, 1.5885,\n",
       "        1.6375, 1.6865, 1.7355, 1.7845, 1.8335, 1.8825, 1.9315, 1.9805,\n",
       "        2.0295, 2.0785, 2.1275, 2.1765, 2.2255, 2.2745, 2.3235, 2.3725,\n",
       "        2.4215, 2.4705, 2.5195, 2.5685, 2.6175, 2.6665, 2.7155, 2.7645,\n",
       "        2.8135, 2.8625, 2.9115, 2.9605, 3.0095, 3.0585, 3.1075, 3.1565,\n",
       "        3.2055, 3.2545, 3.3035, 3.3525, 3.4015, 3.4505, 3.4995, 3.5485,\n",
       "        3.5975, 3.6465, 3.6955, 3.7445, 3.7935, 3.8425, 3.8915, 3.9405,\n",
       "        3.9895, 4.0385, 4.0875, 4.1365, 4.1855, 4.2345, 4.2835, 4.3325,\n",
       "        4.3815, 4.4305, 4.4795, 4.5285, 4.5775, 4.6265, 4.6755])>)"
      ]
     },
     "execution_count": 17,
     "metadata": {},
     "output_type": "execute_result"
    }
   ],
   "source": [
    "pkr2,k2"
   ]
  },
  {
   "cell_type": "markdown",
   "metadata": {},
   "source": [
    "## Stuff from Chang"
   ]
  },
  {
   "cell_type": "code",
   "execution_count": 18,
   "metadata": {},
   "outputs": [],
   "source": [
    "k_ht = np.load(\"k_arr.npy\")"
   ]
  },
  {
   "cell_type": "code",
   "execution_count": 19,
   "metadata": {},
   "outputs": [],
   "source": [
    "pk_ht = np.load(\"pk_fid.100.npy\")"
   ]
  },
  {
   "cell_type": "code",
   "execution_count": null,
   "metadata": {},
   "outputs": [],
   "source": []
  },
  {
   "cell_type": "code",
   "execution_count": 20,
   "metadata": {},
   "outputs": [
    {
     "data": {
      "text/plain": [
       "TensorShape([64, 64, 64])"
      ]
     },
     "execution_count": 20,
     "metadata": {},
     "output_type": "execute_result"
    }
   ],
   "source": [
    "rho[0].shape"
   ]
  },
  {
   "cell_type": "code",
   "execution_count": 21,
   "metadata": {},
   "outputs": [
    {
     "name": "stdout",
     "output_type": "stream",
     "text": [
      "Tensor(\"Pow:0\", shape=(), dtype=float32)\n",
      "(1, 139905, 3) (1, 139905)\n",
      "(1, 4756770, 3) (1, 4756770)\n"
     ]
    }
   ],
   "source": [
    "#fiducial model\n",
    "rho = sample(tf_halocat,12.02, 0.26, 11.38, 13.31, 01.006)"
   ]
  },
  {
   "cell_type": "code",
   "execution_count": 22,
   "metadata": {},
   "outputs": [
    {
     "name": "stdout",
     "output_type": "stream",
     "text": [
      "tf.Tensor(-2.844818051044029e-05, shape=(), dtype=float64)\n",
      "tf.Tensor(-0.0017603547523419028, shape=(), dtype=float64)\n",
      "tf.Tensor(-0.0008630323723742839, shape=(), dtype=float64)\n",
      "tf.Tensor(-0.001672585715850189, shape=(), dtype=float64)\n",
      "tf.Tensor(-0.0035855235588260204, shape=(), dtype=float64)\n",
      "tf.Tensor(-0.003248258265938775, shape=(), dtype=float64)\n",
      "tf.Tensor(-0.002536991999801952, shape=(), dtype=float64)\n",
      "tf.Tensor(-0.002452970683165523, shape=(), dtype=float64)\n",
      "tf.Tensor(-0.0032724668763271514, shape=(), dtype=float64)\n",
      "tf.Tensor(-0.003484447550878955, shape=(), dtype=float64)\n",
      "tf.Tensor(-0.0029180744788155355, shape=(), dtype=float64)\n",
      "tf.Tensor(-0.004133227309564114, shape=(), dtype=float64)\n",
      "tf.Tensor(-0.005289863373809989, shape=(), dtype=float64)\n",
      "tf.Tensor(-0.005608969823777898, shape=(), dtype=float64)\n",
      "tf.Tensor(-0.004925108420476776, shape=(), dtype=float64)\n",
      "tf.Tensor(-0.003955850011196693, shape=(), dtype=float64)\n",
      "tf.Tensor(-0.004069847597366727, shape=(), dtype=float64)\n",
      "tf.Tensor(-0.004651704492316444, shape=(), dtype=float64)\n",
      "tf.Tensor(-0.004877295911812962, shape=(), dtype=float64)\n"
     ]
    }
   ],
   "source": [
    "for i in range(19):\n",
    "    print(k2[i]-k_ht[i])"
   ]
  },
  {
   "cell_type": "code",
   "execution_count": 23,
   "metadata": {},
   "outputs": [
    {
     "data": {
      "text/plain": [
       "[<matplotlib.lines.Line2D at 0x7f3fdc147460>]"
      ]
     },
     "execution_count": 23,
     "metadata": {},
     "output_type": "execute_result"
    },
    {
     "data": {
      "image/png": "[encoded data removed]",
      "text/plain": [
       "<Figure size 432x288 with 1 Axes>"
      ]
     },
     "metadata": {
      "needs_background": "light"
     },
     "output_type": "display_data"
    }
   ],
   "source": [
    "for i in range(0,10):\n",
    "    plt.loglog(k_ht,pk_ht[i][:19])\n",
    "\n",
    "plt.loglog(k2,pkr2[0],\"r:\")\n"
   ]
  },
  {
   "cell_type": "code",
   "execution_count": 24,
   "metadata": {},
   "outputs": [],
   "source": [
    "bs=10\n",
    "#rho = sample(tf_halocat, 12.02*tf.ones(bs,dtype=float32), 0.26*tf.ones(bs,dtype=float32), 11.38*tf.ones(bs,dtype=float32), 13.31*tf.ones(bs,dtype=float32), 1.06*tf.ones(bs,dtype=float32) )\n",
    "\n",
    "@tf.function\n",
    "def get_pk(tf_halocat):\n",
    "   # tf.stop_gradient(tf_halocat)\n",
    "    rho = sample(tf_halocat, 12.02*tf.ones(bs,dtype=float32), 0.26*tf.ones(bs,dtype=float32), 11.38*tf.ones(bs,dtype=float32), 13.31*tf.ones(bs,dtype=float32), 1.06*tf.ones(bs,dtype=float32))\n",
    "    print(rho.shape)\n",
    "    k2, pkr = pk(rho, dig=tf.constant(dig), Nsum=tf.constant(Nsum), xsum=tf.constant(xsum), W=tf.constant(W),  kedges=tf.constant(kedges),\n",
    "\n",
    "         kmin=tf.constant(0.045),dk=tf.constant(.049))\n",
    "    \n",
    "    \n",
    "   # pk(sample(tf_halocat, 12.02*np.ones(bs,dtype=float32), 0.26*np.ones(bs,dtype=float32), 11.38*np.ones(bs,dtype=float32), 13.31*np.ones(bs,dtype=float32), 1.06*np.ones(bs,dtype=float32) ),\n",
    "   #      shape=rho[0].shape, \n",
    "    #     boxsize = np.array([64,64,64]), \n",
    "    #     kmin=0.045,dk=.049)\n",
    "    print(pkr.shape)\n",
    "    return pkr*300\n"
   ]
  },
  {
   "cell_type": "code",
   "execution_count": 25,
   "metadata": {},
   "outputs": [],
   "source": [
    "cov_pk = np.cov(pk_ht.T)\n",
    "cinv_pk = np.linalg.inv(cov_pk)"
   ]
  },
  {
   "cell_type": "code",
   "execution_count": 26,
   "metadata": {},
   "outputs": [
    {
     "data": {
      "text/plain": [
       "<matplotlib.image.AxesImage at 0x7f3fac7b4730>"
      ]
     },
     "execution_count": 26,
     "metadata": {},
     "output_type": "execute_result"
    },
    {
     "data": {
      "image/png": "[encoded data removed]",
      "text/plain": [
       "<Figure size 432x288 with 1 Axes>"
      ]
     },
     "metadata": {
      "needs_background": "light"
     },
     "output_type": "display_data"
    }
   ],
   "source": [
    "imshow(cinv_pk)"
   ]
  },
  {
   "cell_type": "code",
   "execution_count": 27,
   "metadata": {},
   "outputs": [],
   "source": [
    "pk_obs = np.mean(pk_ht, axis=0) # our \"observed P(k)\""
   ]
  },
  {
   "cell_type": "code",
   "execution_count": 28,
   "metadata": {},
   "outputs": [],
   "source": [
    "# Ok sweet, so now we can define these as a function of variables\n",
    "logM = tf.Variable(12.5)\n",
    "sig_logM = tf.Variable(0.5)\n",
    "logM0 = tf.Variable(11.38)\n",
    "logM1 = tf.Variable(13.01)\n",
    "alpha = tf.Variable(1.6)"
   ]
  },
  {
   "cell_type": "code",
   "execution_count": 29,
   "metadata": {},
   "outputs": [],
   "source": [
    "@tf.function\n",
    "def batch_func(x,avg_samp=1):\n",
    "    #for each set of parameters, we average over avg_samp runs\n",
    "        X = sample(tf_halocat, np.ones(avg_samp,dtype=np.float32)*x[0], np.ones(avg_samp,dtype=np.float32)*x[1], np.ones(avg_samp,dtype=np.float32)*x[2], np.ones(avg_samp,dtype=np.float32)*x[3], np.ones(avg_samp,dtype=np.float32)*x[4])\n",
    "        _, pkr = pk(X,#sample(tf_halocat, X[:,0], X[:,1], 11.38, X[:,2], X[:,3]),\n",
    "                 tf.constant(dig), tf.constant(Nsum), tf.constant(xsum), tf.constant(W),  tf.constant(kedges),\n",
    "        kmin=tf.constant(0.045),dk=tf.constant(.049))\n",
    "        return tf.reduce_mean(pkr*40,axis=0)[1:19]"
   ]
  },
  {
   "cell_type": "code",
   "execution_count": 30,
   "metadata": {},
   "outputs": [
    {
     "name": "stdout",
     "output_type": "stream",
     "text": [
      "Tensor(\"Pow:0\", shape=(1,), dtype=float32)\n",
      "traced!\n"
     ]
    },
    {
     "data": {
      "text/plain": [
       "<tf.Tensor: shape=(18,), dtype=float32, numpy=\n",
       "array([4269.1377 , 4289.339  , 1434.2361 , 1358.4252 , 1004.86664,\n",
       "        992.53076,  835.2402 ,  624.7465 ,  576.6486 ,  582.142  ,\n",
       "        459.6829 ,  536.52277,  446.33298,  472.5808 ,  400.25558,\n",
       "        468.2999 ,  384.8891 ,  418.4074 ], dtype=float32)>"
      ]
     },
     "execution_count": 30,
     "metadata": {},
     "output_type": "execute_result"
    }
   ],
   "source": [
    "#testing to make sure it runs...\n",
    "batch_func(np.array([12.0,1.01,11.38,13.01, 0.20],dtype=np.float32))"
   ]
  },
  {
   "cell_type": "code",
   "execution_count": 31,
   "metadata": {},
   "outputs": [],
   "source": [
    "@tf.function\n",
    "def loss(X):\n",
    "    pkr = tf.map_fn(batch_func,X)\n",
    "    print(pkr.shape)\n",
    "    return tf.reduce_sum(-1/19*1/2*1/8*((pk_obs[1:20] - pkr)**2.0*np.diag(cinv_pk)[1:19]),axis=1)\n",
    "   # return tf.reduce_sum(-1*(pkr - pkr2) @ (inv_covar) @ tf.transpose(pkr - pkr2),axis=1)\n"
   ]
  },
  {
   "cell_type": "code",
   "execution_count": 32,
   "metadata": {},
   "outputs": [
    {
     "data": {
      "text/plain": [
       "{'logMmin': 12.02,\n",
       " 'sigma_logM': 0.26,\n",
       " 'logM0': 11.38,\n",
       " 'logM1': 13.31,\n",
       " 'alpha': 1.06}"
      ]
     },
     "execution_count": 32,
     "metadata": {},
     "output_type": "execute_result"
    }
   ],
   "source": [
    "{'logMmin': 12.02,\n",
    " 'sigma_logM': 0.26,\n",
    " 'logM0': 11.38,\n",
    " 'logM1': 13.31,\n",
    " 'alpha': 1.06}"
   ]
  },
  {
   "cell_type": "code",
   "execution_count": 33,
   "metadata": {},
   "outputs": [
    {
     "name": "stdout",
     "output_type": "stream",
     "text": [
      "(2, 18)\n",
      "tf.Tensor([ -8.684457 -69.27387 ], shape=(2,), dtype=float32)\n"
     ]
    }
   ],
   "source": [
    "#checking loss function\n",
    "X_test = tf.Variable(np.array([[12.02, 01.56, 11.38, 13.31, 001.06],[12.02, 0.26, 11.38, 13.31, 01.06]],dtype=float32),dtype=float32)\n",
    "\n",
    "output = loss(X_test)\n",
    "\n",
    "print(output)\n",
    "\n"
   ]
  },
  {
   "cell_type": "markdown",
   "metadata": {},
   "source": [
    "# Check Gradients..."
   ]
  },
  {
   "cell_type": "markdown",
   "metadata": {},
   "source": [
    "alpha_list = np.linspace(0.99,1.01,50,dtype=float32)\n",
    "loss_ar = []\n",
    "grad_ar = []\n",
    "for i in alpha_list:\n",
    "    logM = tf.Variable([12.5])\n",
    "    sig_logM = tf.Variable([0.25])\n",
    "    logM0 = tf.Variable([11.38])\n",
    "    logM1 = tf.Variable([13.01])\n",
    "    x = tf.Variable([01.01])\n",
    "    #X = tf.transpose(tf.stack([logM,sig_logM,logM0,logM1, x]))\n",
    "    X = tf.transpose(tf.stack([logM,sig_logM,logM0,logM1, x]))\n",
    "    print(X)\n",
    "    L = loss(X)\n",
    "    print(L)\n",
    "    loss_ar.append(np.array(L))\n",
    "    def get_grads(x):\n",
    "        with tf.GradientTape(persistent=True) as g:\n",
    "          # g.watch(x)\n",
    "           X = tf.transpose(tf.stack([logM,sig_logM,logM0,logM1, x]))\n",
    "           print(X)\n",
    "           L = loss(X)\n",
    "        dL_dx = g.gradient(L, x)\n",
    "        return dL_dx\n",
    "    #a = tf.constant((np.array([[12.5,0.5,11.38,13.01, x]],dtype=np.float32)))\n",
    "    grad = get_grads(x)\n",
    "    grad_ar.append(np.array(grad))"
   ]
  },
  {
   "cell_type": "code",
   "execution_count": null,
   "metadata": {
    "scrolled": false
   },
   "outputs": [
    {
     "name": "stdout",
     "output_type": "stream",
     "text": [
      "tf.Tensor([[11.5        0.25      11.38      12.31       1.0900002]], shape=(1, 5), dtype=float32)\n",
      "tf.Tensor([-5135.9023], shape=(1,), dtype=float32)\n",
      "tf.Tensor([[11.5        0.25      11.38      12.31       1.0900002]], shape=(1, 5), dtype=float32)\n",
      "Tensor(\"Pow:0\", shape=(1,), dtype=float32)\n",
      "WARNING:tensorflow:5 out of the last 5 calls to <function hod at 0x7f43a0221940> triggered tf.function retracing. Tracing is expensive and the excessive number of tracings is likely due to passing python objects instead of tensors. Also, tf.function has experimental_relax_shapes=True option that relaxes argument shapes that can avoid unnecessary retracing. Please refer to https://www.tensorflow.org/tutorials/customization/performance#python_or_tensor_args and https://www.tensorflow.org/api_docs/python/tf/function for more details.\n"
     ]
    }
   ],
   "source": [
    "logM = tf.Variable([11.5])\n",
    "sig_logM = tf.Variable([0.25])\n",
    "logM0 = tf.Variable([11.38])\n",
    "logM1 = tf.Variable([12.31])\n",
    "x = tf.Variable([0001.0900001])\n",
    "#y = tf.Variable([00000001.99900001])\n",
    "\n",
    "#X = tf.transpose(tf.stack([logM,sig_logM,logM0,logM1, x]))\n",
    "X = tf.transpose(tf.stack([logM,sig_logM,logM0,logM1, x]))\n",
    "print(X)\n",
    "L = loss(X)\n",
    "print(L)\n",
    "#loss_ar.append(np.array(L))\n",
    "def get_grads(x):\n",
    "    with tf.GradientTape(persistent=True) as g:\n",
    "       g.watch(x)\n",
    "       X = tf.transpose(tf.stack([logM,sig_logM,logM0,logM1, x]))\n",
    "       print(X)\n",
    "       L = sample(tf_halocat,logM,sig_logM,logM0,logM1, x)#loss(X)\n",
    "    dL_dx = g.gradient(L, x)\n",
    "    return dL_dx\n",
    "#a = tf.constant((np.array([[12.5,0.5,11.38,13.01, x]],dtype=np.float32)))\n",
    "grad = get_grads(x)\n",
    "print(grad)"
   ]
  },
  {
   "cell_type": "code",
   "execution_count": 38,
   "metadata": {},
   "outputs": [
    {
     "ename": "NameError",
     "evalue": "name 'alpha_list' is not defined",
     "output_type": "error",
     "traceback": [
      "\u001b[0;31m---------------------------------------------------------------------------\u001b[0m",
      "\u001b[0;31mNameError\u001b[0m                                 Traceback (most recent call last)",
      "\u001b[0;32m<ipython-input-38-57df233ddeaf>\u001b[0m in \u001b[0;36m<module>\u001b[0;34m\u001b[0m\n\u001b[0;32m----> 1\u001b[0;31m \u001b[0mplt\u001b[0m\u001b[0;34m.\u001b[0m\u001b[0mplot\u001b[0m\u001b[0;34m(\u001b[0m\u001b[0malpha_list\u001b[0m\u001b[0;34m,\u001b[0m\u001b[0mgrad_ar\u001b[0m\u001b[0;34m)\u001b[0m\u001b[0;34m\u001b[0m\u001b[0;34m\u001b[0m\u001b[0m\n\u001b[0m\u001b[1;32m      2\u001b[0m \u001b[0mplt\u001b[0m\u001b[0;34m.\u001b[0m\u001b[0mplot\u001b[0m\u001b[0;34m(\u001b[0m\u001b[0malpha_list\u001b[0m\u001b[0;34m,\u001b[0m\u001b[0mloss_ar\u001b[0m\u001b[0;34m)\u001b[0m\u001b[0;34m\u001b[0m\u001b[0;34m\u001b[0m\u001b[0m\n",
      "\u001b[0;31mNameError\u001b[0m: name 'alpha_list' is not defined"
     ]
    }
   ],
   "source": [
    "plt.plot(alpha_list,grad_ar)\n",
    "plt.plot(alpha_list,loss_ar)"
   ]
  },
  {
   "cell_type": "markdown",
   "metadata": {},
   "source": [
    "# HMC Stuff, ignore for now..."
   ]
  },
  {
   "cell_type": "code",
   "execution_count": 39,
   "metadata": {},
   "outputs": [],
   "source": [
    "import numpy as np\n",
    "import tensorflow.compat.v2 as tf\n",
    "import tensorflow_probability as tfp\n",
    "tf.enable_v2_behavior()\n",
    "\n",
    "num_burnin_steps = int(3e0) #oops....\n",
    "num_chains = 5\n",
    "\n",
    "\n",
    "adaptive_hmc = tfp.mcmc.SimpleStepSizeAdaptation(\n",
    "    tfp.mcmc.HamiltonianMonteCarlo(\n",
    "        target_log_prob_fn=loss,\n",
    "        num_leapfrog_steps=3,\n",
    "        step_size=.030), #can play a lot with this number...\n",
    "    num_adaptation_steps=int(num_burnin_steps * 0.8))\n"
   ]
  },
  {
   "cell_type": "code",
   "execution_count": 40,
   "metadata": {},
   "outputs": [],
   "source": [
    "#start spread out around some point\n",
    "var = (np.random.random([num_chains, 5])-0.5)*np.array([0.1,0.02,0.01,0.1,0.01])*0.010"
   ]
  },
  {
   "cell_type": "code",
   "execution_count": 41,
   "metadata": {},
   "outputs": [],
   "source": [
    "\n",
    "num_results = 100\n",
    "\n",
    "# Initial state of the chain\n",
    "init_state = tf.Variable(np.ones([num_chains, 5], dtype=dtype)*np.array([12.12, 0.36, 11.36, 13.21, 0001.00],dtype=float32)+var,dtype=float32)\n",
    "\n",
    "@tf.function\n",
    "def run_chain():\n",
    "  # Run the chain (with burn-in).\n",
    "    samples, is_accepted = tfp.mcmc.sample_chain(\n",
    "      num_results=num_results,\n",
    "      num_burnin_steps=num_burnin_steps,\n",
    "      current_state=init_state,\n",
    "      kernel=adaptive_hmc,\n",
    "      trace_fn=lambda _, pkr: pkr.inner_results.is_accepted)\n",
    "\n",
    "    return samples,is_accepted#sample_mean, sample_stddev, is_accepted\n"
   ]
  },
  {
   "cell_type": "code",
   "execution_count": 42,
   "metadata": {},
   "outputs": [
    {
     "data": {
      "text/plain": [
       "<tf.Variable 'Variable:0' shape=(5, 5) dtype=float32, numpy=\n",
       "array([[12.120124  ,  0.3600341 , 11.359966  , 13.210397  ,  1.0000131 ],\n",
       "       [12.120217  ,  0.36000857, 11.36003   , 13.210456  ,  0.99995434],\n",
       "       [12.119914  ,  0.36009854, 11.360018  , 13.2102165 ,  0.99997264],\n",
       "       [12.119939  ,  0.35997558, 11.360001  , 13.209677  ,  1.0000205 ],\n",
       "       [12.119958  ,  0.3599298 , 11.359952  , 13.210005  ,  0.99995106]],\n",
       "      dtype=float32)>"
      ]
     },
     "execution_count": 42,
     "metadata": {},
     "output_type": "execute_result"
    }
   ],
   "source": [
    "init_state"
   ]
  },
  {
   "cell_type": "code",
   "execution_count": 43,
   "metadata": {},
   "outputs": [
    {
     "name": "stdout",
     "output_type": "stream",
     "text": [
      "(5, 18)\n",
      "929.9023239612579\n"
     ]
    }
   ],
   "source": [
    "import time\n",
    "current_time = time.time()\n",
    "q,is_accepted = run_chain()\n",
    "run_time = time.time()-current_time\n",
    "print(run_time)"
   ]
  },
  {
   "cell_type": "code",
   "execution_count": 44,
   "metadata": {},
   "outputs": [
    {
     "name": "stdout",
     "output_type": "stream",
     "text": [
      "0.25830620110034946\n"
     ]
    }
   ],
   "source": [
    "#time in hours, since math is hard\n",
    "print(run_time/60/60)"
   ]
  },
  {
   "cell_type": "code",
   "execution_count": 45,
   "metadata": {},
   "outputs": [
    {
     "data": {
      "text/plain": [
       "(<tf.Tensor: shape=(5, 5), dtype=float32, numpy=\n",
       " array([[12.120124  ,  0.3600341 , 11.359966  , 13.210397  ,  1.0000131 ],\n",
       "        [12.120217  ,  0.36000857, 11.36003   , 13.210456  ,  0.99995434],\n",
       "        [12.119914  ,  0.36009854, 11.360018  , 13.2102165 ,  0.99997264],\n",
       "        [12.119939  ,  0.35997558, 11.360001  , 13.209677  ,  1.0000205 ],\n",
       "        [12.119958  ,  0.3599298 , 11.359952  , 13.210005  ,  0.99995106]],\n",
       "       dtype=float32)>,\n",
       " <tf.Tensor: shape=(5, 5), dtype=float32, numpy=\n",
       " array([[0., 0., 0., 0., 0.],\n",
       "        [0., 0., 0., 0., 0.],\n",
       "        [0., 0., 0., 0., 0.],\n",
       "        [0., 0., 0., 0., 0.],\n",
       "        [0., 0., 0., 0., 0.]], dtype=float32)>)"
      ]
     },
     "execution_count": 45,
     "metadata": {},
     "output_type": "execute_result"
    }
   ],
   "source": [
    "#make sure chain moved...\n",
    "q[0],q[0]-q[-1]\n",
    "\n"
   ]
  },
  {
   "cell_type": "code",
   "execution_count": 46,
   "metadata": {},
   "outputs": [
    {
     "name": "stdout",
     "output_type": "stream",
     "text": [
      "(5, 18)\n"
     ]
    },
    {
     "data": {
      "text/plain": [
       "<tf.Tensor: shape=(5,), dtype=float32, numpy=\n",
       "array([-88.0327  , -82.2862  , -85.444565, -82.585655, -81.534805],\n",
       "      dtype=float32)>"
      ]
     },
     "execution_count": 46,
     "metadata": {},
     "output_type": "execute_result"
    }
   ],
   "source": [
    "loss(q[0])"
   ]
  },
  {
   "cell_type": "code",
   "execution_count": 47,
   "metadata": {},
   "outputs": [
    {
     "data": {
      "text/plain": [
       "(array([200.,   0.,   0., 100.,   0.,   0.,   0.,   0., 100., 100.]),\n",
       " array([0.99995106, 0.99995804, 0.99996495, 0.99997187, 0.99997884,\n",
       "        0.9999858 , 0.9999927 , 0.99999964, 1.0000067 , 1.0000136 ,\n",
       "        1.0000205 ], dtype=float32),\n",
       " <a list of 10 Patch objects>)"
      ]
     },
     "execution_count": 47,
     "metadata": {},
     "output_type": "execute_result"
    },
    {
     "data": {
      "image/png": "[encoded data removed]",
      "text/plain": [
       "<Figure size 432x288 with 1 Axes>"
      ]
     },
     "metadata": {
      "needs_background": "light"
     },
     "output_type": "display_data"
    }
   ],
   "source": [
    "plt.hist(np.array(q).reshape(-1,5)[:,-1])"
   ]
  },
  {
   "cell_type": "code",
   "execution_count": 48,
   "metadata": {},
   "outputs": [],
   "source": [
    "import corner"
   ]
  },
  {
   "cell_type": "code",
   "execution_count": 49,
   "metadata": {},
   "outputs": [
    {
     "data": {
      "text/plain": [
       "TensorShape([100, 5, 5])"
      ]
     },
     "execution_count": 49,
     "metadata": {},
     "output_type": "execute_result"
    }
   ],
   "source": [
    "q.shape"
   ]
  },
  {
   "cell_type": "code",
   "execution_count": 56,
   "metadata": {},
   "outputs": [
    {
     "name": "stderr",
     "output_type": "stream",
     "text": [
      "WARNING:root:Too few points to create valid contours\n",
      "WARNING:root:Too few points to create valid contours\n",
      "WARNING:root:Too few points to create valid contours\n",
      "WARNING:root:Too few points to create valid contours\n",
      "WARNING:root:Too few points to create valid contours\n",
      "WARNING:root:Too few points to create valid contours\n",
      "WARNING:root:Too few points to create valid contours\n",
      "WARNING:root:Too few points to create valid contours\n",
      "WARNING:root:Too few points to create valid contours\n",
      "WARNING:root:Too few points to create valid contours\n"
     ]
    },
    {
     "data": {
      "image/png": "[encoded data removed]",
      "text/plain": [
       "<Figure size 849.6x849.6 with 25 Axes>"
      ]
     },
     "execution_count": 56,
     "metadata": {},
     "output_type": "execute_result"
    },
    {
     "data": {
      "image/png": "[encoded data removed]",
      "text/plain": [
       "<Figure size 849.6x849.6 with 25 Axes>"
      ]
     },
     "metadata": {
      "needs_background": "light"
     },
     "output_type": "display_data"
    }
   ],
   "source": [
    "corner.corner(np.array(q[:,:,:]).reshape(-1,5)[:],smooth=0.300)"
   ]
  },
  {
   "cell_type": "code",
   "execution_count": 55,
   "metadata": {},
   "outputs": [
    {
     "data": {
      "text/plain": [
       "TensorShape([100, 5, 5])"
      ]
     },
     "execution_count": 55,
     "metadata": {},
     "output_type": "execute_result"
    }
   ],
   "source": [
    "q.shape"
   ]
  },
  {
   "cell_type": "code",
   "execution_count": 52,
   "metadata": {},
   "outputs": [],
   "source": [
    "#logMmin, sigma_logM, logM1, alpha"
   ]
  },
  {
   "cell_type": "code",
   "execution_count": 53,
   "metadata": {},
   "outputs": [
    {
     "data": {
      "text/plain": [
       "TensorShape([100, 5, 5])"
      ]
     },
     "execution_count": 53,
     "metadata": {},
     "output_type": "execute_result"
    }
   ],
   "source": [
    "q.shape"
   ]
  },
  {
   "cell_type": "code",
   "execution_count": 54,
   "metadata": {},
   "outputs": [
    {
     "data": {
      "image/png": "[encoded data removed]",
      "text/plain": [
       "<Figure size 849.6x849.6 with 25 Axes>"
      ]
     },
     "metadata": {
      "needs_background": "light"
     },
     "output_type": "display_data"
    }
   ],
   "source": [
    "value1 = [12.02, 0.26, 11.38,13.31, 1.06]\n",
    "#range=[(11.5,12.4),(0.00,0.60),(13.1,14.1),(0.950,1.3)]\n",
    "levels = 1.0 - np.exp(-0.5 * np.arange(0.5, 2.1, 0.5) ** 2)\n",
    "figure = corner.corner(np.array(q)[:,:].reshape(-1,5),labels = [r\"$\\log M_{min}$\", r\"$\\sigma_{\\log M}$\", r\"$M_0$\",r\"$\\log M_1$\", r\"$\\alpha$\"],label_kwargs={\"fontsize\":18} ,\n",
    "                       quantiles=[0.16, 0.5, 0.84],levels=levels,show_titles=True,\n",
    "                       smooth=1.0,plot_datapoints=True,range=[[11.6,12.5],[0.0,1.0],[10,12.8],[12.4,13.8],[0.60,1.6]])\n",
    "ndim = 5\n",
    "# Extract the axes\n",
    "axes = np.array(figure.axes).reshape((ndim, ndim))\n",
    "\n",
    "# Loop over the diagonal\n",
    "for i in range(ndim):\n",
    "    ax = axes[i, i]\n",
    "    ax.axvline(value1[i], color=\"g\")\n",
    "\n",
    "# Loop over the histograms\n",
    "for yi in range(ndim):\n",
    "    for xi in range(yi):\n",
    "        ax = axes[yi, xi]\n",
    "        ax.axvline(value1[xi], color=\"g\")\n",
    "        ax.axhline(value1[yi], color=\"g\")\n",
    "        ax.plot(value1[xi], value1[yi], \"sg\")\n",
    "plt.savefig(\"HMC_Output.pdf\")\n",
    "\n"
   ]
  },
  {
   "cell_type": "code",
   "execution_count": null,
   "metadata": {},
   "outputs": [],
   "source": [
    "plt.hist(np.array(q[::10,:,-1]).flatten())"
   ]
  },
  {
   "cell_type": "code",
   "execution_count": null,
   "metadata": {},
   "outputs": [],
   "source": [
    "#could run for longer and probably get better curves..."
   ]
  },
  {
   "cell_type": "code",
   "execution_count": null,
   "metadata": {},
   "outputs": [],
   "source": [
    "#np.save(\"HMC_Output_031520\", np.array(q))"
   ]
  },
  {
   "cell_type": "code",
   "execution_count": null,
   "metadata": {},
   "outputs": [],
   "source": []
  }
 ],
 "metadata": {
  "kernelspec": {
   "display_name": "dhod2",
   "language": "python",
   "name": "dhod2"
  },
  "language_info": {
   "codemirror_mode": {
    "name": "ipython",
    "version": 3
   },
   "file_extension": ".py",
   "mimetype": "text/x-python",
   "name": "python",
   "nbconvert_exporter": "python",
   "pygments_lexer": "ipython3",
   "version": "3.8.3"
  }
 },
 "nbformat": 4,
 "nbformat_minor": 4
}
