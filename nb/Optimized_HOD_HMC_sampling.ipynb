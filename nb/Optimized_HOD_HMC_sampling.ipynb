{
  "nbformat": 4,
  "nbformat_minor": 0,
  "metadata": {
    "colab": {
      "name": "Optimized_HOD_HMC_sampling.ipynb",
      "provenance": [],
      "collapsed_sections": [],
      "authorship_tag": "ABX9TyPhrNVdPgYZoDLxFcD+gJde",
      "include_colab_link": true
    },
    "kernelspec": {
      "name": "python3",
      "display_name": "Python 3"
    },
    "language_info": {
      "name": "python"
    },
    "accelerator": "GPU"
  },
  "cells": [
    {
      "cell_type": "markdown",
      "metadata": {
        "id": "view-in-github",
        "colab_type": "text"
      },
      "source": [
        "<a href=\"https://colab.research.google.com/github/DifferentiableUniverseInitiative/DHOD/blob/u%2FEiffL%2Foptimization/nb/Optimized_HOD_HMC_sampling.ipynb\" target=\"_parent\"><img src=\"https://colab.research.google.com/assets/colab-badge.svg\" alt=\"Open In Colab\"/></a>"
      ]
    },
    {
      "cell_type": "markdown",
      "metadata": {
        "id": "A-G7iEAnRFFD"
      },
      "source": [
        "# Sampling HOD parameters by Hamiltonian Monte-Carlo\n",
        "\n",
        "Authors:\n",
        " - [@bhorowitz](https://github.com/bhorowitz) (Ben Horowitz)\n",
        " - [@EiffL](https://github.com/EiffL) (Francois Lanusse)\n",
        "\n",
        "\n",
        "This notebook demonstrate sampling HOD parameters using HMC over a stochastically sampled galaxy catalogs.\n",
        "\n",
        "\n"
      ]
    },
    {
      "cell_type": "markdown",
      "metadata": {
        "id": "I0oMCwV4RnSQ"
      },
      "source": [
        "## Setup\n",
        "\n",
        "Here we quickly install our dependencies, and download the reference halotools \n",
        "catalog from the Bolshoi simulation. This takes under a minute."
      ]
    },
    {
      "cell_type": "code",
      "metadata": {
        "id": "w4oAbz0FRBBB"
      },
      "source": [
        "!pip install --quiet -i https://test.pypi.org/simple/ halotools\n",
        "!pip install --quiet corner\n",
        "!pip install --quiet git+https://github.com/DifferentiableUniverseInitiative/DHOD.git@u/EiffL/optimization"
      ],
      "execution_count": 23,
      "outputs": []
    },
    {
      "cell_type": "code",
      "metadata": {
        "id": "mjxUSvG7R_y1"
      },
      "source": [
        "!download_initial_halocat.py"
      ],
      "execution_count": null,
      "outputs": []
    },
    {
      "cell_type": "markdown",
      "metadata": {
        "id": "8pqOl6nNaWnH"
      },
      "source": [
        ""
      ]
    },
    {
      "cell_type": "code",
      "metadata": {
        "id": "HJRyg0qcXUDg",
        "colab": {
          "base_uri": "https://localhost:8080/"
        },
        "outputId": "b0f04b70-eb71-4b84-e1b1-594f05f0825a"
      },
      "source": [
        "%pylab inline\n",
        "from halotools.sim_manager import CachedHaloCatalog\n",
        "from halotools.empirical_models import PrebuiltHodModelFactory\n",
        "from halotools.mock_observables.two_point_clustering import tpcf\n",
        "from halotools.mock_observables import return_xyz_formatted_array"
      ],
      "execution_count": 1,
      "outputs": [
        {
          "output_type": "stream",
          "text": [
            "Populating the interactive namespace from numpy and matplotlib\n"
          ],
          "name": "stdout"
        }
      ]
    },
    {
      "cell_type": "code",
      "metadata": {
        "id": "kUfaj2PkXcPU"
      },
      "source": [
        "import tensorflow as tf\n",
        "import edward2 as ed\n",
        "from diffhod.components import Zheng07Cens, Zheng07Sats, NFWProfile\n",
        "from diffhod.utils import cic_paint\n",
        "from diffhod.mock_observables.pk import Power_Spectrum"
      ],
      "execution_count": 2,
      "outputs": []
    },
    {
      "cell_type": "code",
      "metadata": {
        "id": "HcRwN9VIXr98"
      },
      "source": [
        "# A few hyper parameters\n",
        "temperature=0.02\n",
        "batch_size=2\n",
        "box_size = 128.\n",
        "\n",
        "fid_params = tf.convert_to_tensor([12.02, 0.26, 11.38, 13.31, 1.06])"
      ],
      "execution_count": 3,
      "outputs": []
    },
    {
      "cell_type": "code",
      "metadata": {
        "colab": {
          "base_uri": "https://localhost:8080/",
          "height": 334
        },
        "id": "q26Jzod9SQST",
        "outputId": "9cb06e46-5339-4687-fec4-04b1b3399b76"
      },
      "source": [
        "# Load a reference halo catalog\n",
        "halocat = CachedHaloCatalog(simname = 'bolshoi', redshift=0.) \n",
        "\n",
        "# Removing subhalos, and restricting the size of the catalog\n",
        "halo_table = halocat.halo_table\n",
        "halo_table = halo_table[halo_table['halo_pid'] == -1]\n",
        "halo_table = halo_table[halo_table['halo_x'] < box_size]\n",
        "halo_table = halo_table[halo_table['halo_y'] < box_size]\n",
        "halo_table = halo_table[halo_table['halo_z'] < box_size]\n",
        "print(\"Total size of halo catalog\", len(halo_table))\n",
        "\n",
        "# Split the catalog into low and high mass halo\n",
        "low_mass_table = halo_table[np.log10(halo_table['halo_mvir']) < 13.75]\n",
        "high_mass_table = halo_table[np.log10(halo_table['halo_mvir']) >= 13.75]\n",
        "\n",
        "# Convert table to tensors\n",
        "tf_halocat_low = {k: tf.convert_to_tensor(low_mass_table[k], dtype=tf.float32) for k in halo_table.colnames}\n",
        "tf_halocat_high = {k: tf.convert_to_tensor(high_mass_table[k], dtype=tf.float32) for k in halo_table.colnames}\n",
        "\n",
        "hist(log10(low_mass_table['halo_mvir']),32, range=[10,15]);\n",
        "hist(log10(high_mass_table['halo_mvir']),32, range=[10,15]);\n",
        "yscale('log')\n",
        "xlabel('halo_mvir');\n",
        "print(\"Size of low mass halo catalog\", len(low_mass_table))\n",
        "print(\"Size of high mass halo catalog\", len(high_mass_table));"
      ],
      "execution_count": 4,
      "outputs": [
        {
          "output_type": "stream",
          "text": [
            "Total size of halo catalog 139905\n",
            "Size of low mass halo catalog 139797\n",
            "Size of high mass halo catalog 108\n"
          ],
          "name": "stdout"
        },
        {
          "output_type": "display_data",
          "data": {
            "image/png": "[encoded data removed]",
            "text/plain": [
              "<Figure size 432x288 with 1 Axes>"
            ]
          },
          "metadata": {
            "tags": [],
            "needs_background": "light"
          }
        }
      ]
    },
    {
      "cell_type": "code",
      "metadata": {
        "id": "d9AtT-UpXRcx"
      },
      "source": [
        "# Here is how we define the same model in\n",
        "def hod(halo_cat, \n",
        "        logMmin=12.02, sigma_logM=0.26, logM0=11.38, logM1=13.31, alpha=1.06,\n",
        "        max_sat=20):\n",
        "  \n",
        "  ### Occupation model ###\n",
        "  n_cen = Zheng07Cens(halo_cat['halo_mvir'],\n",
        "                      sigma_logM=sigma_logM,\n",
        "                      logMmin=logMmin,\n",
        "                      temperature=temperature)\n",
        "  \n",
        "  n_sat = Zheng07Sats(halo_cat['halo_mvir'],\n",
        "                      n_cen,\n",
        "                      logM0=logM0,\n",
        "                      logM1=logM1,\n",
        "                      alpha=alpha,\n",
        "                      sample_shape=(max_sat,),\n",
        "                      temperature=temperature)\n",
        "  \n",
        "  ### Phase Space model ###\n",
        "  # Centrals are just located at center of halo\n",
        "  pos_cen = ed.Deterministic(tf.stack([halo_cat['halo_x'],\n",
        "                                       halo_cat['halo_y'],\n",
        "                                       halo_cat['halo_z']], axis=-1))\n",
        "\n",
        "  # Satellites follow an NFW profile centered on halos\n",
        "  pos_sat = NFWProfile(pos=pos_cen,\n",
        "                       concentration=halo_cat['halo_nfw_conc'],\n",
        "                       Rvir=halo_cat['halo_rvir'],\n",
        "                       sample_shape=(max_sat, batch_size))\n",
        "  \n",
        "  return {'pos_cen':pos_cen,'n_cen':n_cen, 'pos_sat':pos_sat, 'n_sat':n_sat}"
      ],
      "execution_count": 5,
      "outputs": []
    },
    {
      "cell_type": "code",
      "metadata": {
        "id": "P1vs2DVgYB-O"
      },
      "source": [
        "def paint_galaxies(gal_cat, nc=128, rho=None):\n",
        "  \"\"\" Function that paints galaxies on the field\n",
        "  \"\"\"\n",
        "  # Take centrals and rescale them to the boxsize\n",
        "  bs = gal_cat['n_sat'].shape[1]\n",
        "\n",
        "  # Convert to mesh pixel coordinate\n",
        "  sample1 = gal_cat['pos_cen'] / box_size * nc\n",
        "  weights1 = gal_cat['n_cen']\n",
        "  sample1_r = tf.tile(tf.expand_dims(sample1,0),[bs,1,1])\n",
        "\n",
        "  # Take sats and rescale them to the boxize\n",
        "  sample2 = gal_cat['pos_sat'] / box_size * nc\n",
        "  weights2 = gal_cat['n_sat']\n",
        "  # Swapping sample dimension and batch dimension\n",
        "  sample2 = tf.transpose(sample2, [1,0,2,3])\n",
        "  weights2 = tf.transpose(weights2, [1,0,2])\n",
        "  # Reshaping\n",
        "  sample2 = tf.reshape(sample2, [bs, -1, 3])\n",
        "  weights2 = tf.reshape(weights2, [bs, -1])\n",
        "  \n",
        "  if rho is None:\n",
        "    rho = tf.zeros((bs, nc, nc, nc))\n",
        "\n",
        "  rho = cic_paint(rho,sample1_r, weights1)\n",
        "  rho = cic_paint(rho, sample2, weights2)\n",
        "  return rho"
      ],
      "execution_count": 6,
      "outputs": []
    },
    {
      "cell_type": "code",
      "metadata": {
        "id": "-lnkNs_DqAL7"
      },
      "source": [
        "# Let's now build a function that returns a sampled power spectrum\n",
        "PS = Power_Spectrum(shape=np.array([box_size, box_size, box_size]).astype('int32'), \n",
        "               boxsize=np.array([box_size, box_size, box_size]),\n",
        "               kmin=0.1,dk=.05)\n",
        "\n",
        "@tf.function\n",
        "def get_pk(logMmin=12.02, sigma_logM=0.26, logM0=11.38, logM1=13.31, alpha=1.06,\n",
        "           max_sat_low=20, max_sat_high=100):\n",
        "  \"\"\" This function samples the catalogs, paint the galaxies, and compute the \n",
        "  power spectrum\n",
        "  \"\"\"\n",
        "  # Sample and paint galaxies low mass halos\n",
        "  rho = paint_galaxies(hod(tf_halocat_low, logMmin, sigma_logM, logM0, logM1, alpha,\n",
        "                           max_sat=max_sat_low))\n",
        "  \n",
        "  # Add galaxies from high mass halos\n",
        "  rho = paint_galaxies(hod(halo_cat_high, logMmin, sigma_logM, logM0, logM1, alpha,\n",
        "                           max_sat=max_sat_high),\n",
        "                       rho=rho)\n",
        "  \n",
        "  # Compute power spectrum of resulting field\n",
        "  k, pk = PS.pk_tf(rho)\n",
        "  return k, pk"
      ],
      "execution_count": 8,
      "outputs": []
    },
    {
      "cell_type": "code",
      "metadata": {
        "id": "4z05F52Eptzz",
        "colab": {
          "base_uri": "https://localhost:8080/"
        },
        "outputId": "a8d968bc-2fc6-4de2-f5bf-6611257fd748"
      },
      "source": [
        "# Let's just compute a diagonal cov (takes a while...)\n",
        "import time\n",
        "start_time = time.time()\n",
        "samps = []\n",
        "for i in range(50):\n",
        "  k, pk = get_pk(logMmin=12.02*tf.ones([batch_size]),\n",
        "                sigma_logM=0.26*tf.ones([batch_size]), \n",
        "                logM0=11.38*tf.ones([batch_size]), \n",
        "                logM1=13.31*tf.ones([batch_size]), \n",
        "                alpha=1.06*tf.ones([batch_size]))\n",
        "  samps.append(pk)\n",
        "end_time = time.time()- start_time\n",
        "print(end_time)"
      ],
      "execution_count": 10,
      "outputs": [
        {
          "output_type": "stream",
          "text": [
            "20.186707735061646\n"
          ],
          "name": "stdout"
        }
      ]
    },
    {
      "cell_type": "code",
      "metadata": {
        "id": "jUr5-ETrrf_2"
      },
      "source": [
        "samps = np.stack(samps, axis=0).reshape(100,-1)\n",
        "diag_std = samps.std(axis=0)\n",
        "mean = samps.mean(axis=0)"
      ],
      "execution_count": 11,
      "outputs": []
    },
    {
      "cell_type": "code",
      "metadata": {
        "colab": {
          "base_uri": "https://localhost:8080/",
          "height": 287
        },
        "id": "RiTSCIVnswKc",
        "outputId": "6eee83e3-a30f-4c9a-92e9-59ca16c9a82b"
      },
      "source": [
        "loglog(diag_std)\n",
        "loglog(mean)"
      ],
      "execution_count": 12,
      "outputs": [
        {
          "output_type": "execute_result",
          "data": {
            "text/plain": [
              "[<matplotlib.lines.Line2D at 0x7fb05616e510>]"
            ]
          },
          "metadata": {
            "tags": []
          },
          "execution_count": 12
        },
        {
          "output_type": "display_data",
          "data": {
            "image/png": "[encoded data removed]",
            "text/plain": [
              "<Figure size 432x288 with 1 Axes>"
            ]
          },
          "metadata": {
            "tags": [],
            "needs_background": "light"
          }
        }
      ]
    },
    {
      "cell_type": "code",
      "metadata": {
        "id": "VnEoiDm-sz2V"
      },
      "source": [
        "# This is not the right way to do this with edward, but...\n",
        "import tensorflow_probability as tfp \n",
        "tfd = tfp.distributions\n",
        "\n",
        "p = tf.tile(tf.expand_dims(fid_params,0), [batch_size, 1])\n",
        "\n",
        "def log_prob_fn(params):\n",
        "  k, pk = get_pk(logMmin=params[:,0],\n",
        "              sigma_logM=params[:,1], \n",
        "              logM0=params[:,2], \n",
        "              logM1=params[:,3], \n",
        "              alpha=params[:,4])\n",
        "  return tfd.MultivariateNormalDiag(loc=mean,scale_diag=diag_std).log_prob(pk)"
      ],
      "execution_count": 13,
      "outputs": []
    },
    {
      "cell_type": "code",
      "metadata": {
        "colab": {
          "base_uri": "https://localhost:8080/"
        },
        "id": "wJ0Xps3Fup5h",
        "outputId": "8ec08139-6668-4bc0-a0a1-f02c3ff70738"
      },
      "source": [
        "log_prob_fn(p)"
      ],
      "execution_count": 14,
      "outputs": [
        {
          "output_type": "execute_result",
          "data": {
            "text/plain": [
              "<tf.Tensor: shape=(2,), dtype=float32, numpy=array([455.54333, 446.72443], dtype=float32)>"
            ]
          },
          "metadata": {
            "tags": []
          },
          "execution_count": 14
        }
      ]
    },
    {
      "cell_type": "code",
      "metadata": {
        "id": "778GG5HvvjSt"
      },
      "source": [
        "num_burnin_steps = int(1e1) #oops....\n",
        "num_chains = batch_size\n",
        "\n",
        "#tfp.mcmc.SimpleStepSizeAdaptation(\n",
        "adaptive_hmc = tfp.mcmc.HamiltonianMonteCarlo(\n",
        "        target_log_prob_fn=log_prob_fn,\n",
        "        num_leapfrog_steps=3,\n",
        "        step_size=2e-6)#, #can play a lot with this number...\n",
        "#    num_adaptation_steps=int(num_burnin_steps * 0.8))"
      ],
      "execution_count": 99,
      "outputs": []
    },
    {
      "cell_type": "code",
      "metadata": {
        "id": "FLDTtUbgwf8q"
      },
      "source": [
        "#start spread out around some point\n",
        "var = (np.random.random([num_chains, 5])-0.5)*np.array([0.1,0.02,0.01,0.1,0.01])*10"
      ],
      "execution_count": 100,
      "outputs": []
    },
    {
      "cell_type": "code",
      "metadata": {
        "id": "1KgHdayrvjmb"
      },
      "source": [
        "num_results = 1000\n",
        "\n",
        "# Initial state of the chain\n",
        "init_state = tf.Variable(np.ones([num_chains, 5], dtype=dtype)*fid_params+var,dtype=float32)"
      ],
      "execution_count": 101,
      "outputs": []
    },
    {
      "cell_type": "code",
      "metadata": {
        "colab": {
          "base_uri": "https://localhost:8080/"
        },
        "id": "I5CeUgkGlplx",
        "outputId": "8426fe72-535b-48e5-822d-8d71d1562dce"
      },
      "source": [
        "init_state"
      ],
      "execution_count": 102,
      "outputs": [
        {
          "output_type": "execute_result",
          "data": {
            "text/plain": [
              "<tf.Variable 'Variable:0' shape=(2, 5) dtype=float32, numpy=\n",
              "array([[11.910663  ,  0.26596314, 11.360015  , 13.587226  ,  1.0418508 ],\n",
              "       [11.569733  ,  0.31233606, 11.355863  , 13.039662  ,  1.096135  ]],\n",
              "      dtype=float32)>"
            ]
          },
          "metadata": {
            "tags": []
          },
          "execution_count": 102
        }
      ]
    },
    {
      "cell_type": "code",
      "metadata": {
        "id": "aiUhkSVCwgr6"
      },
      "source": [
        "@tf.function\n",
        "def run_chain():\n",
        "  # Run the chain (with burn-in).\n",
        "    samples, trace = tfp.mcmc.sample_chain(\n",
        "      num_results=num_results,\n",
        "      #num_burnin_steps=num_burnin_steps,\n",
        "      current_state=init_state,\n",
        "      kernel=adaptive_hmc)\n",
        "#      trace_fn=lambda _, pkr: pkr.inner_results.is_accepted)\n",
        "\n",
        "    return samples, trace"
      ],
      "execution_count": 103,
      "outputs": []
    },
    {
      "cell_type": "code",
      "metadata": {
        "id": "a8yOcettwl3z",
        "colab": {
          "base_uri": "https://localhost:8080/"
        },
        "outputId": "01b5389a-2734-4707-fd80-a42a659c78b6"
      },
      "source": [
        "import time\n",
        "current_time = time.time()\n",
        "q,is_accepted = run_chain()\n",
        "run_time = time.time()-current_time\n",
        "print(run_time)"
      ],
      "execution_count": null,
      "outputs": [
        {
          "output_type": "stream",
          "text": [
            "/usr/local/lib/python3.7/dist-packages/tensorflow_probability/python/mcmc/sample.py:342: UserWarning: Tracing all kernel results by default is deprecated. Set the `trace_fn` argument to None (the future default value) or an explicit callback that traces the values you are interested in.\n",
            "  warnings.warn('Tracing all kernel results by default is deprecated. Set '\n"
          ],
          "name": "stderr"
        }
      ]
    },
    {
      "cell_type": "code",
      "metadata": {
        "colab": {
          "base_uri": "https://localhost:8080/"
        },
        "id": "BtahWJGSlZir",
        "outputId": "c060246c-c3e1-4661-966b-2884ddeacf4c"
      },
      "source": [
        "is_accepted.is_accepted"
      ],
      "execution_count": 96,
      "outputs": [
        {
          "output_type": "execute_result",
          "data": {
            "text/plain": [
              "<tf.Tensor: shape=(10, 2), dtype=bool, numpy=\n",
              "array([[ True,  True],\n",
              "       [ True, False],\n",
              "       [ True, False],\n",
              "       [False,  True],\n",
              "       [False, False],\n",
              "       [False, False],\n",
              "       [ True, False],\n",
              "       [False, False],\n",
              "       [ True, False],\n",
              "       [False, False]])>"
            ]
          },
          "metadata": {
            "tags": []
          },
          "execution_count": 96
        }
      ]
    },
    {
      "cell_type": "code",
      "metadata": {
        "id": "eep87N8hlZVR"
      },
      "source": [
        ""
      ],
      "execution_count": null,
      "outputs": []
    },
    {
      "cell_type": "code",
      "metadata": {
        "colab": {
          "base_uri": "https://localhost:8080/"
        },
        "id": "nuNtGu8PlJiV",
        "outputId": "8e58139f-9bb3-4a5b-954e-4be5839bd7e1"
      },
      "source": [
        "init_state"
      ],
      "execution_count": 61,
      "outputs": [
        {
          "output_type": "execute_result",
          "data": {
            "text/plain": [
              "<tf.Variable 'Variable:0' shape=(2, 5) dtype=float32, numpy=\n",
              "array([[12.020327  ,  0.2599496 , 11.380009  , 13.309808  ,  1.0599847 ],\n",
              "       [12.020145  ,  0.26000974, 11.379963  , 13.309797  ,  1.0600109 ]],\n",
              "      dtype=float32)>"
            ]
          },
          "metadata": {
            "tags": []
          },
          "execution_count": 61
        }
      ]
    },
    {
      "cell_type": "code",
      "metadata": {
        "id": "LgJVwq7Pwnts",
        "colab": {
          "base_uri": "https://localhost:8080/"
        },
        "outputId": "95e621c6-7aed-4e3f-f55c-341e0f587bb5"
      },
      "source": [
        "q.shape"
      ],
      "execution_count": 49,
      "outputs": [
        {
          "output_type": "execute_result",
          "data": {
            "text/plain": [
              "TensorShape([10, 2, 5])"
            ]
          },
          "metadata": {
            "tags": []
          },
          "execution_count": 49
        }
      ]
    },
    {
      "cell_type": "code",
      "metadata": {
        "id": "IRRtZH81jMhy"
      },
      "source": [
        "import corner"
      ],
      "execution_count": 24,
      "outputs": []
    },
    {
      "cell_type": "code",
      "metadata": {
        "colab": {
          "base_uri": "https://localhost:8080/"
        },
        "id": "M8L2mBmVjwvG",
        "outputId": "db2a3d85-8504-44e0-fde3-821d5768fbd7"
      },
      "source": [
        "is_accepted"
      ],
      "execution_count": 50,
      "outputs": [
        {
          "output_type": "execute_result",
          "data": {
            "text/plain": [
              "<tf.Tensor: shape=(10, 2), dtype=bool, numpy=\n",
              "array([[False, False],\n",
              "       [False, False],\n",
              "       [False, False],\n",
              "       [False, False],\n",
              "       [False, False],\n",
              "       [False, False],\n",
              "       [False, False],\n",
              "       [False, False],\n",
              "       [False,  True],\n",
              "       [False, False]])>"
            ]
          },
          "metadata": {
            "tags": []
          },
          "execution_count": 50
        }
      ]
    },
    {
      "cell_type": "code",
      "metadata": {
        "colab": {
          "base_uri": "https://localhost:8080/",
          "height": 1000
        },
        "id": "dxLPFGD3jbaI",
        "outputId": "5777ae40-58b4-4e48-fbc7-c938e4a4338d"
      },
      "source": [
        "corner.corner(np.array(q[:,:,:]).reshape(-1,5)[:]);"
      ],
      "execution_count": 26,
      "outputs": [
        {
          "output_type": "stream",
          "text": [
            "WARNING:root:Too few points to create valid contours\n",
            "WARNING:root:Too few points to create valid contours\n",
            "WARNING:root:Too few points to create valid contours\n",
            "WARNING:root:Too few points to create valid contours\n",
            "WARNING:root:Too few points to create valid contours\n",
            "WARNING:root:Too few points to create valid contours\n",
            "WARNING:root:Too few points to create valid contours\n",
            "WARNING:root:Too few points to create valid contours\n",
            "WARNING:root:Too few points to create valid contours\n",
            "WARNING:root:Too few points to create valid contours\n"
          ],
          "name": "stderr"
        },
        {
          "output_type": "execute_result",
          "data": {
            "image/png": "[encoded data removed]",
            "text/plain": [
              "<Figure size 849.6x849.6 with 25 Axes>"
            ]
          },
          "metadata": {
            "tags": []
          },
          "execution_count": 26
        },
        {
          "output_type": "display_data",
          "data": {
            "image/png": "[encoded data removed]",
            "text/plain": [
              "<Figure size 849.6x849.6 with 25 Axes>"
            ]
          },
          "metadata": {
            "tags": [],
            "needs_background": "light"
          }
        }
      ]
    },
    {
      "cell_type": "code",
      "metadata": {
        "id": "gV6nyqcHjoDz"
      },
      "source": [
        ""
      ],
      "execution_count": null,
      "outputs": []
    }
  ]
}