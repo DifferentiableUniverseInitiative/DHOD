{
 "cells": [
  {
   "cell_type": "markdown",
   "metadata": {
    "colab_type": "text",
    "id": "view-in-github"
   },
   "source": [
    "<a href=\"https://colab.research.google.com/github/DifferentiableUniverseInitiative/DHOD/blob/u%2FEiffL%2FFlowPM/nb/PowerSpectrum.ipynb\" target=\"_parent\"><img src=\"https://colab.research.google.com/assets/colab-badge.svg\" alt=\"Open In Colab\"/></a>"
   ]
  },
  {
   "cell_type": "markdown",
   "metadata": {
    "colab_type": "text",
    "id": "QV8Drktdpkik"
   },
   "source": [
    "# TensorFlow powerspectrum"
   ]
  },
  {
   "cell_type": "code",
   "execution_count": 0,
   "metadata": {
    "colab": {},
    "colab_type": "code",
    "id": "Bm4Hiexypnby"
   },
   "outputs": [],
   "source": [
    "!pip install halotools\n",
    "!pip install --upgrade git+https://github.com/DifferentiableUniverseInitiative/DHOD.git@u/EiffL/FlowPM\n",
    "!pip install --upgrade git+https://github.com/modichirag/flowpm.git@issue/tf2"
   ]
  },
  {
   "cell_type": "code",
   "execution_count": 0,
   "metadata": {
    "colab": {},
    "colab_type": "code",
    "id": "Iur4DExgprSh"
   },
   "outputs": [],
   "source": [
    "!download_initial_halocat.py"
   ]
  },
  {
   "cell_type": "code",
   "execution_count": 1,
   "metadata": {
    "colab": {
     "base_uri": "https://localhost:8080/",
     "height": 71
    },
    "colab_type": "code",
    "id": "Z-LYnG1Upkim",
    "outputId": "6ddb7df3-8fcb-4f42-a881-ae8bbd6f41b4"
   },
   "outputs": [
    {
     "name": "stderr",
     "output_type": "stream",
     "text": [
      "/home/francois/repo/DHOD/diffhod/components.py:9: UserWarning: tfp.edward2 module is deprecated and will be removed on 2019-12-01. Use https://github.com/google/edward2 library instead.\n",
      "  logMmin=ed.Deterministic(11.35, name='logMmin'),\n"
     ]
    },
    {
     "name": "stdout",
     "output_type": "stream",
     "text": [
      "Populating the interactive namespace from numpy and matplotlib\n"
     ]
    }
   ],
   "source": [
    "%load_ext autoreload\n",
    "%autoreload 2\n",
    "\n",
    "from halotools.sim_manager import CachedHaloCatalog\n",
    "from halotools.empirical_models import PrebuiltHodModelFactory\n",
    "from halotools.mock_observables.two_point_clustering import tpcf\n",
    "from halotools.mock_observables import return_xyz_formatted_array\n",
    "\n",
    "from tensorflow_probability import edward2 as ed\n",
    "from diffhod.components import Zheng07Cens, Zheng07SatsRelaxedBernoulli, NFWProfile\n",
    "\n",
    "from flowpm.utils import cic_paint\n",
    "import tensorflow as tf\n",
    "%pylab inline"
   ]
  },
  {
   "cell_type": "code",
   "execution_count": 2,
   "metadata": {
    "colab": {},
    "colab_type": "code",
    "id": "ohMZFtt_pkiv"
   },
   "outputs": [],
   "source": [
    "def _initialize_pk(shape,boxsize,kmin,dk):\n",
    "    \"\"\"\n",
    "       Helper function to initialize various (fixed) values for powerspectra... not differentiable!\n",
    "    \"\"\"\n",
    "    I = np.eye(len(shape), dtype='int') * -2 + 1\n",
    "\n",
    "    W = np.empty(shape, dtype='f4')\n",
    "    W[...] = 2.0\n",
    "    W[..., 0] = 1.0\n",
    "    W[..., -1] = 1.0\n",
    "    kedges = np.arange(kmin, np.pi * 3 / 2 + dk/2, dk)\n",
    "\n",
    "    k = [np.fft.fftfreq(N, 1. / (N * 2 * np.pi / L))[:pkshape].reshape(kshape) for N, L, kshape, pkshape in zip(shape.as_list(), boxsize, I, shape.as_list())]\n",
    "    kmag = sum(ki ** 2 for ki in k) ** 0.5\n",
    "\n",
    "    xsum = np.zeros(len(kedges) + 1)\n",
    "    Nsum = np.zeros(len(kedges) + 1)\n",
    "\n",
    "    dig = np.digitize(kmag.flat, kedges)\n",
    "\n",
    "    xsum.flat += np.bincount(dig, weights=(W * kmag).flat, minlength=xsum.size)\n",
    "    Nsum.flat += np.bincount(dig, weights=W.flat, minlength=xsum.size)\n",
    "    dig = tf.convert_to_tensor(dig,dtype=tf.int32)\n",
    "    Nsum = tf.convert_to_tensor(Nsum,dtype=tf.complex64)\n",
    "    xsum = tf.convert_to_tensor(np.array(xsum))\n",
    "    W = tf.convert_to_tensor(np.array(W))\n",
    "    k = np.array(k)\n",
    "    kedges = tf.convert_to_tensor(np.array(kedges))\n",
    "    return dig, Nsum, xsum, W, k, kedges"
   ]
  },
  {
   "cell_type": "code",
   "execution_count": 3,
   "metadata": {
    "colab": {},
    "colab_type": "code",
    "id": "3AqHasOWpkiz"
   },
   "outputs": [],
   "source": [
    "def pk(field,kmin=5,dk=0.8,shape = False,boxsize= False):   \n",
    "    \"\"\"\n",
    "    Calculate the powerspectra given real space field\n",
    "    \n",
    "    Args:\n",
    "        \n",
    "        field: real valued field \n",
    "        kmin: minimum k-value for binned powerspectra\n",
    "        dk: differential in each kbin\n",
    "        shape: shape of field to calculate field (can be strangely shaped?)\n",
    "        boxsize: length of each boxlength (can be strangly shaped?)\n",
    "    \n",
    "    Returns:\n",
    "        \n",
    "        kbins: the central value of the bins for plotting\n",
    "        power: real valued array of power in each bin\n",
    "        \n",
    "    \"\"\"\n",
    "    \n",
    "    #initialze values related to powerspectra\n",
    "    dig, Nsum, xsum, W, k, kedges = _initialize_pk(shape,boxsize,kmin,dk)\n",
    "    \n",
    "    #convert field to complex for fft\n",
    "    field_complex = tf.dtypes.cast(field,dtype=tf.complex64)\n",
    "\n",
    "    #fast fourier transform\n",
    "    fft_image = tf.signal.fft3d(field_complex)\n",
    "    \n",
    "    #absolute value of fast fourier transform\n",
    "    pk = tf.math.real(fft_image*tf.math.conj(fft_image))\n",
    "    #calculating powerspectra\n",
    "    Psum = tf.zeros(tf.size(kedges) + 1, dtype=tf.complex64)\n",
    "    real = tf.reshape(tf.math.real(pk),[-1,])\n",
    "    imag = tf.reshape(tf.math.imag(pk),[-1,])\n",
    "    \n",
    "    Psum  += tf.dtypes.cast(tf.math.bincount(dig, weights=(tf.reshape(W,[-1])  * imag), minlength=tf.size(xsum)),dtype=tf.complex64)*1j\n",
    "    Psum  += tf.dtypes.cast(tf.math.bincount(dig, weights=(tf.reshape(W,[-1]) * real), minlength=tf.size(xsum)),dtype=tf.complex64)\n",
    "    #print(W.flatten()  * imag,Psum)\n",
    "\n",
    "    power = (Psum / Nsum)[1:-1] * boxsize.prod() \n",
    "    \n",
    "    #normalization for powerspectra\n",
    "    norm = tf.dtypes.cast(tf.reduce_prod(shape),dtype=tf.float32)**2\n",
    "    \n",
    "    #find central values of each bin\n",
    "    kbins = kedges[:-1]+ (kedges[1:] - kedges[:-1])/2\n",
    "    \n",
    "    return kbins,tf.dtypes.cast(power,dtype=tf.float32)/norm"
   ]
  },
  {
   "cell_type": "code",
   "execution_count": 4,
   "metadata": {
    "colab": {},
    "colab_type": "code",
    "id": "_iyu1sQtpki3"
   },
   "outputs": [],
   "source": [
    "# Load a reference halo catalog\n",
    "halocat = CachedHaloCatalog(simname = 'bolshoi', redshift=0.) \n",
    "\n",
    "# Removing subhalos and convert table to tensors\n",
    "halo_table = halocat.halo_table\n",
    "halo_table = halo_table[halo_table['halo_pid'] == -1]\n",
    "halo_table = halo_table[halo_table['halo_x'] < 64]\n",
    "halo_table = halo_table[halo_table['halo_y'] < 64]\n",
    "halo_table = halo_table[halo_table['halo_z'] < 64]\n",
    "\n",
    "tf_halocat = {k: tf.convert_to_tensor(halo_table[k], dtype=tf.float32) for k in halo_table.colnames}"
   ]
  },
  {
   "cell_type": "code",
   "execution_count": 5,
   "metadata": {
    "colab": {},
    "colab_type": "code",
    "id": "Fr27Xtcgpki9"
   },
   "outputs": [],
   "source": [
    "# We first load our reference halotools model\n",
    "zheng07_model = PrebuiltHodModelFactory('zheng07', redshift =-0, \n",
    "                                        modulate_with_cenocc=True)"
   ]
  },
  {
   "cell_type": "code",
   "execution_count": 6,
   "metadata": {
    "colab": {
     "base_uri": "https://localhost:8080/",
     "height": 107
    },
    "colab_type": "code",
    "id": "TNMkLcZgpkjC",
    "outputId": "28ec88bf-a43c-46e2-dc93-c8a435236d53"
   },
   "outputs": [
    {
     "data": {
      "text/plain": [
       "{'logMmin': 12.02,\n",
       " 'sigma_logM': 0.26,\n",
       " 'logM0': 11.38,\n",
       " 'logM1': 13.31,\n",
       " 'alpha': 1.06}"
      ]
     },
     "execution_count": 6,
     "metadata": {},
     "output_type": "execute_result"
    }
   ],
   "source": [
    "# Let's see what are the parameters of the model\n",
    "zheng07_model.param_dict"
   ]
  },
  {
   "cell_type": "code",
   "execution_count": 7,
   "metadata": {
    "colab": {},
    "colab_type": "code",
    "id": "EO8upcn6pkjH"
   },
   "outputs": [],
   "source": [
    "# Here is how we define the same model in diffhod\n",
    "@tf.function\n",
    "def hod(halo_cat, logMmin, sigma_logM, logM0, logM1, alpha, max_sat=40, temp=0.4):\n",
    "    \n",
    "  ### Occupation model ###\n",
    "  n_cen = Zheng07Cens(halo_cat['halo_mvir'],\n",
    "                      sigma_logM=sigma_logM,\n",
    "                      logMmin=logMmin,\n",
    "                      temperature=temp)\n",
    "  n_sat = Zheng07SatsRelaxedBernoulli(halo_cat['halo_mvir'],\n",
    "                                      n_cen,\n",
    "                                      logM0=logM0,\n",
    "                                      logM1=logM1,\n",
    "                                      alpha=alpha,\n",
    "                                      sample_shape=(max_sat,),\n",
    "                                      temperature=temp)\n",
    "  \n",
    "  ### Phase Space model ###\n",
    "  # Centrals are just located at center of halo\n",
    "  pos_cen = ed.Deterministic(tf.stack([halo_cat['halo_x'],\n",
    "                                        halo_cat['halo_y'],\n",
    "                                        halo_cat['halo_z']], axis=-1))\n",
    "\n",
    "  # Satellites follow an NFW profile centered on halos\n",
    "  pos_sat = NFWProfile(pos=pos_cen,\n",
    "                        concentration=halo_cat['halo_nfw_conc'],\n",
    "                        Rvir=halo_cat['halo_rvir'],\n",
    "                        sample_shape=(max_sat,))\n",
    "  \n",
    "  return {'pos_cen':pos_cen,'n_cen':n_cen, 'pos_sat':pos_sat,  'n_sat':n_sat}"
   ]
  },
  {
   "cell_type": "code",
   "execution_count": 12,
   "metadata": {
    "colab": {},
    "colab_type": "code",
    "id": "Cr5e0m3dpkjP"
   },
   "outputs": [],
   "source": [
    "@tf.function\n",
    "def paint_galaxies(gal_cat, nc=64):\n",
    "    # Take centrals and rescale them to the boxsize\n",
    "    sample1 = tf.expand_dims(gal_cat['pos_cen'] / 64. * nc, axis=0)\n",
    "    weights1 = tf.expand_dims(gal_cat['n_cen'], axis=0)\n",
    "\n",
    "    # Take sats and rescale them to the boxize\n",
    "    sample2 = tf.expand_dims(tf.reshape(gal_cat['pos_sat'], [-1,3]) / 64. * nc, axis=0)\n",
    "    weights2 = tf.expand_dims(tf.reshape(gal_cat['n_sat'],[-1]), axis=0)\n",
    "\n",
    "    # And painting them onto a density field\n",
    "    rho = cic_paint(tf.zeros((1, nc, nc, nc)), sample1, weights1)\n",
    "    rho = cic_paint(rho, sample2, weights2)\n",
    "    return rho"
   ]
  },
  {
   "cell_type": "code",
   "execution_count": 13,
   "metadata": {
    "colab": {},
    "colab_type": "code",
    "id": "JaeYOCGmpkjT"
   },
   "outputs": [],
   "source": [
    "# sampling galaxies from the model, with given params\n",
    "@tf.function\n",
    "def sample(halo_cat, logMmin, sigma_logM, logM0, logM1, alpha):\n",
    "    return paint_galaxies(hod(halo_cat,logMmin, sigma_logM, logM0, logM1, alpha))"
   ]
  },
  {
   "cell_type": "code",
   "execution_count": 14,
   "metadata": {
    "colab": {},
    "colab_type": "code",
    "id": "buYJbe7NpkjX"
   },
   "outputs": [],
   "source": [
    "rho = sample(tf_halocat, 12.02, 0.26, 11.38, 13.31, 1.06)"
   ]
  },
  {
   "cell_type": "code",
   "execution_count": 15,
   "metadata": {
    "colab": {
     "base_uri": "https://localhost:8080/",
     "height": 286
    },
    "colab_type": "code",
    "id": "q90xyxZdpkjd",
    "outputId": "b3f5a6ae-2c8b-452e-ceee-1fa736544599"
   },
   "outputs": [
    {
     "data": {
      "text/plain": [
       "<matplotlib.image.AxesImage at 0x7fd278c8d4f0>"
      ]
     },
     "execution_count": 15,
     "metadata": {},
     "output_type": "execute_result"
    },
    {
     "data": {
      "image/png": "[encoded data removed]",
      "text/plain": [
       "<Figure size 432x288 with 1 Axes>"
      ]
     },
     "metadata": {
      "needs_background": "light"
     },
     "output_type": "display_data"
    }
   ],
   "source": [
    "imshow(rho.numpy()[0].sum(axis=1))"
   ]
  },
  {
   "cell_type": "code",
   "execution_count": 16,
   "metadata": {
    "colab": {
     "base_uri": "https://localhost:8080/",
     "height": 73
    },
    "colab_type": "code",
    "id": "_4GWp9PJpkjk",
    "outputId": "222e2317-03c3-4655-e448-836fdb474560"
   },
   "outputs": [
    {
     "name": "stderr",
     "output_type": "stream",
     "text": [
      "<ipython-input-2-5ab92cad888c>:14: DeprecationWarning: Calling np.sum(generator) is deprecated, and in the future will give a different result. Use np.sum(np.fromiter(generator)) or the python sum builtin instead.\n",
      "  kmag = sum(ki ** 2 for ki in k) ** 0.5\n"
     ]
    }
   ],
   "source": [
    "k1, pkr1 = pk(rho[0],\n",
    "         shape=rho[0].shape, \n",
    "         boxsize= np.array([64,64,64]), # WARNING: That's not the right size\n",
    "         kmin=0.1,dk=.05)"
   ]
  },
  {
   "cell_type": "code",
   "execution_count": 17,
   "metadata": {
    "colab": {
     "base_uri": "https://localhost:8080/",
     "height": 287
    },
    "colab_type": "code",
    "id": "dSsBwC0wpkjp",
    "outputId": "b878af84-191e-48aa-a79b-7b158eab8ad7"
   },
   "outputs": [
    {
     "data": {
      "text/plain": [
       "[<matplotlib.lines.Line2D at 0x7fd278c2f700>]"
      ]
     },
     "execution_count": 17,
     "metadata": {},
     "output_type": "execute_result"
    },
    {
     "data": {
      "image/png": "[encoded data removed]",
      "text/plain": [
       "<Figure size 432x288 with 1 Axes>"
      ]
     },
     "metadata": {
      "needs_background": "light"
     },
     "output_type": "display_data"
    }
   ],
   "source": [
    "loglog(k1,pkr1)"
   ]
  },
  {
   "cell_type": "code",
   "execution_count": 18,
   "metadata": {
    "colab": {},
    "colab_type": "code",
    "id": "sGYRaKiupkjv"
   },
   "outputs": [],
   "source": [
    "rho = sample(tf_halocat, 12.02, 0.26, 11.38, 13.31, 1.6)"
   ]
  },
  {
   "cell_type": "code",
   "execution_count": 19,
   "metadata": {
    "colab": {
     "base_uri": "https://localhost:8080/",
     "height": 286
    },
    "colab_type": "code",
    "id": "TfkgP7k7pkjz",
    "outputId": "f65278de-c36c-4ff4-fcfd-ff0d4cf1b78a"
   },
   "outputs": [
    {
     "data": {
      "text/plain": [
       "<matplotlib.image.AxesImage at 0x7fd27896c550>"
      ]
     },
     "execution_count": 19,
     "metadata": {},
     "output_type": "execute_result"
    },
    {
     "data": {
      "image/png": "[encoded data removed]",
      "text/plain": [
       "<Figure size 432x288 with 1 Axes>"
      ]
     },
     "metadata": {
      "needs_background": "light"
     },
     "output_type": "display_data"
    }
   ],
   "source": [
    "imshow(rho.numpy()[0].sum(axis=0))"
   ]
  },
  {
   "cell_type": "code",
   "execution_count": 20,
   "metadata": {
    "colab": {
     "base_uri": "https://localhost:8080/",
     "height": 73
    },
    "colab_type": "code",
    "id": "CH9HWmbGpkj3",
    "outputId": "43532da8-c5d7-414d-c5c0-9612daf2a9ee"
   },
   "outputs": [
    {
     "name": "stderr",
     "output_type": "stream",
     "text": [
      "<ipython-input-2-5ab92cad888c>:14: DeprecationWarning: Calling np.sum(generator) is deprecated, and in the future will give a different result. Use np.sum(np.fromiter(generator)) or the python sum builtin instead.\n",
      "  kmag = sum(ki ** 2 for ki in k) ** 0.5\n"
     ]
    }
   ],
   "source": [
    "k2, pkr2 = pk(rho[0],\n",
    "         shape=rho[0].shape, \n",
    "         boxsize= np.array([64,64,64]), # WARNING: That's not the right size\n",
    "         kmin=0.1,dk=.05)"
   ]
  },
  {
   "cell_type": "code",
   "execution_count": 21,
   "metadata": {
    "colab": {
     "base_uri": "https://localhost:8080/",
     "height": 287
    },
    "colab_type": "code",
    "id": "zcck5HyZpkj9",
    "outputId": "b363ba98-0244-4b7f-dbf3-c37415c4f29c"
   },
   "outputs": [
    {
     "data": {
      "text/plain": [
       "<matplotlib.legend.Legend at 0x7fd2789834c0>"
      ]
     },
     "execution_count": 21,
     "metadata": {},
     "output_type": "execute_result"
    },
    {
     "data": {
      "image/png": "[encoded data removed]",
      "text/plain": [
       "<Figure size 432x288 with 1 Axes>"
      ]
     },
     "metadata": {
      "needs_background": "light"
     },
     "output_type": "display_data"
    }
   ],
   "source": [
    "loglog(k1,pkr1, label='data')\n",
    "loglog(k2,pkr2, label='rec')\n",
    "legend()"
   ]
  },
  {
   "cell_type": "code",
   "execution_count": 22,
   "metadata": {},
   "outputs": [],
   "source": [
    "# Let's just compute a diagonal cov\n",
    "@tf.function\n",
    "def get_pk(halocat):\n",
    "    k2, pkr = pk(sample(tf_halocat, 12.02, 0.26, 11.38, 13.31, 1.06 )[0],\n",
    "         shape=rho[0].shape, \n",
    "         boxsize= np.array([64,64,64]), # WARNING: That's not the right size\n",
    "         kmin=0.1,dk=.05)\n",
    "    return pkr\n",
    "\n",
    "samps = [get_pk(halocat) for i in range(200)]\n",
    "samps = np.stack(samps, axis=0)\n",
    "diag_std = samps.std(axis=0)"
   ]
  },
  {
   "cell_type": "code",
   "execution_count": 24,
   "metadata": {
    "colab": {},
    "colab_type": "code",
    "id": "tlT1Km-EpkkD"
   },
   "outputs": [],
   "source": [
    "# Ok sweet, so now we can define these as a function of variables\n",
    "logM = tf.Variable(12.5)\n",
    "sig_logM = tf.Variable(0.5)\n",
    "logM0 = tf.Variable(11.38)\n",
    "logM1 = tf.Variable(13.01)\n",
    "alpha = tf.Variable(1.6)"
   ]
  },
  {
   "cell_type": "code",
   "execution_count": 25,
   "metadata": {},
   "outputs": [],
   "source": [
    "# with tf.GradientTape() as tape:\n",
    "#     _, pkr = pk(sample(tf_halocat, 12.2, 0.2, logM0, logM1, alpha)[0],\n",
    "#          shape=rho[0].shape, \n",
    "#          boxsize= np.array([64,64,64]), # WARNING: That's not the right size\n",
    "#          kmin=0.1, dk=.05)\n",
    "#     loss = tf.reduce_sum((pkr - pkr1)**2)\n",
    "\n",
    "# grads = tape.gradient(loss, [logM0, logM1, alpha])\n",
    "# print(loss)\n",
    "# print(grads)"
   ]
  },
  {
   "cell_type": "code",
   "execution_count": 26,
   "metadata": {
    "colab": {
     "base_uri": "https://localhost:8080/",
     "height": 143
    },
    "colab_type": "code",
    "id": "jvyOKWzjpkkJ",
    "outputId": "9c086561-c041-4cb8-f5ca-dff8ffb28143"
   },
   "outputs": [],
   "source": [
    "learning_rate=0.0000001\n",
    "\n",
    "@tf.function\n",
    "def opt_step(tf_halocat, pkref):\n",
    "    with tf.GradientTape() as tape:\n",
    "        _, pkr = pk(sample(tf_halocat, logM, sig_logM, 11.38, logM1, alpha)[0],\n",
    "             shape=rho[0].shape, \n",
    "             boxsize= np.array([64,64,64]), # WARNING: That's not the right size\n",
    "             kmin=0.1,dk=.05)\n",
    "        loss = tf.reduce_sum((pkr - pkref)**2/diag_std**2)\n",
    "\n",
    "    grads = tape.gradient(loss, [logM, sig_logM, logM1, alpha])\n",
    "    alpha.assign_sub(learning_rate*grads[3])\n",
    "    logM1.assign_sub(learning_rate*grads[2]);\n",
    "    logM.assign_sub(learning_rate*grads[0]);\n",
    "    sig_logM.assign_sub(learning_rate*grads[1]);\n",
    "    return loss"
   ]
  },
  {
   "cell_type": "code",
   "execution_count": 28,
   "metadata": {
    "scrolled": true
   },
   "outputs": [
    {
     "name": "stdout",
     "output_type": "stream",
     "text": [
      "WARNING:tensorflow:5 out of the last 5 calls to <function hod at 0x7fd41a6455e0> triggered tf.function retracing. Tracing is expensive and the excessive number of tracings is likely due to passing python objects instead of tensors. Also, tf.function has experimental_relax_shapes=True option that relaxes argument shapes that can avoid unnecessary retracing. Please refer to https://www.tensorflow.org/tutorials/customization/performance#python_or_tensor_args and https://www.tensorflow.org/api_docs/python/tf/function for more details.\n",
      "loss 584020.9\n",
      "loss 11766.352\n",
      "loss 10499.129\n",
      "loss 10035.0205\n",
      "loss 10116.925\n",
      "loss 8582.381\n",
      "loss 6794.1055\n",
      "loss 5430.1133\n",
      "loss 4807.197\n",
      "loss 7113.249\n",
      "loss 2129.202\n",
      "loss 5368.4897\n",
      "loss 4106.0405\n",
      "loss 4900.88\n",
      "loss 3139.775\n",
      "loss 3058.0513\n",
      "loss 3129.0977\n",
      "loss 2098.8\n",
      "loss 2366.2073\n",
      "loss 720.6764\n",
      "loss 1815.8599\n",
      "loss 2204.8013\n",
      "loss 1324.8076\n",
      "loss 1706.2004\n",
      "loss 1209.3372\n",
      "loss 846.0155\n",
      "loss 2369.8672\n",
      "loss 849.9659\n",
      "loss 1172.9972\n",
      "loss 1791.3403\n",
      "loss 1016.75397\n",
      "loss 955.00714\n",
      "loss 1081.024\n",
      "loss 1438.6853\n",
      "loss 1192.4397\n",
      "loss 1376.3423\n",
      "loss 1752.757\n",
      "loss 1033.3959\n",
      "loss 1453.7356\n",
      "loss 1117.6187\n",
      "loss 1295.2593\n",
      "loss 1684.4467\n",
      "loss 1435.377\n",
      "loss 1173.9543\n",
      "loss 2049.9941\n",
      "loss 1366.0643\n",
      "loss 912.6631\n",
      "loss 709.417\n",
      "loss 1057.7655\n",
      "loss 898.0868\n",
      "loss 1033.9727\n",
      "loss 1382.2646\n",
      "loss 1199.3701\n",
      "loss 2393.463\n",
      "loss 1246.2133\n",
      "loss 1645.1023\n",
      "loss 2009.8817\n",
      "loss 1431.4474\n",
      "loss 1566.2266\n",
      "loss 1742.9895\n",
      "loss 1738.706\n",
      "loss 1682.2555\n",
      "loss 866.89905\n",
      "loss 1359.0876\n",
      "loss 1487.3007\n",
      "loss 754.0951\n",
      "loss 749.0637\n",
      "loss 1185.4375\n",
      "loss 1843.7235\n",
      "loss 1697.9033\n",
      "loss 1135.0007\n",
      "loss 1263.1948\n",
      "loss 1229.7539\n",
      "loss 1313.2832\n",
      "loss 1356.19\n",
      "loss 1776.2843\n",
      "loss 1670.2847\n",
      "loss 924.91174\n",
      "loss 995.68274\n",
      "loss 987.1344\n",
      "loss 1589.517\n",
      "loss 1157.1313\n",
      "loss 1098.7946\n",
      "loss 1099.3855\n",
      "loss 1836.6384\n",
      "loss 874.2936\n",
      "loss 1319.953\n",
      "loss 1338.5096\n",
      "loss 1714.1249\n",
      "loss 1305.3335\n",
      "loss 1226.9666\n",
      "loss 737.8517\n",
      "loss 819.25446\n",
      "loss 2416.1482\n",
      "loss 2515.732\n",
      "loss 1132.0009\n",
      "loss 1395.7944\n",
      "loss 1264.7505\n",
      "loss 1225.7662\n",
      "loss 947.0474\n"
     ]
    }
   ],
   "source": [
    "for i in range(100):\n",
    "    loss = opt_step(tf_halocat, pkr1)\n",
    "    print('loss', loss.numpy())"
   ]
  },
  {
   "cell_type": "code",
   "execution_count": 29,
   "metadata": {
    "colab": {
     "base_uri": "https://localhost:8080/",
     "height": 361
    },
    "colab_type": "code",
    "id": "taaP8RQfpkkP",
    "outputId": "b16aaeab-ed47-459b-b389-52d6d761b5fb"
   },
   "outputs": [
    {
     "name": "stderr",
     "output_type": "stream",
     "text": [
      "<ipython-input-2-5ab92cad888c>:14: DeprecationWarning: Calling np.sum(generator) is deprecated, and in the future will give a different result. Use np.sum(np.fromiter(generator)) or the python sum builtin instead.\n",
      "  kmag = sum(ki ** 2 for ki in k) ** 0.5\n"
     ]
    },
    {
     "data": {
      "text/plain": [
       "<matplotlib.legend.Legend at 0x7fd25db2a520>"
      ]
     },
     "execution_count": 29,
     "metadata": {},
     "output_type": "execute_result"
    },
    {
     "data": {
      "image/png": "[encoded data removed]",
      "text/plain": [
       "<Figure size 432x288 with 1 Axes>"
      ]
     },
     "metadata": {
      "needs_background": "light"
     },
     "output_type": "display_data"
    }
   ],
   "source": [
    "_, pkr = pk(sample(tf_halocat, logM, sig_logM, logM0, logM1, alpha)[0],\n",
    "     shape=rho[0].shape, \n",
    "     boxsize= np.array([64,64,64]), # WARNING: That's not the right size\n",
    "     kmin=0.1,dk=.05)\n",
    "\n",
    "loglog(k1,pkr1, label='data')\n",
    "loglog(k1,pkr1-diag_std, '--', color='C0')\n",
    "loglog(k1,pkr1+diag_std, '--', color='C0')\n",
    "\n",
    "loglog(k2,pkr, label='rec')\n",
    "legend()"
   ]
  },
  {
   "cell_type": "code",
   "execution_count": 30,
   "metadata": {},
   "outputs": [
    {
     "name": "stdout",
     "output_type": "stream",
     "text": [
      "<tf.Variable 'Variable:0' shape=() dtype=float32, numpy=12.478646> <tf.Variable 'Variable:0' shape=() dtype=float32, numpy=0.51175445>\n"
     ]
    }
   ],
   "source": [
    "print(logM, sig_logM)"
   ]
  },
  {
   "cell_type": "markdown",
   "metadata": {
    "colab_type": "text",
    "id": "y7kkWC13pkkT"
   },
   "source": [
    "## Let's try to the same thing but with VI now"
   ]
  },
  {
   "cell_type": "code",
   "execution_count": 0,
   "metadata": {
    "colab": {},
    "colab_type": "code",
    "id": "Qc483LxIpkkT"
   },
   "outputs": [],
   "source": [
    "import tensorflow_probability as tfp\n",
    "tfd = tfp.distributions\n",
    "tfb = tfp.bijectors"
   ]
  },
  {
   "cell_type": "code",
   "execution_count": 0,
   "metadata": {
    "colab": {},
    "colab_type": "code",
    "id": "gETVcMW5pkkW"
   },
   "outputs": [],
   "source": [
    "data = pkr1.numpy()"
   ]
  },
  {
   "cell_type": "code",
   "execution_count": 0,
   "metadata": {
    "colab": {},
    "colab_type": "code",
    "id": "XSXS7EWNpkkZ"
   },
   "outputs": [],
   "source": [
    "# Gaussian posterior\n",
    "# q = tfd.MultivariateNormalTriL(\n",
    "#     loc=tf.Variable([13.5, 0.5], name=\"mu\"),\n",
    "#     scale_tril=tfp.util.TransformedVariable(\n",
    "#         0.1*tf.eye(2, dtype=tf.float32),\n",
    "#         tfp.bijectors.ScaleTriL(diag_bijector=tfb.Softplus()),\n",
    "#         name=\"raw_scale_tril\"))\n",
    "q = tfd.MultivariateNormalDiag(\n",
    "    loc=tf.Variable([13.0, 0.8], name=\"mu\"),\n",
    "    scale_diag=tfp.util.TransformedVariable([0.25, 0.05], \n",
    "                                            bijector=tfb.Softplus(),\n",
    "                                            name=\"scale\"))\n",
    "\n",
    "# And let's also add an independent prior\n",
    "p = tfd.MultivariateNormalDiag(loc=[12.5, 0.4], scale_diag=[1.5,0.1])"
   ]
  },
  {
   "cell_type": "code",
   "execution_count": 0,
   "metadata": {
    "colab": {},
    "colab_type": "code",
    "id": "apo7ATClpkkf",
    "outputId": "8c9f74a3-2821-42ca-d7b5-f68a0f4f47bf"
   },
   "outputs": [
    {
     "data": {
      "image/png": "[encoded data removed]",
      "text/plain": [
       "<Figure size 432x288 with 2 Axes>"
      ]
     },
     "metadata": {
      "needs_background": "light",
      "tags": []
     },
     "output_type": "display_data"
    }
   ],
   "source": [
    "subplot(121)\n",
    "s = q.sample(5000).numpy()\n",
    "hist2d(s[:,0], s[:,1],32,range=[[9,15],[0,1]])\n",
    "axvline(12.02,color='red')\n",
    "axhline(0.26,color='red')\n",
    "xlabel('logM')\n",
    "ylabel('sig_logM')\n",
    "title('initial posterior')\n",
    "\n",
    "subplot(122)\n",
    "s = p.sample(5000).numpy()\n",
    "hist2d(s[:,0], s[:,1],32,range=[[9,15],[0,1]]);\n",
    "xlabel('logM')\n",
    "\n",
    "\n",
    "title('prior');"
   ]
  },
  {
   "cell_type": "code",
   "execution_count": 0,
   "metadata": {
    "colab": {},
    "colab_type": "code",
    "id": "9djSgLXgpkkj"
   },
   "outputs": [],
   "source": [
    "opt = tf.keras.optimizers.Adam(learning_rate=0.01)\n",
    "\n",
    "@tf.function\n",
    "def loss_fn():\n",
    "    # First we sample from posterior\n",
    "    z = q.sample()\n",
    "    \n",
    "    # We compute associated log lik\n",
    "    _, pkr = pk(sample(tf_halocat, z[0], z[1])[0],\n",
    "     shape=rho[0].shape, \n",
    "     boxsize= np.array([128,128,128]), # WARNING: That's not the right size\n",
    "     kmin=0.001,dk=.05)\n",
    "    \n",
    "    log_lik = tf.reduce_sum((pkr - data)**2)\n",
    "    \n",
    "    # And here we compute the KL divergence\n",
    "    kl = tf.clip_by_value(q.log_prob(z) - p.log_prob(z), 0, 1000)\n",
    "    \n",
    "    return log_lik*10  + kl"
   ]
  },
  {
   "cell_type": "code",
   "execution_count": 0,
   "metadata": {
    "colab": {},
    "colab_type": "code",
    "id": "-3nsBrW2pkko",
    "outputId": "da3318d0-0dd3-49e1-fc67-89ac2766142b"
   },
   "outputs": [
    {
     "name": "stdout",
     "output_type": "stream",
     "text": [
      "tf.Tensor([13.   0.8], shape=(2,), dtype=float32)\n"
     ]
    }
   ],
   "source": [
    "print(q.mean())"
   ]
  },
  {
   "cell_type": "code",
   "execution_count": 0,
   "metadata": {
    "colab": {},
    "colab_type": "code",
    "id": "JlOkJR7tpkku",
    "outputId": "6a047d5e-1888-4c8a-f6b3-32c78a8e6851"
   },
   "outputs": [
    {
     "data": {
      "text/plain": [
       "<tf.Tensor: shape=(), dtype=float32, numpy=72.31191>"
      ]
     },
     "execution_count": 230,
     "metadata": {
      "tags": []
     },
     "output_type": "execute_result"
    }
   ],
   "source": [
    "loss_fn()"
   ]
  },
  {
   "cell_type": "code",
   "execution_count": 0,
   "metadata": {
    "colab": {},
    "colab_type": "code",
    "id": "2D9YIKnrpkky",
    "outputId": "8bb5cb83-1ae5-4ed8-890f-0a89aa4f1cf1"
   },
   "outputs": [
    {
     "name": "stdout",
     "output_type": "stream",
     "text": [
      "tf.Tensor([12.623424   0.7782686], shape=(2,), dtype=float32)\n",
      "tf.Tensor([12.612616   0.7832668], shape=(2,), dtype=float32)\n",
      "tf.Tensor([12.601287   0.7897872], shape=(2,), dtype=float32)\n",
      "tf.Tensor([12.589726    0.79739034], shape=(2,), dtype=float32)\n",
      "tf.Tensor([12.5785675  0.8037137], shape=(2,), dtype=float32)\n",
      "tf.Tensor([12.567035    0.81112224], shape=(2,), dtype=float32)\n",
      "tf.Tensor([12.555358   0.8189155], shape=(2,), dtype=float32)\n",
      "tf.Tensor([12.543893    0.82608384], shape=(2,), dtype=float32)\n",
      "tf.Tensor([12.543167    0.82147276], shape=(2,), dtype=float32)\n",
      "tf.Tensor([12.545328    0.81445056], shape=(2,), dtype=float32)\n",
      "tf.Tensor([12.546644   0.8082497], shape=(2,), dtype=float32)\n",
      "tf.Tensor([12.547264   0.8027439], shape=(2,), dtype=float32)\n",
      "tf.Tensor([12.546737    0.79854035], shape=(2,), dtype=float32)\n",
      "tf.Tensor([12.55318    0.7903485], shape=(2,), dtype=float32)\n",
      "tf.Tensor([12.558813    0.78294885], shape=(2,), dtype=float32)\n",
      "tf.Tensor([12.563512    0.77646804], shape=(2,), dtype=float32)\n",
      "tf.Tensor([12.56752     0.77062005], shape=(2,), dtype=float32)\n",
      "tf.Tensor([12.570747    0.76552624], shape=(2,), dtype=float32)\n",
      "tf.Tensor([12.573439    0.76098466], shape=(2,), dtype=float32)\n",
      "tf.Tensor([12.575601    0.75695074], shape=(2,), dtype=float32)\n",
      "tf.Tensor([12.583024   0.7485075], shape=(2,), dtype=float32)\n",
      "tf.Tensor([12.58963    0.7408463], shape=(2,), dtype=float32)\n",
      "tf.Tensor([12.595578    0.73383534], shape=(2,), dtype=float32)\n",
      "tf.Tensor([12.600807    0.72752994], shape=(2,), dtype=float32)\n",
      "tf.Tensor([12.605537    0.72170126], shape=(2,), dtype=float32)\n",
      "tf.Tensor([12.609654  0.716505], shape=(2,), dtype=float32)\n",
      "tf.Tensor([12.613221   0.7118165], shape=(2,), dtype=float32)\n",
      "tf.Tensor([12.616188    0.70773387], shape=(2,), dtype=float32)\n",
      "tf.Tensor([12.618818   0.7039765], shape=(2,), dtype=float32)\n",
      "tf.Tensor([12.6209345   0.70072126], shape=(2,), dtype=float32)\n",
      "tf.Tensor([12.622638    0.69785243], shape=(2,), dtype=float32)\n",
      "tf.Tensor([12.624017    0.69529647], shape=(2,), dtype=float32)\n",
      "tf.Tensor([12.625083   0.6930404], shape=(2,), dtype=float32)\n",
      "tf.Tensor([12.625868   0.6910528], shape=(2,), dtype=float32)\n",
      "tf.Tensor([12.62641    0.6893159], shape=(2,), dtype=float32)\n",
      "tf.Tensor([12.626632   0.6878913], shape=(2,), dtype=float32)\n",
      "tf.Tensor([12.626588    0.68670624], shape=(2,), dtype=float32)\n",
      "tf.Tensor([12.626343   0.6857007], shape=(2,), dtype=float32)\n",
      "tf.Tensor([12.625915    0.68488824], shape=(2,), dtype=float32)\n",
      "tf.Tensor([12.625316   0.6842428], shape=(2,), dtype=float32)\n",
      "tf.Tensor([12.624479    0.68381673], shape=(2,), dtype=float32)\n",
      "tf.Tensor([12.623502   0.6835148], shape=(2,), dtype=float32)\n",
      "tf.Tensor([12.622381    0.68335366], shape=(2,), dtype=float32)\n",
      "tf.Tensor([12.621054   0.6833796], shape=(2,), dtype=float32)\n",
      "tf.Tensor([12.619565    0.68355095], shape=(2,), dtype=float32)\n",
      "tf.Tensor([12.618087   0.6837143], shape=(2,), dtype=float32)\n",
      "tf.Tensor([12.61642     0.68406564], shape=(2,), dtype=float32)\n",
      "tf.Tensor([12.614616   0.6845663], shape=(2,), dtype=float32)\n"
     ]
    }
   ],
   "source": [
    "for i in range(100):\n",
    "    opt.minimize(loss_fn,  q.trainable_variables)\n",
    "    print(q.mean())"
   ]
  },
  {
   "cell_type": "code",
   "execution_count": 0,
   "metadata": {
    "colab": {},
    "colab_type": "code",
    "id": "WfFMb2BDpkk1",
    "outputId": "6c93443c-3c29-4d29-b005-e652cf2f02e0"
   },
   "outputs": [
    {
     "data": {
      "image/png": "[encoded data removed]",
      "text/plain": [
       "<Figure size 432x288 with 2 Axes>"
      ]
     },
     "metadata": {
      "needs_background": "light",
      "tags": []
     },
     "output_type": "display_data"
    }
   ],
   "source": [
    "#Well.... it's moving...\n",
    "subplot(121)\n",
    "s = q.sample(5000).numpy()\n",
    "hist2d(s[:,0], s[:,1],64,range=[[9,15],[0,1]])\n",
    "axvline(12.02,color='red')\n",
    "axhline(0.26,color='red')\n",
    "xlabel('logM')\n",
    "ylabel('sig_logM')\n",
    "title('posterior')\n",
    "\n",
    "subplot(122)\n",
    "s = p.sample(5000).numpy()\n",
    "hist2d(s[:,0], s[:,1],32,range=[[9,15],[0,1]]);\n",
    "xlabel('logM')\n",
    "\n",
    "title('prior');"
   ]
  },
  {
   "cell_type": "code",
   "execution_count": 0,
   "metadata": {
    "colab": {},
    "colab_type": "code",
    "id": "WSFqcdy-pkk4"
   },
   "outputs": [],
   "source": [
    "# Let's have a look at a sample from the posterior\n",
    "z = q.sample()\n",
    "print(z)\n",
    "_, pkr = pk(sample(tf_halocat, z[0], z[1])[0],\n",
    "     shape=rho[0].shape, \n",
    "     boxsize= np.array([128,128,128]), # WARNING: That's not the right size\n",
    "     kmin=0.001,dk=.05)\n",
    "\n",
    "_, pk0 = pk(sample(tf_halocat, 13, 0.8)[0],\n",
    "     shape=rho[0].shape, \n",
    "     boxsize= np.array([128,128,128]), # WARNING: That's not the right size\n",
    "     kmin=0.001,dk=.05)\n",
    "\n",
    "\n",
    "\n",
    "loglog(k1,pkr1, label='data')\n",
    "loglog(k2,pkr, label='rec')\n",
    "loglog(k2,pk0, '--', label='initial guess')\n",
    "legend()"
   ]
  },
  {
   "cell_type": "code",
   "execution_count": 0,
   "metadata": {
    "colab": {},
    "colab_type": "code",
    "id": "rLIr-ANXpkk8",
    "outputId": "19355cd7-6e39-4811-c0ff-0a77142b7fe5"
   },
   "outputs": [
    {
     "data": {
      "text/plain": [
       "<tfp.distributions.MultivariateNormalDiag 'MultivariateNormalDiag' batch_shape=[] event_shape=[2] dtype=float32>"
      ]
     },
     "execution_count": 234,
     "metadata": {
      "tags": []
     },
     "output_type": "execute_result"
    }
   ],
   "source": [
    "q"
   ]
  },
  {
   "cell_type": "code",
   "execution_count": 0,
   "metadata": {
    "colab": {},
    "colab_type": "code",
    "id": "d9BnQiAlpklB"
   },
   "outputs": [],
   "source": []
  }
 ],
 "metadata": {
  "accelerator": "GPU",
  "colab": {
   "include_colab_link": true,
   "name": "PowerSpectrum.ipynb",
   "provenance": []
  },
  "kernelspec": {
   "display_name": "Python 3 - GPU",
   "language": "python",
   "name": "gpu-python3"
  },
  "language_info": {
   "codemirror_mode": {
    "name": "ipython",
    "version": 3
   },
   "file_extension": ".py",
   "mimetype": "text/x-python",
   "name": "python",
   "nbconvert_exporter": "python",
   "pygments_lexer": "ipython3",
   "version": "3.8.2"
  }
 },
 "nbformat": 4,
 "nbformat_minor": 1
}
