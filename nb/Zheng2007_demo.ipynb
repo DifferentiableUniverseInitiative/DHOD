{
  "nbformat": 4,
  "nbformat_minor": 0,
  "metadata": {
    "accelerator": "GPU",
    "colab": {
      "name": "Zheng2007_demo.ipynb",
      "provenance": [],
      "include_colab_link": true
    },
    "kernelspec": {
      "name": "python3",
      "display_name": "Python 3"
    },
    "language_info": {
      "name": "python"
    }
  },
  "cells": [
    {
      "cell_type": "markdown",
      "metadata": {
        "id": "view-in-github",
        "colab_type": "text"
      },
      "source": [
        "<a href=\"https://colab.research.google.com/github/DifferentiableUniverseInitiative/DHOD/blob/master/nb/Zheng2007_demo.ipynb\" target=\"_parent\"><img src=\"https://colab.research.google.com/assets/colab-badge.svg\" alt=\"Open In Colab\"/></a>"
      ]
    },
    {
      "cell_type": "markdown",
      "metadata": {
        "id": "vMIDMDMB29O5"
      },
      "source": [
        "# Implementation of Zheng2007 in DiffHOD \n",
        "\n",
        "Authors:\n",
        "  - [@EiffL](https://github.com/EiffL) (Francois Lanusse)\n",
        "  - [@bhorowitz](https://github.com/bhorowitz) (Ben Horowitz)\n",
        "\n",
        "## Overview\n",
        "\n",
        "This notebook illustrates how to implenent Zheng2007, and compare the results to halotools."
      ]
    },
    {
      "cell_type": "markdown",
      "metadata": {
        "id": "9IcIyYwx3NpC"
      },
      "source": [
        "## Preliminary setup\n",
        "\n",
        "Here we download and install all the requirements, as well as a test halo catalog provided with halotools."
      ]
    },
    {
      "cell_type": "code",
      "metadata": {
        "id": "dSprAu1n63WF"
      },
      "source": [
        "# Installing dependencies\n",
        "!pip install --quiet -i https://test.pypi.org/simple/ halotools\n",
        "!pip install --quiet git+https://github.com/DifferentiableUniverseInitiative/DHOD.git\n",
        "# Downloading halo catalog for use with halotools\n",
        "!download_initial_halocat.py "
      ],
      "execution_count": null,
      "outputs": []
    },
    {
      "cell_type": "code",
      "metadata": {
        "scrolled": true,
        "id": "ZKtdGqry6XBL",
        "outputId": "1d0c41a8-04ac-4005-aae4-06798b520e36",
        "colab": {
          "base_uri": "https://localhost:8080/"
        }
      },
      "source": [
        "# Importing all utilities needed\n",
        "%pylab inline\n",
        "import tensorflow as tf\n",
        "print(\"TensorFlow Version\", tf.__version__)\n",
        "import tensorflow_probability as tfp\n",
        "print(\"TensorFlow Probability Version\", tfp.__version__)\n",
        "tfd = tfp.distributions\n",
        "tfb = tfp.bijectors\n",
        "import edward2 as ed\n",
        "\n",
        "# DiffHOD imports\n",
        "from diffhod.components import Zheng07Cens, Zheng07SatsRelaxedBernoulli, NFWProfile\n",
        "from diffhod.utils import cic_paint\n",
        "\n",
        "# halotools imports\n",
        "from halotools.sim_manager import CachedHaloCatalog\n",
        "from halotools.empirical_models import PrebuiltHodModelFactory\n",
        "from halotools.mock_observables.two_point_clustering import tpcf\n",
        "from halotools.mock_observables import return_xyz_formatted_array"
      ],
      "execution_count": 6,
      "outputs": [
        {
          "output_type": "stream",
          "text": [
            "Populating the interactive namespace from numpy and matplotlib\n",
            "TensorFlow Version 2.5.0\n",
            "TensorFlow Probability Version 0.13.0\n"
          ],
          "name": "stdout"
        }
      ]
    },
    {
      "cell_type": "markdown",
      "metadata": {
        "id": "S3LYrOZP3nLc"
      },
      "source": [
        "## Prepare halo catalog"
      ]
    },
    {
      "cell_type": "code",
      "metadata": {
        "id": "g19tDxGwVY8P"
      },
      "source": [
        "# Load a reference halo catalog\n",
        "halocat = CachedHaloCatalog(simname = 'bolshoi', redshift=-0.003) \n",
        "\n",
        "# Removing subhalos and convert table to tensors\n",
        "halo_table = halocat.halo_table\n",
        "halo_table = halo_table[halo_table['halo_pid'] == -1]\n",
        "tf_halocat = {k: tf.convert_to_tensor(halo_table[k], dtype=tf.float32) for k in halo_table.colnames}"
      ],
      "execution_count": 7,
      "outputs": []
    },
    {
      "cell_type": "markdown",
      "metadata": {
        "id": "v6Jc3b6Y4C3T"
      },
      "source": [
        "## Model definition\n",
        "\n",
        "We now define our HOD, first using halotools:"
      ]
    },
    {
      "cell_type": "code",
      "metadata": {
        "id": "TlyGUsUx38Hd"
      },
      "source": [
        "# We first load our reference halotools model\n",
        "zheng07_model = PrebuiltHodModelFactory('zheng07', \n",
        "                                        redshift =-0.003, \n",
        "                                        modulate_with_cenocc=True)"
      ],
      "execution_count": 9,
      "outputs": []
    },
    {
      "cell_type": "markdown",
      "metadata": {
        "id": "gl0lQf5J85JZ"
      },
      "source": [
        "And now, the equivalent using DiffHOD to compose the HOD:"
      ]
    },
    {
      "cell_type": "code",
      "metadata": {
        "id": "mHKueJeB6XBQ"
      },
      "source": [
        "# Here is how we define the same model in diffhod\n",
        "@tf.function\n",
        "def hod(halo_cat, max_sat=60, temp=0.00001, params = zheng07_model.param_dict):\n",
        "\n",
        "  ### Occupation model ###\n",
        "  n_cen = Zheng07Cens(halo_cat['halo_mvir'],\n",
        "                      **params,\n",
        "                      temperature=temp)\n",
        "  \n",
        "  n_sat = Zheng07SatsRelaxedBernoulli(halo_cat['halo_mvir'],\n",
        "                                      n_cen,\n",
        "                                      **params,\n",
        "                                      sample_shape=(max_sat,),\n",
        "                                      temperature=temp)\n",
        "  \n",
        "  ### Phase Space model ###\n",
        "  # Centrals are just located at center of halo\n",
        "  pos_cen = ed.Deterministic(tf.stack([halo_cat['halo_x'],\n",
        "                                        halo_cat['halo_y'],\n",
        "                                        halo_cat['halo_z']], axis=-1))\n",
        "    \n",
        "  # Satellites follow an NFW profile centered on halos\n",
        "  pos_sat = NFWProfile(pos=pos_cen,\n",
        "                        concentration=halo_cat['halo_nfw_conc'],\n",
        "                        Rvir=halo_cat['halo_rvir'],\n",
        "                        sample_shape=(max_sat,))\n",
        "  \n",
        "  return {'pos_cen':pos_cen, 'pos_sat':pos_sat, 'n_cen':n_cen, 'n_sat':n_sat}"
      ],
      "execution_count": 10,
      "outputs": []
    },
    {
      "cell_type": "markdown",
      "metadata": {
        "id": "f0kpXpRI9NXV"
      },
      "source": [
        "#### Sampling galaxies with both models"
      ]
    },
    {
      "cell_type": "code",
      "metadata": {
        "id": "iUwwpdUiex6-"
      },
      "source": [
        "# sampling galaxies from the model\n",
        "gal_cat = hod(tf_halocat)"
      ],
      "execution_count": 12,
      "outputs": []
    },
    {
      "cell_type": "code",
      "metadata": {
        "id": "5jGtvPrXdV1e"
      },
      "source": [
        "# Same thing with halotools\n",
        "zheng07_model.populate_mock(halocat) "
      ],
      "execution_count": 13,
      "outputs": []
    },
    {
      "cell_type": "markdown",
      "metadata": {
        "id": "N8DEVqbc48hk"
      },
      "source": [
        "## Testing 2pt function"
      ]
    },
    {
      "cell_type": "code",
      "metadata": {
        "id": "IbBf4EAfV__6"
      },
      "source": [
        "# Let's define halotools samples\n",
        "ht_sample = return_xyz_formatted_array(zheng07_model.mock.galaxy_table['x'],\n",
        "                                       zheng07_model.mock.galaxy_table['y'],\n",
        "                                       zheng07_model.mock.galaxy_table['z'])\n",
        "m = zheng07_model.mock.galaxy_table['host_centric_distance'] <0.0001\n",
        "ht_cens = ht_sample[m]\n",
        "ht_sats = ht_sample[~m]"
      ],
      "execution_count": 14,
      "outputs": []
    },
    {
      "cell_type": "code",
      "metadata": {
        "id": "kqb4bXBv0U3j"
      },
      "source": [
        "# Same thing for dhod\n",
        "p = gal_cat['n_cen']>0.5\n",
        "tf_cens = gal_cat['pos_cen'][p[0]].numpy()\n",
        "p = gal_cat['n_sat']>0.5\n",
        "tf_sats = gal_cat['pos_sat'][p[:,0,:]].numpy().reshape((-1,3))\n",
        "tf_sample = np.concatenate([tf_cens, tf_sats], axis=0)"
      ],
      "execution_count": 15,
      "outputs": []
    },
    {
      "cell_type": "code",
      "metadata": {
        "colab": {
          "base_uri": "https://localhost:8080/",
          "height": 299
        },
        "id": "egHiliqQecqM",
        "outputId": "1a17cbf2-5976-4973-fe9e-26f72a4f8302"
      },
      "source": [
        "rbins = np.logspace(-1.5, 1.5, 16)\n",
        "xi_ht = tpcf(ht_sample, rbins, period=halocat.Lbox)\n",
        "xi_tf = tpcf(tf_sample, rbins, period=halocat.Lbox)\n",
        "\n",
        "loglog(rbins[1:],xi_ht, label='halotools')\n",
        "loglog(rbins[1:],xi_tf, label='DHOD')\n",
        "xlabel('r [Mpc/h]')\n",
        "title('Zheng2007 HOD 2pcf');"
      ],
      "execution_count": 16,
      "outputs": [
        {
          "output_type": "display_data",
          "data": {
            "image/png": "[encoded data removed]",
            "text/plain": [
              "<Figure size 432x288 with 1 Axes>"
            ]
          },
          "metadata": {
            "tags": [],
            "needs_background": "light"
          }
        }
      ]
    },
    {
      "cell_type": "code",
      "metadata": {
        "colab": {
          "base_uri": "https://localhost:8080/",
          "height": 353
        },
        "id": "-f2g6xD1f-ZA",
        "outputId": "80846f4a-8423-4a9d-bfad-2a0f1586b00a"
      },
      "source": [
        "xi_ht_cen = tpcf(ht_cens, rbins, period=halocat.Lbox)\n",
        "xi_tf_cen = tpcf(tf_cens, rbins, period=halocat.Lbox)\n",
        "xi_ht_sat = tpcf(ht_sats, rbins, period=halocat.Lbox)\n",
        "xi_tf_sat = tpcf(tf_sats, rbins, period=halocat.Lbox)\n",
        "\n",
        "figure(figsize=(13,5))\n",
        "subplot(121)\n",
        "loglog(rbins[1:],xi_ht_cen, label='halotools')\n",
        "loglog(rbins[1:],xi_tf_cen, label='DHOD')\n",
        "xlabel('r [Mpc/h]')\n",
        "title('Centrals');\n",
        "\n",
        "subplot(122)\n",
        "loglog(rbins[1:],xi_ht_sat, label='halotools')\n",
        "loglog(rbins[1:],xi_tf_sat, label='DHOD')\n",
        "xlabel('r [Mpc/h]')\n",
        "title('Satellites');"
      ],
      "execution_count": 17,
      "outputs": [
        {
          "output_type": "display_data",
          "data": {
            "image/png": "[encoded data removed]",
            "text/plain": [
              "<Figure size 936x360 with 2 Axes>"
            ]
          },
          "metadata": {
            "tags": [],
            "needs_background": "light"
          }
        }
      ]
    },
    {
      "cell_type": "markdown",
      "metadata": {
        "id": "hmzdgPWl6XBU"
      },
      "source": [
        "## Occupancy Distributions\n"
      ]
    },
    {
      "cell_type": "code",
      "metadata": {
        "id": "oJPsSgg36XBV"
      },
      "source": [
        "import scipy\n",
        "import copy \n",
        "\n",
        "hod_params = copy.deepcopy(zheng07_model.param_dict)"
      ],
      "execution_count": 18,
      "outputs": []
    },
    {
      "cell_type": "code",
      "metadata": {
        "id": "HmbR0HvM6XBW",
        "outputId": "3d7428c9-36db-4db7-b7fe-d8c754547bab",
        "colab": {
          "base_uri": "https://localhost:8080/"
        }
      },
      "source": [
        "out_sat = []\n",
        "out_cen = []\n",
        "\n",
        "binned_out_sat = scipy.stats.binned_statistic(np.log10(zheng07_model.mock.halo_table[\"halo_mvir\"]),zheng07_model.mock.halo_table[\"halo_num_satellites\"],bins=50)\n",
        "binned_out_cen = scipy.stats.binned_statistic(np.log10(zheng07_model.mock.halo_table[\"halo_mvir\"]),zheng07_model.mock.halo_table[\"halo_num_centrals\"],bins=50)\n",
        "\n",
        "for tau in [1,0.75,0.02,0.001]:\n",
        "# sampling galaxies from the model\n",
        "    gal_cat = hod(tf_halocat,temp = tau,params=hod_params)\n",
        "    binned_out_sat_tf = scipy.stats.binned_statistic(np.log10(tf_halocat[\"halo_mvir\"]),tf.reduce_sum(gal_cat['n_sat'],axis=0),bins=50)\n",
        "    binned_out_cen_tf = scipy.stats.binned_statistic(np.log10(tf_halocat[\"halo_mvir\"]),gal_cat['n_cen'],bins=50)\n",
        "\n",
        "    out_sat.append(binned_out_sat_tf)\n",
        "    out_cen.append(binned_out_cen_tf)"
      ],
      "execution_count": 19,
      "outputs": [
        {
          "output_type": "stream",
          "text": [
            "WARNING:tensorflow:5 out of the last 5 calls to <function hod at 0x7f82df959c20> triggered tf.function retracing. Tracing is expensive and the excessive number of tracings could be due to (1) creating @tf.function repeatedly in a loop, (2) passing tensors with different shapes, (3) passing Python objects instead of tensors. For (1), please define your @tf.function outside of the loop. For (2), @tf.function has experimental_relax_shapes=True option that relaxes argument shapes that can avoid unnecessary retracing. For (3), please refer to https://www.tensorflow.org/guide/function#controlling_retracing and https://www.tensorflow.org/api_docs/python/tf/function for  more details.\n"
          ],
          "name": "stdout"
        }
      ]
    },
    {
      "cell_type": "code",
      "metadata": {
        "id": "j0WWX5nI6XBX"
      },
      "source": [
        "#pretty plot\n",
        "\n",
        "import matplotlib as mpl\n",
        "import matplotlib.pyplot as plt\n",
        "mpl.rcParams['text.usetex'] = False\n",
        "mpl.rcParams['font.family'] = 'serif'\n",
        "mpl.rcParams['axes.linewidth'] = 1.5\n",
        "mpl.rcParams['axes.xmargin'] = 1\n",
        "mpl.rcParams['xtick.labelsize'] = 'x-large'\n",
        "mpl.rcParams['xtick.major.size'] = 5\n",
        "mpl.rcParams['xtick.major.width'] = 1.5\n",
        "mpl.rcParams['ytick.labelsize'] = 'x-large'\n",
        "mpl.rcParams['ytick.major.size'] = 5\n",
        "mpl.rcParams['ytick.major.width'] = 1.5\n",
        "mpl.rcParams['legend.frameon'] = False"
      ],
      "execution_count": 20,
      "outputs": []
    },
    {
      "cell_type": "code",
      "metadata": {
        "id": "l_0eGSqJ6XBX",
        "outputId": "4a296e98-6347-4b0e-9c17-279c19538b00",
        "colab": {
          "base_uri": "https://localhost:8080/",
          "height": 297
        }
      },
      "source": [
        "plt.plot((binned_out_sat.bin_edges[1:] + binned_out_sat.bin_edges[:-1])/2,binned_out_sat.statistic,\"r*\",label=\"HOD\")\n",
        "\n",
        "tt = [1,0.75,0.02,0.001]\n",
        "\n",
        "for n,os in enumerate(out_sat):\n",
        "    plt.plot((os.bin_edges[1:] + os.bin_edges[:-1])/2,os.statistic[0],label=r\"$\\tau = $\" + str(tt[n]))\n",
        "plt.legend(loc=4,fontsize=12)\n",
        "plt.semilogy()\n",
        "plt.ylabel(r\"$\\langle N_{sat} \\rangle$\",fontsize=14)\n",
        "plt.xlabel(r\"$\\log_{10}(M_{vir})$\",fontsize=14)\n",
        "plt.ylim(0.001,100)\n",
        "plt.xlim(11.0,14.80)\n",
        "plt.tight_layout()\n",
        "plt.savefig(\"occupancy_sat.pdf\")"
      ],
      "execution_count": 21,
      "outputs": [
        {
          "output_type": "display_data",
          "data": {
            "image/png": "[encoded data removed]",
            "text/plain": [
              "<Figure size 432x288 with 1 Axes>"
            ]
          },
          "metadata": {
            "tags": [],
            "needs_background": "light"
          }
        }
      ]
    },
    {
      "cell_type": "code",
      "metadata": {
        "id": "ukdvE9CE6XBY",
        "outputId": "15a2c99e-76f8-4096-b5ae-4e069e15ccdd",
        "colab": {
          "base_uri": "https://localhost:8080/",
          "height": 297
        }
      },
      "source": [
        "plt.plot((binned_out_cen.bin_edges[1:] + binned_out_cen.bin_edges[:-1])/2,binned_out_cen.statistic,\"r*\",label=\"HOD\")\n",
        "\n",
        "tt = [1,0.75,0.02,0.001]\n",
        "\n",
        "for n,os in enumerate(out_cen):\n",
        "    plt.plot((os.bin_edges[1:] + os.bin_edges[:-1])/2,os.statistic[0],label=r\"$\\tau = $\" + str(tt[n]))\n",
        "plt.legend(loc=4,fontsize=12)\n",
        "#plt.semilogy()\n",
        "plt.ylabel(r\"$\\langle N_{cen} \\rangle$\",fontsize=14)\n",
        "plt.xlabel(r\"$\\log_{10}(M_{vir})$\",fontsize=14)\n",
        "plt.ylim(-0.1,1.1)\n",
        "plt.xlim(11.0,14.80)\n",
        "plt.tight_layout()\n",
        "\n",
        "plt.savefig(\"occupancy_cen.pdf\")\n"
      ],
      "execution_count": 22,
      "outputs": [
        {
          "output_type": "display_data",
          "data": {
            "image/png": "[encoded data removed]",
            "text/plain": [
              "<Figure size 432x288 with 1 Axes>"
            ]
          },
          "metadata": {
            "tags": [],
            "needs_background": "light"
          }
        }
      ]
    },
    {
      "cell_type": "code",
      "metadata": {
        "id": "G1jZ3l466XBY"
      },
      "source": [
        "# choosing subvolume so we can play around easier with derivatives\n",
        "\n",
        "# Load a reference halo catalog\n",
        "halocat = CachedHaloCatalog(simname = 'bolshoi', redshift=-0.003) \n",
        "\n",
        "# Removing subhalos and convert table to tensors\n",
        "halo_table = halocat.halo_table\n",
        "halo_table = halo_table[halo_table['halo_pid'] == -1]\n",
        "\n",
        "\n",
        "halo_table = halo_table[halo_table['halo_x'] < 128]\n",
        "halo_table = halo_table[halo_table['halo_y'] < 128]\n",
        "halo_table = halo_table[halo_table['halo_z'] < 128]\n",
        "tf_halocat = {k: tf.convert_to_tensor(halo_table[k], dtype=tf.float32) for k in halo_table.colnames}"
      ],
      "execution_count": 24,
      "outputs": []
    },
    {
      "cell_type": "code",
      "metadata": {
        "id": "gOlGmv9f6XBZ",
        "outputId": "b09a4d22-b013-4b02-a6d7-821c48705077",
        "colab": {
          "base_uri": "https://localhost:8080/"
        }
      },
      "source": [
        "#for some reason I can't get derivatives of all bandpowers at once with this sort of setup and end up looping through them isntead...\n",
        "#easier than debugging the grad function :D\n",
        "\n",
        "tau_array = [0.001,0.02,1.0]\n",
        "sat_array =[]\n",
        "\n",
        "cen_array =[]\n",
        "for tau in tau_array:\n",
        "    print(tau)\n",
        "    bins = tf.linspace(tf.math.reduce_min(np.log10(tf_halocat[\"halo_mvir\"])), tf.math.reduce_max(np.log10(tf_halocat[\"halo_mvir\"])), 50)\n",
        "\n",
        "    def ncen(x):\n",
        "        logMmin,sigma_logM,logM0,logM1,alpha = tf.transpose(x)\n",
        "        params = {'logMmin':logMmin, 'sigma_logM':sigma_logM,\n",
        "                  'logM0':logM0,'logM1':logM1, 'alpha':alpha}\n",
        "        tf_gal = hod(tf_halocat,max_sat=30,temp=tau, params=params)\n",
        "        a=tfp.stats.histogram(tf.math.log(tf_halocat[\"halo_mvir\"])/tf.math.log(10.0),bins,weights=tf_gal['n_cen'])\n",
        "        b=tfp.stats.histogram(tf.math.log(tf_halocat[\"halo_mvir\"])/tf.math.log(10.0),bins)\n",
        "        return a/b\n",
        "\n",
        "\n",
        "    def nsat(x):\n",
        "        logMmin,sigma_logM,logM0,logM1,alpha = tf.transpose(x)\n",
        "        params = {'logMmin':logMmin, 'sigma_logM':sigma_logM,\n",
        "                  'logM0':logM0,'logM1':logM1, 'alpha':alpha}\n",
        "        tf_gal = hod(tf_halocat,max_sat=30,temp=tau, params=params)\n",
        "        a=tfp.stats.histogram(tf.math.log(tf_halocat[\"halo_mvir\"])/tf.math.log(10.0),bins,weights=tf.reduce_sum(tf_gal['n_sat'],axis=0))\n",
        "        b=tfp.stats.histogram(tf.math.log(tf_halocat[\"halo_mvir\"])/tf.math.log(10.0),bins)\n",
        "        return a/b\n",
        "    \n",
        "    #checking gradients...\n",
        "    out_ar = []\n",
        "    x = tf.Variable([12.02,  0.26, 11.38, 13.31,  0000001.9900010])\n",
        "    print(ncen(x))#[[12.02,12.02,], [0.26,0.26,], [11.38,11.38,], [13.31,13.31,], [x,x,]]))\n",
        "    #loss_ar.append(np.array(L))\n",
        "    for nn in range(0,49):\n",
        "        def get_grads(x):\n",
        "            with tf.GradientTape(persistent=True) as g:\n",
        "             #  g.watch(x)\n",
        "               L = nsat(x)[nn]\n",
        "            dL_dx = g.gradient(L, x)\n",
        "            return dL_dx\n",
        "        #a = tf.constant((np.array([[12.5,0.5,11.38,13.01, x]],dtype=np.float32)))\n",
        "        grad = get_grads(x)\n",
        "        out_ar.append(np.array(grad))\n",
        "        print(nn,grad)\n",
        "    sat_array.append(np.array(out_ar))\n",
        "    out_ar = []\n",
        "    #same for centrals\n",
        "    x = tf.Variable([12.02,  0.26, 11.38, 13.31,  0000001.9900010])\n",
        "    print(ncen(x))#[[12.02,12.02,], [0.26,0.26,], [11.38,11.38,], [13.31,13.31,], [x,x,]]))\n",
        "    #loss_ar.append(np.array(L))\n",
        "    for nn in range(0,49):\n",
        "        def get_grads(x):\n",
        "            with tf.GradientTape(persistent=True) as g:\n",
        "             #  g.watch(x)\n",
        "               L = ncen(x)[nn]\n",
        "            dL_dx = g.gradient(L, x)\n",
        "            return dL_dx\n",
        "        #a = tf.constant((np.array([[12.5,0.5,11.38,13.01, x]],dtype=np.float32)))\n",
        "        grad = get_grads(x)\n",
        "        out_ar.append(np.array(grad))\n",
        "        print(nn,grad)\n",
        "    cen_array.append(np.array(out_ar))\n"
      ],
      "execution_count": 35,
      "outputs": [
        {
          "output_type": "stream",
          "text": [
            "0.001\n",
            "tf.Tensor(\n",
            "[0.0000000e+00 0.0000000e+00 0.0000000e+00 0.0000000e+00 0.0000000e+00\n",
            " 0.0000000e+00 0.0000000e+00 0.0000000e+00 0.0000000e+00 0.0000000e+00\n",
            " 0.0000000e+00 0.0000000e+00 0.0000000e+00 0.0000000e+00 0.0000000e+00\n",
            " 0.0000000e+00 3.9763014e-05 4.3504740e-05 1.0940319e-04 1.4310246e-04\n",
            " 8.9229943e-05 2.2606533e-04 1.4526438e-04 2.4366993e-03 2.0185102e-02\n",
            " 7.0087798e-02 2.1114607e-01 4.6965095e-01 7.0611876e-01 8.7755436e-01\n",
            " 9.6222222e-01 9.9016851e-01 1.0000000e+00 1.0000000e+00 1.0000000e+00\n",
            " 1.0000000e+00 1.0000000e+00 1.0000000e+00 1.0000000e+00 1.0000000e+00\n",
            " 1.0000000e+00 1.0000000e+00 1.0000000e+00 1.0000000e+00 1.0000000e+00\n",
            " 1.0000000e+00 1.0000000e+00 1.0000000e+00 1.0000000e+00], shape=(49,), dtype=float32)\n",
            "0 tf.Tensor([nan nan nan nan nan], shape=(5,), dtype=float32)\n",
            "1 tf.Tensor([nan nan nan nan nan], shape=(5,), dtype=float32)\n",
            "2 tf.Tensor([nan nan nan nan nan], shape=(5,), dtype=float32)\n",
            "3 tf.Tensor([nan nan nan nan nan], shape=(5,), dtype=float32)\n",
            "4 tf.Tensor([nan nan nan nan nan], shape=(5,), dtype=float32)\n",
            "5 tf.Tensor([nan nan nan nan nan], shape=(5,), dtype=float32)\n",
            "6 tf.Tensor([nan nan nan nan nan], shape=(5,), dtype=float32)\n",
            "7 tf.Tensor([nan nan nan nan nan], shape=(5,), dtype=float32)\n",
            "8 tf.Tensor([nan nan nan nan nan], shape=(5,), dtype=float32)\n",
            "9 tf.Tensor([nan nan nan nan nan], shape=(5,), dtype=float32)\n",
            "10 tf.Tensor([nan nan nan nan nan], shape=(5,), dtype=float32)\n",
            "11 tf.Tensor([nan nan nan nan nan], shape=(5,), dtype=float32)\n",
            "12 tf.Tensor([nan nan nan nan nan], shape=(5,), dtype=float32)\n",
            "13 tf.Tensor([nan nan nan nan nan], shape=(5,), dtype=float32)\n",
            "14 tf.Tensor([nan nan nan nan nan], shape=(5,), dtype=float32)\n",
            "15 tf.Tensor([nan nan nan nan nan], shape=(5,), dtype=float32)\n",
            "16 tf.Tensor([nan nan nan nan nan], shape=(5,), dtype=float32)\n",
            "17 tf.Tensor([nan nan nan nan nan], shape=(5,), dtype=float32)\n",
            "18 tf.Tensor([nan nan nan nan nan], shape=(5,), dtype=float32)\n",
            "19 tf.Tensor([nan nan nan nan nan], shape=(5,), dtype=float32)\n",
            "20 tf.Tensor([nan nan nan nan nan], shape=(5,), dtype=float32)\n",
            "21 tf.Tensor([nan nan nan nan nan], shape=(5,), dtype=float32)\n",
            "22 tf.Tensor([nan nan nan nan nan], shape=(5,), dtype=float32)\n",
            "23 tf.Tensor([nan nan nan nan nan], shape=(5,), dtype=float32)\n",
            "24 tf.Tensor([nan nan nan nan nan], shape=(5,), dtype=float32)\n",
            "25 tf.Tensor([nan nan nan nan nan], shape=(5,), dtype=float32)\n",
            "26 tf.Tensor([nan nan nan nan nan], shape=(5,), dtype=float32)\n",
            "27 tf.Tensor([nan nan nan nan nan], shape=(5,), dtype=float32)\n",
            "28 tf.Tensor([nan nan nan nan nan], shape=(5,), dtype=float32)\n",
            "29 tf.Tensor([nan nan nan nan nan], shape=(5,), dtype=float32)\n",
            "30 tf.Tensor([nan nan nan nan nan], shape=(5,), dtype=float32)\n",
            "31 tf.Tensor([nan nan nan nan nan], shape=(5,), dtype=float32)\n",
            "32 tf.Tensor([nan nan nan nan nan], shape=(5,), dtype=float32)\n",
            "33 tf.Tensor([nan nan nan nan nan], shape=(5,), dtype=float32)\n",
            "34 tf.Tensor([nan nan nan nan nan], shape=(5,), dtype=float32)\n",
            "35 tf.Tensor([nan nan nan nan nan], shape=(5,), dtype=float32)\n",
            "36 tf.Tensor([nan nan nan nan nan], shape=(5,), dtype=float32)\n",
            "37 tf.Tensor([nan nan nan nan nan], shape=(5,), dtype=float32)\n",
            "38 tf.Tensor([nan nan nan nan nan], shape=(5,), dtype=float32)\n",
            "39 tf.Tensor([nan nan nan nan nan], shape=(5,), dtype=float32)\n",
            "40 tf.Tensor([nan nan nan nan nan], shape=(5,), dtype=float32)\n",
            "41 tf.Tensor([nan nan nan nan nan], shape=(5,), dtype=float32)\n",
            "42 tf.Tensor([nan nan nan nan nan], shape=(5,), dtype=float32)\n",
            "43 tf.Tensor([nan nan nan nan nan], shape=(5,), dtype=float32)\n",
            "44 tf.Tensor([nan nan nan nan nan], shape=(5,), dtype=float32)\n",
            "45 tf.Tensor([nan nan nan nan nan], shape=(5,), dtype=float32)\n",
            "46 tf.Tensor([nan nan nan nan nan], shape=(5,), dtype=float32)\n",
            "47 tf.Tensor([nan nan nan nan nan], shape=(5,), dtype=float32)\n",
            "48 tf.Tensor([nan nan nan nan nan], shape=(5,), dtype=float32)\n",
            "tf.Tensor(\n",
            "[0.0000000e+00 0.0000000e+00 0.0000000e+00 0.0000000e+00 0.0000000e+00\n",
            " 0.0000000e+00 0.0000000e+00 0.0000000e+00 0.0000000e+00 0.0000000e+00\n",
            " 0.0000000e+00 0.0000000e+00 0.0000000e+00 0.0000000e+00 0.0000000e+00\n",
            " 0.0000000e+00 7.9526028e-05 1.3051422e-04 2.1880641e-04 0.0000000e+00\n",
            " 1.7845989e-04 2.2606533e-04 5.8105751e-04 2.4574515e-03 1.7850505e-02\n",
            " 7.2037928e-02 2.3450130e-01 4.7656894e-01 6.9668722e-01 8.8315767e-01\n",
            " 9.7222221e-01 9.9157304e-01 1.0000000e+00 1.0000000e+00 1.0000000e+00\n",
            " 1.0000000e+00 1.0000000e+00 1.0000000e+00 1.0000000e+00 1.0000000e+00\n",
            " 1.0000000e+00 1.0000000e+00 1.0000000e+00 1.0000000e+00 1.0000000e+00\n",
            " 1.0000000e+00 1.0000000e+00 1.0000000e+00 1.0000000e+00], shape=(49,), dtype=float32)\n",
            "0 tf.Tensor([nan nan nan nan nan], shape=(5,), dtype=float32)\n",
            "1 tf.Tensor([nan nan nan nan nan], shape=(5,), dtype=float32)\n",
            "2 tf.Tensor([nan nan nan nan nan], shape=(5,), dtype=float32)\n",
            "3 tf.Tensor([nan nan nan nan nan], shape=(5,), dtype=float32)\n",
            "4 tf.Tensor([nan nan nan nan nan], shape=(5,), dtype=float32)\n",
            "5 tf.Tensor([nan nan nan nan nan], shape=(5,), dtype=float32)\n",
            "6 tf.Tensor([nan nan nan nan nan], shape=(5,), dtype=float32)\n",
            "7 tf.Tensor([nan nan nan nan nan], shape=(5,), dtype=float32)\n",
            "8 tf.Tensor([nan nan nan nan nan], shape=(5,), dtype=float32)\n",
            "9 tf.Tensor([nan nan nan nan nan], shape=(5,), dtype=float32)\n",
            "10 tf.Tensor([nan nan nan nan nan], shape=(5,), dtype=float32)\n",
            "11 tf.Tensor([nan nan nan nan nan], shape=(5,), dtype=float32)\n",
            "12 tf.Tensor([nan nan nan nan nan], shape=(5,), dtype=float32)\n",
            "13 tf.Tensor([nan nan nan nan nan], shape=(5,), dtype=float32)\n",
            "14 tf.Tensor([nan nan nan nan nan], shape=(5,), dtype=float32)\n",
            "15 tf.Tensor([nan nan nan nan nan], shape=(5,), dtype=float32)\n",
            "16 tf.Tensor([nan nan nan nan nan], shape=(5,), dtype=float32)\n",
            "17 tf.Tensor([nan nan nan nan nan], shape=(5,), dtype=float32)\n",
            "18 tf.Tensor([nan nan nan nan nan], shape=(5,), dtype=float32)\n",
            "19 tf.Tensor([nan nan nan nan nan], shape=(5,), dtype=float32)\n",
            "20 tf.Tensor([nan nan nan nan nan], shape=(5,), dtype=float32)\n",
            "21 tf.Tensor([nan nan nan nan nan], shape=(5,), dtype=float32)\n",
            "22 tf.Tensor([nan nan nan nan nan], shape=(5,), dtype=float32)\n",
            "23 tf.Tensor([nan nan nan nan nan], shape=(5,), dtype=float32)\n",
            "24 tf.Tensor([nan nan nan nan nan], shape=(5,), dtype=float32)\n",
            "25 tf.Tensor([nan nan nan nan nan], shape=(5,), dtype=float32)\n",
            "26 tf.Tensor([nan nan nan nan nan], shape=(5,), dtype=float32)\n",
            "27 tf.Tensor([nan nan nan nan nan], shape=(5,), dtype=float32)\n",
            "28 tf.Tensor([nan nan nan nan nan], shape=(5,), dtype=float32)\n",
            "29 tf.Tensor([nan nan nan nan nan], shape=(5,), dtype=float32)\n",
            "30 tf.Tensor([nan nan nan nan nan], shape=(5,), dtype=float32)\n",
            "31 tf.Tensor([nan nan nan nan nan], shape=(5,), dtype=float32)\n",
            "32 tf.Tensor([nan nan nan nan nan], shape=(5,), dtype=float32)\n",
            "33 tf.Tensor([nan nan nan nan nan], shape=(5,), dtype=float32)\n",
            "34 tf.Tensor([nan nan nan nan nan], shape=(5,), dtype=float32)\n",
            "35 tf.Tensor([nan nan nan nan nan], shape=(5,), dtype=float32)\n",
            "36 tf.Tensor([nan nan nan nan nan], shape=(5,), dtype=float32)\n",
            "37 tf.Tensor([nan nan nan nan nan], shape=(5,), dtype=float32)\n",
            "38 tf.Tensor([nan nan nan nan nan], shape=(5,), dtype=float32)\n",
            "39 tf.Tensor([nan nan nan nan nan], shape=(5,), dtype=float32)\n",
            "40 tf.Tensor([nan nan nan nan nan], shape=(5,), dtype=float32)\n",
            "41 tf.Tensor([nan nan nan nan nan], shape=(5,), dtype=float32)\n",
            "42 tf.Tensor([nan nan nan nan nan], shape=(5,), dtype=float32)\n",
            "43 tf.Tensor([nan nan nan nan nan], shape=(5,), dtype=float32)\n",
            "44 tf.Tensor([nan nan nan nan nan], shape=(5,), dtype=float32)\n",
            "45 tf.Tensor([nan nan nan nan nan], shape=(5,), dtype=float32)\n",
            "46 tf.Tensor([nan nan nan nan nan], shape=(5,), dtype=float32)\n",
            "47 tf.Tensor([nan nan nan nan nan], shape=(5,), dtype=float32)\n",
            "48 tf.Tensor([nan nan nan nan nan], shape=(5,), dtype=float32)\n",
            "0.02\n",
            "tf.Tensor(\n",
            "[0.00000000e+00 0.00000000e+00 0.00000000e+00 0.00000000e+00\n",
            " 0.00000000e+00 0.00000000e+00 0.00000000e+00 0.00000000e+00\n",
            " 0.00000000e+00 0.00000000e+00 0.00000000e+00 4.54253867e-25\n",
            " 0.00000000e+00 0.00000000e+00 0.00000000e+00 1.64300254e-21\n",
            " 3.97630138e-05 4.86706462e-08 1.24605257e-11 1.44734869e-17\n",
            " 4.70515632e-16 1.13032664e-04 2.97119288e-04 3.03959264e-03\n",
            " 1.85969472e-02 8.31043944e-02 2.20533714e-01 4.65499043e-01\n",
            " 7.12248385e-01 8.69852066e-01 9.62318838e-01 9.97191012e-01\n",
            " 1.00000000e+00 1.00000000e+00 1.00000000e+00 1.00000000e+00\n",
            " 1.00000000e+00 1.00000000e+00 1.00000000e+00 1.00000000e+00\n",
            " 1.00000000e+00 1.00000000e+00 1.00000000e+00 1.00000000e+00\n",
            " 1.00000000e+00 1.00000000e+00 1.00000000e+00 1.00000000e+00\n",
            " 1.00000000e+00], shape=(49,), dtype=float32)\n",
            "0 tf.Tensor([nan nan nan nan nan], shape=(5,), dtype=float32)\n",
            "1 tf.Tensor([nan nan nan nan nan], shape=(5,), dtype=float32)\n",
            "2 tf.Tensor([nan nan nan nan nan], shape=(5,), dtype=float32)\n",
            "3 tf.Tensor([nan nan nan nan nan], shape=(5,), dtype=float32)\n",
            "4 tf.Tensor([nan nan nan nan nan], shape=(5,), dtype=float32)\n",
            "5 tf.Tensor([nan nan nan nan nan], shape=(5,), dtype=float32)\n",
            "6 tf.Tensor([nan nan nan nan nan], shape=(5,), dtype=float32)\n",
            "7 tf.Tensor([nan nan nan nan nan], shape=(5,), dtype=float32)\n",
            "8 tf.Tensor([nan nan nan nan nan], shape=(5,), dtype=float32)\n",
            "9 tf.Tensor([nan nan nan nan nan], shape=(5,), dtype=float32)\n",
            "10 tf.Tensor([nan nan nan nan nan], shape=(5,), dtype=float32)\n",
            "11 tf.Tensor([nan nan nan nan nan], shape=(5,), dtype=float32)\n",
            "12 tf.Tensor([nan nan nan nan nan], shape=(5,), dtype=float32)\n",
            "13 tf.Tensor([nan nan nan nan nan], shape=(5,), dtype=float32)\n",
            "14 tf.Tensor([nan nan nan nan nan], shape=(5,), dtype=float32)\n",
            "15 tf.Tensor([nan nan nan nan nan], shape=(5,), dtype=float32)\n",
            "16 tf.Tensor([nan nan nan nan nan], shape=(5,), dtype=float32)\n",
            "17 tf.Tensor([nan nan nan nan nan], shape=(5,), dtype=float32)\n",
            "18 tf.Tensor([nan nan nan nan nan], shape=(5,), dtype=float32)\n",
            "19 tf.Tensor([nan nan nan nan nan], shape=(5,), dtype=float32)\n",
            "20 tf.Tensor([nan nan nan nan nan], shape=(5,), dtype=float32)\n",
            "21 tf.Tensor([nan nan nan nan nan], shape=(5,), dtype=float32)\n",
            "22 tf.Tensor([nan nan nan nan nan], shape=(5,), dtype=float32)\n",
            "23 tf.Tensor([nan nan nan nan nan], shape=(5,), dtype=float32)\n",
            "24 tf.Tensor([nan nan nan nan nan], shape=(5,), dtype=float32)\n",
            "25 tf.Tensor([nan nan nan nan nan], shape=(5,), dtype=float32)\n",
            "26 tf.Tensor([nan nan nan nan nan], shape=(5,), dtype=float32)\n",
            "27 tf.Tensor([nan nan nan nan nan], shape=(5,), dtype=float32)\n",
            "28 tf.Tensor([nan nan nan nan nan], shape=(5,), dtype=float32)\n",
            "29 tf.Tensor([nan nan nan nan nan], shape=(5,), dtype=float32)\n",
            "30 tf.Tensor([nan nan nan nan nan], shape=(5,), dtype=float32)\n",
            "31 tf.Tensor([nan nan nan nan nan], shape=(5,), dtype=float32)\n",
            "32 tf.Tensor([nan nan nan nan nan], shape=(5,), dtype=float32)\n",
            "33 tf.Tensor([nan nan nan nan nan], shape=(5,), dtype=float32)\n",
            "34 tf.Tensor([nan nan nan nan nan], shape=(5,), dtype=float32)\n",
            "35 tf.Tensor([nan nan nan nan nan], shape=(5,), dtype=float32)\n",
            "36 tf.Tensor([nan nan nan nan nan], shape=(5,), dtype=float32)\n",
            "37 tf.Tensor([nan nan nan nan nan], shape=(5,), dtype=float32)\n",
            "38 tf.Tensor([nan nan nan nan nan], shape=(5,), dtype=float32)\n",
            "39 tf.Tensor([nan nan nan nan nan], shape=(5,), dtype=float32)\n",
            "40 tf.Tensor([nan nan nan nan nan], shape=(5,), dtype=float32)\n",
            "41 tf.Tensor([nan nan nan nan nan], shape=(5,), dtype=float32)\n",
            "42 tf.Tensor([nan nan nan nan nan], shape=(5,), dtype=float32)\n",
            "43 tf.Tensor([nan nan nan nan nan], shape=(5,), dtype=float32)\n",
            "44 tf.Tensor([nan nan nan nan nan], shape=(5,), dtype=float32)\n",
            "45 tf.Tensor([nan nan nan nan nan], shape=(5,), dtype=float32)\n",
            "46 tf.Tensor([nan nan nan nan nan], shape=(5,), dtype=float32)\n",
            "47 tf.Tensor([nan nan nan nan nan], shape=(5,), dtype=float32)\n",
            "48 tf.Tensor([nan nan nan nan nan], shape=(5,), dtype=float32)\n",
            "tf.Tensor(\n",
            "[0.0000000e+00 0.0000000e+00 0.0000000e+00 0.0000000e+00 0.0000000e+00\n",
            " 0.0000000e+00 0.0000000e+00 0.0000000e+00 0.0000000e+00 0.0000000e+00\n",
            " 9.7615178e-08 0.0000000e+00 0.0000000e+00 3.9515648e-34 0.0000000e+00\n",
            " 2.5354969e-04 1.5907359e-04 4.3504740e-05 1.8971621e-04 9.1677100e-07\n",
            " 8.9229943e-05 1.5769352e-28 4.2029371e-04 3.8872205e-03 1.4491698e-02\n",
            " 6.8676196e-02 2.2524269e-01 4.4363096e-01 7.2200567e-01 8.9293134e-01\n",
            " 9.6708000e-01 9.9578559e-01 1.0000000e+00 9.9998170e-01 1.0000000e+00\n",
            " 1.0000000e+00 1.0000000e+00 1.0000000e+00 1.0000000e+00 1.0000000e+00\n",
            " 1.0000000e+00 1.0000000e+00 1.0000000e+00 1.0000000e+00 1.0000000e+00\n",
            " 1.0000000e+00 1.0000000e+00 1.0000000e+00 1.0000000e+00], shape=(49,), dtype=float32)\n",
            "0 tf.Tensor([nan nan nan nan nan], shape=(5,), dtype=float32)\n",
            "1 tf.Tensor([nan nan nan nan nan], shape=(5,), dtype=float32)\n",
            "2 tf.Tensor([nan nan nan nan nan], shape=(5,), dtype=float32)\n",
            "3 tf.Tensor([nan nan nan nan nan], shape=(5,), dtype=float32)\n",
            "4 tf.Tensor([nan nan nan nan nan], shape=(5,), dtype=float32)\n",
            "5 tf.Tensor([nan nan nan nan nan], shape=(5,), dtype=float32)\n",
            "6 tf.Tensor([nan nan nan nan nan], shape=(5,), dtype=float32)\n",
            "7 tf.Tensor([nan nan nan nan nan], shape=(5,), dtype=float32)\n",
            "8 tf.Tensor([nan nan nan nan nan], shape=(5,), dtype=float32)\n",
            "9 tf.Tensor([nan nan nan nan nan], shape=(5,), dtype=float32)\n",
            "10 tf.Tensor([nan nan nan nan nan], shape=(5,), dtype=float32)\n",
            "11 tf.Tensor([nan nan nan nan nan], shape=(5,), dtype=float32)\n",
            "12 tf.Tensor([nan nan nan nan nan], shape=(5,), dtype=float32)\n",
            "13 tf.Tensor([nan nan nan nan nan], shape=(5,), dtype=float32)\n",
            "14 tf.Tensor([nan nan nan nan nan], shape=(5,), dtype=float32)\n",
            "15 tf.Tensor([nan nan nan nan nan], shape=(5,), dtype=float32)\n",
            "16 tf.Tensor([nan nan nan nan nan], shape=(5,), dtype=float32)\n",
            "17 tf.Tensor([nan nan nan nan nan], shape=(5,), dtype=float32)\n",
            "18 tf.Tensor([nan nan nan nan nan], shape=(5,), dtype=float32)\n",
            "19 tf.Tensor([nan nan nan nan nan], shape=(5,), dtype=float32)\n",
            "20 tf.Tensor([nan nan nan nan nan], shape=(5,), dtype=float32)\n",
            "21 tf.Tensor([nan nan nan nan nan], shape=(5,), dtype=float32)\n",
            "22 tf.Tensor([nan nan nan nan nan], shape=(5,), dtype=float32)\n",
            "23 tf.Tensor([nan nan nan nan nan], shape=(5,), dtype=float32)\n",
            "24 tf.Tensor([nan nan nan nan nan], shape=(5,), dtype=float32)\n",
            "25 tf.Tensor([nan nan nan nan nan], shape=(5,), dtype=float32)\n",
            "26 tf.Tensor([nan nan nan nan nan], shape=(5,), dtype=float32)\n",
            "27 tf.Tensor([nan nan nan nan nan], shape=(5,), dtype=float32)\n",
            "28 tf.Tensor([nan nan nan nan nan], shape=(5,), dtype=float32)\n",
            "29 tf.Tensor([nan nan nan nan nan], shape=(5,), dtype=float32)\n",
            "30 tf.Tensor([nan nan nan nan nan], shape=(5,), dtype=float32)\n",
            "31 tf.Tensor([nan nan nan nan nan], shape=(5,), dtype=float32)\n",
            "32 tf.Tensor([nan nan nan nan nan], shape=(5,), dtype=float32)\n",
            "33 tf.Tensor([nan nan nan nan nan], shape=(5,), dtype=float32)\n",
            "34 tf.Tensor([nan nan nan nan nan], shape=(5,), dtype=float32)\n",
            "35 tf.Tensor([nan nan nan nan nan], shape=(5,), dtype=float32)\n",
            "36 tf.Tensor([nan nan nan nan nan], shape=(5,), dtype=float32)\n",
            "37 tf.Tensor([nan nan nan nan nan], shape=(5,), dtype=float32)\n",
            "38 tf.Tensor([nan nan nan nan nan], shape=(5,), dtype=float32)\n",
            "39 tf.Tensor([nan nan nan nan nan], shape=(5,), dtype=float32)\n",
            "40 tf.Tensor([nan nan nan nan nan], shape=(5,), dtype=float32)\n",
            "41 tf.Tensor([nan nan nan nan nan], shape=(5,), dtype=float32)\n",
            "42 tf.Tensor([nan nan nan nan nan], shape=(5,), dtype=float32)\n",
            "43 tf.Tensor([nan nan nan nan nan], shape=(5,), dtype=float32)\n",
            "44 tf.Tensor([nan nan nan nan nan], shape=(5,), dtype=float32)\n",
            "45 tf.Tensor([nan nan nan nan nan], shape=(5,), dtype=float32)\n",
            "46 tf.Tensor([nan nan nan nan nan], shape=(5,), dtype=float32)\n",
            "47 tf.Tensor([nan nan nan nan nan], shape=(5,), dtype=float32)\n",
            "48 tf.Tensor([nan nan nan nan nan], shape=(5,), dtype=float32)\n",
            "1.0\n",
            "tf.Tensor(\n",
            "[2.8272544e-04 5.8171017e-06 1.3304102e-04 3.3270623e-04 8.1230181e-05\n",
            " 3.1697814e-04 7.3721999e-04 6.4299195e-03 2.5720926e-04 4.0547419e-04\n",
            " 4.4037148e-04 7.3379476e-04 5.1896035e-04 1.1893860e-03 7.9192891e-04\n",
            " 7.2973908e-04 7.2686729e-04 8.8229531e-04 7.6052343e-04 6.8155112e-04\n",
            " 8.1365107e-04 7.6911517e-04 2.4632327e-03 1.3669230e-02 5.5425406e-02\n",
            " 1.5613665e-01 3.0705658e-01 4.7371244e-01 6.4000124e-01 7.9366070e-01\n",
            " 9.1685033e-01 9.7473979e-01 9.9525958e-01 9.9897784e-01 9.9852663e-01\n",
            " 9.9936044e-01 9.9961197e-01 9.9952745e-01 9.9933183e-01 9.9975866e-01\n",
            " 9.9921054e-01 9.9916154e-01 9.9957138e-01 9.9965739e-01 9.9964952e-01\n",
            " 9.9961281e-01 9.9971735e-01 9.9813998e-01 9.9935365e-01], shape=(49,), dtype=float32)\n",
            "0 tf.Tensor([0. 0. 0. 0. 0.], shape=(5,), dtype=float32)\n",
            "1 tf.Tensor([0. 0. 0. 0. 0.], shape=(5,), dtype=float32)\n",
            "2 tf.Tensor([0. 0. 0. 0. 0.], shape=(5,), dtype=float32)\n",
            "3 tf.Tensor([0. 0. 0. 0. 0.], shape=(5,), dtype=float32)\n",
            "4 tf.Tensor([0. 0. 0. 0. 0.], shape=(5,), dtype=float32)\n",
            "5 tf.Tensor([0. 0. 0. 0. 0.], shape=(5,), dtype=float32)\n",
            "6 tf.Tensor([0. 0. 0. 0. 0.], shape=(5,), dtype=float32)\n",
            "7 tf.Tensor([0. 0. 0. 0. 0.], shape=(5,), dtype=float32)\n",
            "8 tf.Tensor([0. 0. 0. 0. 0.], shape=(5,), dtype=float32)\n",
            "9 tf.Tensor([0. 0. 0. 0. 0.], shape=(5,), dtype=float32)\n",
            "10 tf.Tensor([0. 0. 0. 0. 0.], shape=(5,), dtype=float32)\n",
            "11 tf.Tensor([0. 0. 0. 0. 0.], shape=(5,), dtype=float32)\n",
            "12 tf.Tensor([0. 0. 0. 0. 0.], shape=(5,), dtype=float32)\n",
            "13 tf.Tensor([0. 0. 0. 0. 0.], shape=(5,), dtype=float32)\n",
            "14 tf.Tensor([0. 0. 0. 0. 0.], shape=(5,), dtype=float32)\n",
            "15 tf.Tensor([0. 0. 0. 0. 0.], shape=(5,), dtype=float32)\n",
            "16 tf.Tensor([0. 0. 0. 0. 0.], shape=(5,), dtype=float32)\n",
            "17 tf.Tensor([0. 0. 0. 0. 0.], shape=(5,), dtype=float32)\n",
            "18 tf.Tensor([0. 0. 0. 0. 0.], shape=(5,), dtype=float32)\n",
            "19 tf.Tensor([0. 0. 0. 0. 0.], shape=(5,), dtype=float32)\n",
            "20 tf.Tensor([0. 0. 0. 0. 0.], shape=(5,), dtype=float32)\n",
            "21 tf.Tensor([0. 0. 0. 0. 0.], shape=(5,), dtype=float32)\n",
            "22 tf.Tensor([0. 0. 0. 0. 0.], shape=(5,), dtype=float32)\n",
            "23 tf.Tensor([0. 0. 0. 0. 0.], shape=(5,), dtype=float32)\n",
            "24 tf.Tensor([0. 0. 0. 0. 0.], shape=(5,), dtype=float32)\n",
            "25 tf.Tensor([0. 0. 0. 0. 0.], shape=(5,), dtype=float32)\n",
            "26 tf.Tensor([-0.00127919  0.00041512 -0.00037381 -0.00096983 -0.0007388 ], shape=(5,), dtype=float32)\n",
            "27 tf.Tensor([-0.02870474  0.00161022 -0.00891769 -0.02897163 -0.02061297], shape=(5,), dtype=float32)\n",
            "28 tf.Tensor([-0.03985229 -0.01614627 -0.01581566 -0.07319387 -0.0464367 ], shape=(5,), dtype=float32)\n",
            "29 tf.Tensor([-0.03765541 -0.03179833 -0.02365864 -0.15060315 -0.0850843 ], shape=(5,), dtype=float32)\n",
            "30 tf.Tensor([-0.0226431  -0.02993952 -0.03265237 -0.2904417  -0.14289597], shape=(5,), dtype=float32)\n",
            "31 tf.Tensor([-0.0090529  -0.01598831 -0.04093545 -0.4924037  -0.2098387 ], shape=(5,), dtype=float32)\n",
            "32 tf.Tensor([-0.0021894  -0.00486343 -0.04821095 -0.7853109  -0.2827048 ], shape=(5,), dtype=float32)\n",
            "33 tf.Tensor(\n",
            "[-1.7269517e-04 -4.4559897e-04 -5.9054758e-02 -1.2941504e+00\n",
            " -3.8215041e-01], shape=(5,), dtype=float32)\n",
            "34 tf.Tensor([ 0.          0.         -0.06762958 -1.988823   -0.4596102 ], shape=(5,), dtype=float32)\n",
            "35 tf.Tensor([ 0.          0.         -0.07763232 -3.0603712  -0.51166046], shape=(5,), dtype=float32)\n",
            "36 tf.Tensor([ 0.          0.         -0.08710052 -4.578085   -0.47834057], shape=(5,), dtype=float32)\n",
            "37 tf.Tensor([ 0.          0.         -0.09358486 -6.630024   -0.26112565], shape=(5,), dtype=float32)\n",
            "38 tf.Tensor([ 0.          0.         -0.09939323 -9.370573    0.2161079 ], shape=(5,), dtype=float32)\n",
            "39 tf.Tensor([  0.           0.          -0.10347964 -13.090087     1.1423495 ], shape=(5,), dtype=float32)\n",
            "40 tf.Tensor([  0.           0.          -0.11110512 -18.539806     2.7406101 ], shape=(5,), dtype=float32)\n",
            "41 tf.Tensor([  0.           0.          -0.11252235 -24.588064     5.0754023 ], shape=(5,), dtype=float32)\n",
            "42 tf.Tensor([  0.           0.          -0.12864497 -38.032818    10.362598  ], shape=(5,), dtype=float32)\n",
            "43 tf.Tensor([  0.           0.          -0.19538683 -77.91299     26.32497   ], shape=(5,), dtype=float32)\n",
            "44 tf.Tensor([  0.           0.          -0.06100693 -28.549887    10.619768  ], shape=(5,), dtype=float32)\n",
            "45 tf.Tensor([0. 0. 0. 0. 0.], shape=(5,), dtype=float32)\n",
            "46 tf.Tensor([0. 0. 0. 0. 0.], shape=(5,), dtype=float32)\n",
            "47 tf.Tensor([0. 0. 0. 0. 0.], shape=(5,), dtype=float32)\n",
            "48 tf.Tensor([0. 0. 0. 0. 0.], shape=(5,), dtype=float32)\n",
            "tf.Tensor(\n",
            "[4.0106673e-04 2.1685706e-05 1.5041122e-05 1.6984651e-04 2.1686431e-03\n",
            " 6.1441807e-04 2.0432999e-04 4.2018184e-04 1.3635583e-03 3.9240386e-04\n",
            " 6.0011965e-04 6.0401158e-04 4.3257573e-04 1.3273098e-03 8.8554301e-04\n",
            " 6.7023240e-04 7.6999725e-04 7.3521852e-04 7.2598644e-04 9.2512200e-04\n",
            " 9.1013958e-04 7.2383392e-04 1.9081142e-03 1.2369230e-02 5.8590095e-02\n",
            " 1.5771063e-01 2.8923300e-01 4.6508816e-01 6.4870018e-01 7.9581475e-01\n",
            " 9.1860855e-01 9.7681248e-01 9.9409050e-01 9.9895412e-01 9.9951077e-01\n",
            " 9.9890536e-01 9.9957174e-01 9.9915224e-01 9.9682647e-01 9.9763876e-01\n",
            " 9.9930596e-01 9.9972117e-01 9.9963313e-01 9.9977148e-01 9.9973249e-01\n",
            " 9.9976778e-01 9.9372196e-01 9.9867272e-01 9.9992377e-01], shape=(49,), dtype=float32)\n",
            "0 tf.Tensor([0. 0. 0. 0. 0.], shape=(5,), dtype=float32)\n",
            "1 tf.Tensor([0. 0. 0. 0. 0.], shape=(5,), dtype=float32)\n",
            "2 tf.Tensor([0. 0. 0. 0. 0.], shape=(5,), dtype=float32)\n",
            "3 tf.Tensor([0. 0. 0. 0. 0.], shape=(5,), dtype=float32)\n",
            "4 tf.Tensor([0. 0. 0. 0. 0.], shape=(5,), dtype=float32)\n",
            "5 tf.Tensor([0. 0. 0. 0. 0.], shape=(5,), dtype=float32)\n",
            "6 tf.Tensor([0. 0. 0. 0. 0.], shape=(5,), dtype=float32)\n",
            "7 tf.Tensor([0. 0. 0. 0. 0.], shape=(5,), dtype=float32)\n",
            "8 tf.Tensor([0. 0. 0. 0. 0.], shape=(5,), dtype=float32)\n",
            "9 tf.Tensor([0. 0. 0. 0. 0.], shape=(5,), dtype=float32)\n",
            "10 tf.Tensor([0. 0. 0. 0. 0.], shape=(5,), dtype=float32)\n",
            "11 tf.Tensor([0. 0. 0. 0. 0.], shape=(5,), dtype=float32)\n",
            "12 tf.Tensor([0. 0. 0. 0. 0.], shape=(5,), dtype=float32)\n",
            "13 tf.Tensor([0. 0. 0. 0. 0.], shape=(5,), dtype=float32)\n",
            "14 tf.Tensor([0. 0. 0. 0. 0.], shape=(5,), dtype=float32)\n",
            "15 tf.Tensor([0. 0. 0. 0. 0.], shape=(5,), dtype=float32)\n",
            "16 tf.Tensor([0. 0. 0. 0. 0.], shape=(5,), dtype=float32)\n",
            "17 tf.Tensor([0. 0. 0. 0. 0.], shape=(5,), dtype=float32)\n",
            "18 tf.Tensor([0. 0. 0. 0. 0.], shape=(5,), dtype=float32)\n",
            "19 tf.Tensor([0. 0. 0. 0. 0.], shape=(5,), dtype=float32)\n",
            "20 tf.Tensor([0. 0. 0. 0. 0.], shape=(5,), dtype=float32)\n",
            "21 tf.Tensor([0. 0. 0. 0. 0.], shape=(5,), dtype=float32)\n",
            "22 tf.Tensor([-0.03504729  0.08314797  0.          0.          0.        ], shape=(5,), dtype=float32)\n",
            "23 tf.Tensor([-0.17865646  0.34379172  0.          0.          0.        ], shape=(5,), dtype=float32)\n",
            "24 tf.Tensor([-0.5312868  0.7829876  0.         0.         0.       ], shape=(5,), dtype=float32)\n",
            "25 tf.Tensor([-0.99998796  1.0087755   0.          0.          0.        ], shape=(5,), dtype=float32)\n",
            "26 tf.Tensor([-1.2834339   0.70552075  0.          0.          0.        ], shape=(5,), dtype=float32)\n",
            "27 tf.Tensor([-1.4355665   0.11822768  0.          0.          0.        ], shape=(5,), dtype=float32)\n",
            "28 tf.Tensor([-1.3971796  -0.55135584  0.          0.          0.        ], shape=(5,), dtype=float32)\n",
            "29 tf.Tensor([-1.14974   -0.9737597  0.         0.         0.       ], shape=(5,), dtype=float32)\n",
            "30 tf.Tensor([-0.7330202  -0.96209025  0.          0.          0.        ], shape=(5,), dtype=float32)\n",
            "31 tf.Tensor([-0.24671873 -0.43861306  0.          0.          0.        ], shape=(5,), dtype=float32)\n",
            "32 tf.Tensor([-0.07917969 -0.17520304  0.          0.          0.        ], shape=(5,), dtype=float32)\n",
            "33 tf.Tensor([-0.00361011 -0.00929     0.          0.          0.        ], shape=(5,), dtype=float32)\n",
            "34 tf.Tensor([0. 0. 0. 0. 0.], shape=(5,), dtype=float32)\n",
            "35 tf.Tensor([0. 0. 0. 0. 0.], shape=(5,), dtype=float32)\n",
            "36 tf.Tensor([0. 0. 0. 0. 0.], shape=(5,), dtype=float32)\n",
            "37 tf.Tensor([0. 0. 0. 0. 0.], shape=(5,), dtype=float32)\n",
            "38 tf.Tensor([0. 0. 0. 0. 0.], shape=(5,), dtype=float32)\n",
            "39 tf.Tensor([0. 0. 0. 0. 0.], shape=(5,), dtype=float32)\n",
            "40 tf.Tensor([0. 0. 0. 0. 0.], shape=(5,), dtype=float32)\n",
            "41 tf.Tensor([0. 0. 0. 0. 0.], shape=(5,), dtype=float32)\n",
            "42 tf.Tensor([0. 0. 0. 0. 0.], shape=(5,), dtype=float32)\n",
            "43 tf.Tensor([0. 0. 0. 0. 0.], shape=(5,), dtype=float32)\n",
            "44 tf.Tensor([0. 0. 0. 0. 0.], shape=(5,), dtype=float32)\n",
            "45 tf.Tensor([0. 0. 0. 0. 0.], shape=(5,), dtype=float32)\n",
            "46 tf.Tensor([0. 0. 0. 0. 0.], shape=(5,), dtype=float32)\n",
            "47 tf.Tensor([0. 0. 0. 0. 0.], shape=(5,), dtype=float32)\n",
            "48 tf.Tensor([0. 0. 0. 0. 0.], shape=(5,), dtype=float32)\n"
          ],
          "name": "stdout"
        }
      ]
    },
    {
      "cell_type": "code",
      "metadata": {
        "id": "4B5oIKKl6XBa"
      },
      "source": [
        "#analytical derivatives\n",
        "\n",
        "def dncendlogmin(M):\n",
        "    logMmin, sigma_logM, logM0, logM1, alpha = [12.02,  0.26, 11.38, 13.31,  0000001.9900010]\n",
        "    exp = np.exp(-(M-logMmin)**2/sigma_logM**2.0)\n",
        "    print((sigma_logM*np.sqrt(np.pi)*logMmin))\n",
        "    return -exp*10/(sigma_logM*np.sqrt(np.pi)*M)\n",
        "    \n",
        "def dncendsigma(M):\n",
        "    logMmin, sigma_logM, logM0, logM1, alpha = [12.02,  0.26, 11.38, 13.31,  0000001.9900010]\n",
        "    exp = np.exp(-(M-logMmin)**2/sigma_logM**2.0)\n",
        "    print((sigma_logM*np.sqrt(np.pi)*logMmin))\n",
        "    return -exp*1/(sigma_logM**2.0*np.sqrt(np.pi)) * (M-logMmin)\n",
        "\n",
        "def dnsatdlogmin(M):\n",
        "    logMmin, sigma_logM, logM0, logM1, alpha = [12.02,  0.26, 11.38, 13.31,  0000001.9900010]\n",
        "    exp = np.exp(-(M-logMmin)**2/sigma_logM**2.0)\n",
        "    print((sigma_logM*np.sqrt(np.pi)*logMmin))\n",
        "    pref = ((10**M-10**logM0)/(10**logM1))**alpha\n",
        "    return -exp*10/(sigma_logM*np.sqrt(np.pi)*M)*pref\n",
        "    \n",
        "def dnsatdsigma(M):\n",
        "    logMmin, sigma_logM, logM0, logM1, alpha = [12.02,  0.26, 11.38, 13.31,  0000001.9900010]\n",
        "    exp = np.exp(-(M-logMmin)**2/sigma_logM**2.0)\n",
        "    print((sigma_logM*np.sqrt(np.pi)*logMmin))\n",
        "    pref = ((10**M-10**logM0)/(10**logM1))**alpha\n",
        "\n",
        "    return -exp*1/(sigma_logM**2.0*np.sqrt(np.pi)) * (M-logMmin)*pref\n",
        "\n",
        "\n",
        "def dnsatdalpha(M):\n",
        "    logMmin, sigma_logM, logM0, logM1, alpha = [12.02,  0.26, 11.38, 13.31,  0000001.9900010]\n",
        "    pref = 1/2*(1+ scipy.special.erf((M-logMmin)/sigma_logM))\n",
        "\n",
        "    return pref *((10**M-10**logM0)/(10**logM1))**(alpha) * np.log((10**M-10**logM0)/(10**logM1))\n",
        "\n",
        "def dnsatdlogM0(M):\n",
        "    logMmin, sigma_logM, logM0, logM1, alpha = [12.02,  0.26, 11.38, 13.31,  0000001.9900010]\n",
        "    pref = 1/2*(1+ scipy.special.erf((M-logMmin)/sigma_logM))\n",
        "\n",
        "    return 1/2*pref *((10**M-10**logM0)/(10**logM1))**(alpha-1) * -1*alpha/logM1\n",
        "\n",
        "\n",
        "def dnsatdlogM1(M):\n",
        "    logMmin, sigma_logM, logM0, logM1, alpha = [12.02,  0.26, 11.38, 13.31,  0000001.9900010]\n",
        "    pref = 1/2*20*(1+ scipy.special.erf((M-logMmin)/sigma_logM))\n",
        "\n",
        "    return pref *((10**M-10**logM0)/(10**logM1))**(alpha) * -1*alpha/logM1"
      ],
      "execution_count": 36,
      "outputs": []
    },
    {
      "cell_type": "code",
      "metadata": {
        "id": "mfdJCgHq6XBb",
        "outputId": "1aa4b628-aa58-4176-94fb-9b87870fc33f",
        "colab": {
          "base_uri": "https://localhost:8080/",
          "height": 621
        }
      },
      "source": [
        "\n",
        "fig, ax = plt.subplots(2, 3,sharex=True,sharey=True)\n",
        "fig.set_size_inches(11.5, 7.5)\n",
        "\n",
        "ll = [r'$\\logM_{min}$', r'$\\sigma_{\\log M}$', r'$\\log M_0$', r'$\\log M_1$', r'$\\alpha$']\n",
        "\n",
        "ax[0,0].set_ylabel(r\"$d\\langle N_{cen} \\rangle/d\\theta$\",fontsize=20)\n",
        "ax[1,0].set_ylabel(r\"$d\\langle N_{sat} \\rangle/d\\theta$\",fontsize=20)\n",
        "\n",
        "for i,xx in enumerate(cen_array):\n",
        "    for j in range(0,5):\n",
        "        ax[0,i].plot((bins[1:]+bins[:-1])/2,xx[:,j],label = ll[j])  \n",
        "    ax[0,i].set_xlim(10.5,15)\n",
        "  #  ax[0,i].set_ylabel(r\"$d\\langle N_{sat} \\rangle/d\\theta$\")\n",
        "    ax[0,i].set_yscale('symlog', linthreshy=0.0010)\n",
        "    ax[0,i].set_title(r'$\\tau = $' + str(tau_array[i]),fontsize=20)\n",
        "\n",
        "for i,xx in enumerate(sat_array):\n",
        "    for j in range(0,5):\n",
        "        ax[1,i].plot((bins[1:]+bins[:-1])/2,xx[:,j],label = ll[j])\n",
        "    ax[1,i].set_xlim(10.5,15)\n",
        "    ax[1,i].set_yscale('symlog', linthreshy=0.0010)\n",
        "    ax[1,i].set_xlabel(r'$\\log_{10} M/M_\\odot$',fontsize=20)\n",
        "    #ax[0,i].set_title(r'$\\tau = $' + str(tau_array[i]))\n",
        "\n",
        "    \n",
        "ax[0,1].plot(np.linspace(10,14.5,50),dncendlogmin(np.linspace(10,14.5,50)),\"b*\",markersize=3)\n",
        "ax[0,1].plot(np.linspace(10,14.5,50),dncendsigma(np.linspace(10,14.5,50)),\"*\",color=\"orange\",markersize=3)\n",
        "\n",
        "\n",
        "\n",
        "ax[1,1].plot(np.linspace(10,14.5,50),dnsatdlogmin(np.linspace(10,14.5,50)),\"b*\",markersize=3)\n",
        "ax[1,1].plot(np.linspace(10,14.5,50),dnsatdsigma(np.linspace(10,14.5,50)),\"*\",color=\"orange\",markersize=3)\n",
        "ax[1,1].plot(np.linspace(10,14.5,50),dnsatdalpha(np.linspace(10,14.5,50)),\"*\",color=\"purple\",markersize=3)\n",
        "ax[1,1].plot(np.linspace(10,14.5,50),dnsatdlogM0(np.linspace(10,14.5,50)),\"*\",color=\"green\",markersize=3)\n",
        "\n",
        "ax[1,1].plot(np.linspace(10,14.5,50),dnsatdlogM1(np.linspace(10,14.5,50)),\"*\",color=\"red\",markersize=3)\n",
        "\n",
        "plt.subplots_adjust(wspace=0, hspace=0)\n",
        "\n",
        "ax[1,0].legend(loc=3,fontsize=14)\n",
        "\n",
        "plt.tight_layout()\n",
        "plt.savefig(\"3panel.pdf\")"
      ],
      "execution_count": 37,
      "outputs": [
        {
          "output_type": "stream",
          "text": [
            "5.539272774849919\n",
            "5.539272774849919\n",
            "5.539272774849919\n",
            "5.539272774849919\n"
          ],
          "name": "stdout"
        },
        {
          "output_type": "display_data",
          "data": {
            "image/png": "[encoded data removed]",
            "text/plain": [
              "<Figure size 828x540 with 6 Axes>"
            ]
          },
          "metadata": {
            "tags": [],
            "needs_background": "light"
          }
        }
      ]
    },
    {
      "cell_type": "markdown",
      "metadata": {
        "id": "u_COQDTe6XBc"
      },
      "source": [
        "## Derivatives of Power Spectra"
      ]
    },
    {
      "cell_type": "code",
      "metadata": {
        "id": "ujdqOtGZ6XBd"
      },
      "source": [
        ""
      ],
      "execution_count": null,
      "outputs": []
    }
  ]
}