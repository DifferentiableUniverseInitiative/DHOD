{
  "nbformat": 4,
  "nbformat_minor": 0,
  "metadata": {
    "colab": {
      "name": "Zheng2007_demo.ipynb",
      "provenance": [],
      "authorship_tag": "ABX9TyMBrvfIpf0Fq9PIg+0d9ylk",
      "include_colab_link": true
    },
    "kernelspec": {
      "name": "python3",
      "display_name": "Python 3"
    },
    "accelerator": "GPU"
  },
  "cells": [
    {
      "cell_type": "markdown",
      "metadata": {
        "id": "view-in-github",
        "colab_type": "text"
      },
      "source": [
        "<a href=\"https://colab.research.google.com/github/DifferentiableUniverseInitiative/DHOD/blob/master/nb/Zheng2007_demo.ipynb\" target=\"_parent\"><img src=\"https://colab.research.google.com/assets/colab-badge.svg\" alt=\"Open In Colab\"/></a>"
      ]
    },
    {
      "cell_type": "markdown",
      "metadata": {
        "id": "vMIDMDMB29O5",
        "colab_type": "text"
      },
      "source": [
        "# Implementation of Zheng2007 in diffhod \n",
        "This notebook illustrates how to implenent Zheng2007, and compare the results to halotools"
      ]
    },
    {
      "cell_type": "markdown",
      "metadata": {
        "id": "9IcIyYwx3NpC",
        "colab_type": "text"
      },
      "source": [
        "## Preliminary setup\n",
        "\n",
        "\n",
        "Here we download and install all the requirements"
      ]
    },
    {
      "cell_type": "code",
      "metadata": {
        "id": "sFZe4hSXTr3O",
        "colab_type": "code",
        "colab": {}
      },
      "source": [
        "!pip install halotools\n",
        "!download_initial_halocat.py \n",
        "!pip install --upgrade git+https://github.com/DifferentiableUniverseInitiative/DHOD.git@issue/12"
      ],
      "execution_count": 0,
      "outputs": []
    },
    {
      "cell_type": "code",
      "metadata": {
        "id": "kreJJFxBVYym",
        "colab_type": "code",
        "colab": {
          "base_uri": "https://localhost:8080/",
          "height": 71
        },
        "outputId": "f7d542a4-bbc3-4da4-c247-22192cf34fcf"
      },
      "source": [
        "%pylab inline\n",
        "import numpy as np\n",
        "import tensorflow as tf\n",
        "import tensorflow_probability as tfp\n",
        "tfd = tfp.distributions\n",
        "tfb = tfp.bijectors\n",
        "from tensorflow_probability import edward2 as ed\n",
        "from diffhod.components import Zheng07Cens, Zheng07SatsRelaxedBernoulli, NFWProfile\n",
        "from halotools.sim_manager import CachedHaloCatalog\n",
        "from halotools.empirical_models import PrebuiltHodModelFactory\n",
        "from halotools.mock_observables.two_point_clustering import tpcf\n",
        "from halotools.mock_observables import return_xyz_formatted_array"
      ],
      "execution_count": 1,
      "outputs": [
        {
          "output_type": "stream",
          "text": [
            "/usr/local/lib/python3.6/dist-packages/diffhod/components.py:9: UserWarning: tfp.edward2 module is deprecated and will be removed on 2019-12-01. Use https://github.com/google/edward2 library instead.\n",
            "  logMmin=ed.Deterministic(11.35, name='logMmin'),\n"
          ],
          "name": "stderr"
        }
      ]
    },
    {
      "cell_type": "markdown",
      "metadata": {
        "id": "S3LYrOZP3nLc",
        "colab_type": "text"
      },
      "source": [
        "## Prepare halo catalog"
      ]
    },
    {
      "cell_type": "code",
      "metadata": {
        "id": "g19tDxGwVY8P",
        "colab_type": "code",
        "colab": {}
      },
      "source": [
        "# Load a reference halo catalog\n",
        "halocat = CachedHaloCatalog(simname = 'bolshoi', redshift=-0.003) \n",
        "\n",
        "# Removing subhalos and convert table to tensors\n",
        "halo_table = halocat.halo_table\n",
        "halo_table = halo_table[halo_table['halo_pid'] == -1]\n",
        "tf_halocat = {k: tf.convert_to_tensor(halo_table[k], dtype=tf.float32) for k in halo_table.colnames}"
      ],
      "execution_count": 0,
      "outputs": []
    },
    {
      "cell_type": "markdown",
      "metadata": {
        "id": "v6Jc3b6Y4C3T",
        "colab_type": "text"
      },
      "source": [
        "## Model definition"
      ]
    },
    {
      "cell_type": "code",
      "metadata": {
        "id": "TlyGUsUx38Hd",
        "colab_type": "code",
        "colab": {}
      },
      "source": [
        "# We first load our reference halotools model\n",
        "zheng07_model = PrebuiltHodModelFactory('zheng07', \n",
        "                                        redshift =-0.003, \n",
        "                                        modulate_with_cenocc=True)"
      ],
      "execution_count": 0,
      "outputs": []
    },
    {
      "cell_type": "code",
      "metadata": {
        "id": "dE5BVbJiV_0i",
        "colab_type": "code",
        "colab": {}
      },
      "source": [
        "# Here is how we define the same model in diffhod\n",
        "@tf.function\n",
        "def hod(halo_cat, max_sat=40, temp=0.1):\n",
        "\n",
        "  ### Occupation model ###\n",
        "  n_cen = Zheng07Cens(halo_cat['halo_mvir'],\n",
        "                      **zheng07_model.param_dict,\n",
        "                      temperature=temp)\n",
        "  \n",
        "  n_sat = Zheng07SatsRelaxedBernoulli(halo_cat['halo_mvir'],\n",
        "                                      n_cen,\n",
        "                                      **zheng07_model.param_dict,\n",
        "                                      sample_shape=(max_sat,),\n",
        "                                      temperature=temp)\n",
        "  \n",
        "  ### Phase Space model ###\n",
        "  # Centrals are just located at center of halo\n",
        "  pos_cen = ed.Deterministic(tf.stack([halo_cat['halo_x'],\n",
        "                                        halo_cat['halo_y'],\n",
        "                                        halo_cat['halo_z']], axis=-1))\n",
        "  # Satellites follow an NFW profile centered on halos\n",
        "  pos_sat = NFWProfile(pos=pos_cen,\n",
        "                        concentration=halo_cat['halo_nfw_conc'],\n",
        "                        Rvir=halo_cat['halo_rvir'],\n",
        "                        sample_shape=(max_sat,))\n",
        "  \n",
        "  return {'pos_cen':pos_cen, 'pos_sat':pos_sat, 'n_cen':n_cen, 'n_sat':n_sat}"
      ],
      "execution_count": 0,
      "outputs": []
    },
    {
      "cell_type": "code",
      "metadata": {
        "id": "iUwwpdUiex6-",
        "colab_type": "code",
        "colab": {}
      },
      "source": [
        "# sampling galaxies from the model\n",
        "gal_cat = hod(tf_halocat)"
      ],
      "execution_count": 0,
      "outputs": []
    },
    {
      "cell_type": "code",
      "metadata": {
        "id": "5jGtvPrXdV1e",
        "colab_type": "code",
        "colab": {}
      },
      "source": [
        "# Same thing with halotools\n",
        "zheng07_model.populate_mock(halocat) "
      ],
      "execution_count": 0,
      "outputs": []
    },
    {
      "cell_type": "markdown",
      "metadata": {
        "id": "N8DEVqbc48hk",
        "colab_type": "text"
      },
      "source": [
        "## Testing 2pt function"
      ]
    },
    {
      "cell_type": "code",
      "metadata": {
        "id": "IbBf4EAfV__6",
        "colab_type": "code",
        "colab": {}
      },
      "source": [
        "# Let's define halotools samples\n",
        "ht_sample = return_xyz_formatted_array(zheng07_model.mock.galaxy_table['x'],\n",
        "                                       zheng07_model.mock.galaxy_table['y'],\n",
        "                                       zheng07_model.mock.galaxy_table['z'])\n",
        "m = zheng07_model.mock.galaxy_table['host_centric_distance'] <0.0001\n",
        "ht_cens = ht_sample[m]\n",
        "ht_sats = ht_sample[~m]"
      ],
      "execution_count": 0,
      "outputs": []
    },
    {
      "cell_type": "code",
      "metadata": {
        "id": "kqb4bXBv0U3j",
        "colab_type": "code",
        "colab": {}
      },
      "source": [
        "# Same thing for dhod\n",
        "p = gal_cat['n_cen']>0.5\n",
        "tf_cens = gal_cat['pos_cen'][p].numpy()\n",
        "p = gal_cat['n_sat']>0.5\n",
        "tf_sats = gal_cat['pos_sat'][p].numpy().reshape((-1,3))\n",
        "tf_sample = np.concatenate([tf_cens, tf_sats], axis=0)"
      ],
      "execution_count": 0,
      "outputs": []
    },
    {
      "cell_type": "code",
      "metadata": {
        "id": "egHiliqQecqM",
        "colab_type": "code",
        "colab": {
          "base_uri": "https://localhost:8080/",
          "height": 299
        },
        "outputId": "0583c91e-e37b-4d47-b04f-3e6ec8096406"
      },
      "source": [
        "rbins = np.logspace(-1.5, 1.5, 16)\n",
        "xi_ht = tpcf(ht_sample, rbins, period=halocat.Lbox)\n",
        "xi_tf = tpcf(tf_sample, rbins, period=halocat.Lbox)\n",
        "\n",
        "loglog(rbins[1:],xi_ht, label='halotools')\n",
        "loglog(rbins[1:],xi_tf, label='DHOD')\n",
        "xlabel('r [Mpc/h]')\n",
        "title('Zheng2007 HOD 2pcf');"
      ],
      "execution_count": 67,
      "outputs": [
        {
          "output_type": "display_data",
          "data": {
            "image/png": "[encoded data removed]",
            "text/plain": [
              "<Figure size 432x288 with 1 Axes>"
            ]
          },
          "metadata": {
            "tags": []
          }
        }
      ]
    },
    {
      "cell_type": "code",
      "metadata": {
        "id": "-f2g6xD1f-ZA",
        "colab_type": "code",
        "colab": {
          "base_uri": "https://localhost:8080/",
          "height": 353
        },
        "outputId": "7fa74972-b7e3-4daf-eef9-46782d022964"
      },
      "source": [
        "xi_ht_cen = tpcf(ht_cens, rbins, period=halocat.Lbox)\n",
        "xi_tf_cen = tpcf(tf_cens, rbins, period=halocat.Lbox)\n",
        "xi_ht_sat = tpcf(ht_sats, rbins, period=halocat.Lbox)\n",
        "xi_tf_sat = tpcf(tf_sats, rbins, period=halocat.Lbox)\n",
        "\n",
        "figure(figsize=(13,5))\n",
        "subplot(121)\n",
        "loglog(rbins[1:],xi_ht_cen, label='halotools')\n",
        "loglog(rbins[1:],xi_tf_cen, label='DHOD')\n",
        "xlabel('r [Mpc/h]')\n",
        "title('Centrals');\n",
        "\n",
        "subplot(122)\n",
        "loglog(rbins[1:],xi_ht_sat, label='halotools')\n",
        "loglog(rbins[1:],xi_tf_sat, label='DHOD')\n",
        "xlabel('r [Mpc/h]')\n",
        "title('Satellites');"
      ],
      "execution_count": 68,
      "outputs": [
        {
          "output_type": "display_data",
          "data": {
            "image/png": "[encoded data removed]",
            "text/plain": [
              "<Figure size 936x360 with 2 Axes>"
            ]
          },
          "metadata": {
            "tags": []
          }
        }
      ]
    },
    {
      "cell_type": "code",
      "metadata": {
        "id": "tBgZJEYB2u1o",
        "colab_type": "code",
        "colab": {}
      },
      "source": [
        ""
      ],
      "execution_count": 0,
      "outputs": []
    }
  ]
}
