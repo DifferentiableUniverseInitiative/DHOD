{
 "cells": [
  {
   "cell_type": "markdown",
   "metadata": {
    "colab_type": "text",
    "id": "view-in-github"
   },
   "source": [
    "<a href=\"https://colab.research.google.com/github/DifferentiableUniverseInitiative/DHOD/blob/master/nb/Zheng2007_demo.ipynb\" target=\"_parent\"><img src=\"https://colab.research.google.com/assets/colab-badge.svg\" alt=\"Open In Colab\"/></a>"
   ]
  },
  {
   "cell_type": "markdown",
   "metadata": {
    "colab_type": "text",
    "id": "vMIDMDMB29O5"
   },
   "source": [
    "# Implementation of Zheng2007 in diffhod \n",
    "This notebook illustrates how to implenent Zheng2007, and compare the results to halotools"
   ]
  },
  {
   "cell_type": "markdown",
   "metadata": {
    "colab_type": "text",
    "id": "9IcIyYwx3NpC"
   },
   "source": [
    "## Preliminary setup\n",
    "\n",
    "\n",
    "Here we download and install all the requirements"
   ]
  },
  {
   "cell_type": "code",
   "execution_count": 1,
   "metadata": {},
   "outputs": [],
   "source": [
    "import os\n",
    "\n",
    "#using GPU, comment out if on CPU\n",
    "os.environ['CUDA_DEVICE_ORDER'] = 'PCI_BUS_ID'\n",
    "os.environ['CUDA_VISIBLE_DEVICES'] = \"4\""
   ]
  },
  {
   "cell_type": "code",
   "execution_count": 2,
   "metadata": {
    "scrolled": true
   },
   "outputs": [
    {
     "name": "stdout",
     "output_type": "stream",
     "text": [
      "2.2.0\n"
     ]
    },
    {
     "data": {
      "text/plain": [
       "'0.9.0'"
      ]
     },
     "execution_count": 2,
     "metadata": {},
     "output_type": "execute_result"
    }
   ],
   "source": [
    "import tensorflow as tf\n",
    "print(tf.__version__)\n",
    "\n",
    "import tensorflow_probability as tfp\n",
    "tfp.__version__"
   ]
  },
  {
   "cell_type": "code",
   "execution_count": 3,
   "metadata": {
    "colab": {
     "base_uri": "https://localhost:8080/",
     "height": 71
    },
    "colab_type": "code",
    "id": "kreJJFxBVYym",
    "outputId": "f7d542a4-bbc3-4da4-c247-22192cf34fcf"
   },
   "outputs": [
    {
     "name": "stdout",
     "output_type": "stream",
     "text": [
      "Populating the interactive namespace from numpy and matplotlib\n",
      "2.2.0\n"
     ]
    },
    {
     "name": "stderr",
     "output_type": "stream",
     "text": [
      "/home/ben.horowitz/miniconda3/envs/dhodf/lib/python3.8/site-packages/diffhod-0.1-py3.8.egg/diffhod/components.py:10: UserWarning: tfp.edward2 module is deprecated and will be removed on 2019-12-01. Use https://github.com/google/edward2 library instead.\n"
     ]
    }
   ],
   "source": [
    "%pylab inline\n",
    "import numpy as np\n",
    "import tensorflow as tf\n",
    "print(tf.__version__)\n",
    "import tensorflow_probability as tfp\n",
    "tfd = tfp.distributions\n",
    "tfb = tfp.bijectors\n",
    "from tensorflow_probability import edward2 as ed\n",
    "from diffhod.components import Zheng07Cens, Zheng07SatsRelaxedBernoulli, NFWProfile\n",
    "from diffhod.utils import *\n",
    "\n",
    "from halotools.sim_manager import CachedHaloCatalog\n",
    "from halotools.empirical_models import PrebuiltHodModelFactory\n",
    "from halotools.mock_observables.two_point_clustering import tpcf\n",
    "from halotools.mock_observables import return_xyz_formatted_array"
   ]
  },
  {
   "cell_type": "markdown",
   "metadata": {
    "colab_type": "text",
    "id": "S3LYrOZP3nLc"
   },
   "source": [
    "## Prepare halo catalog"
   ]
  },
  {
   "cell_type": "code",
   "execution_count": 4,
   "metadata": {
    "colab": {},
    "colab_type": "code",
    "id": "g19tDxGwVY8P"
   },
   "outputs": [],
   "source": [
    "# Load a reference halo catalog\n",
    "halocat = CachedHaloCatalog(simname = 'bolshoi', redshift=-0.003) \n",
    "\n",
    "# Removing subhalos and convert table to tensors\n",
    "halo_table = halocat.halo_table\n",
    "halo_table = halo_table[halo_table['halo_pid'] == -1]\n",
    "tf_halocat = {k: tf.convert_to_tensor(halo_table[k], dtype=tf.float32) for k in halo_table.colnames}"
   ]
  },
  {
   "cell_type": "markdown",
   "metadata": {
    "colab_type": "text",
    "id": "v6Jc3b6Y4C3T"
   },
   "source": [
    "## Model definition"
   ]
  },
  {
   "cell_type": "code",
   "execution_count": 5,
   "metadata": {
    "colab": {},
    "colab_type": "code",
    "id": "TlyGUsUx38Hd"
   },
   "outputs": [],
   "source": [
    "# We first load our reference halotools model\n",
    "zheng07_model = PrebuiltHodModelFactory('zheng07', \n",
    "                                        redshift =-0.003, \n",
    "                                        modulate_with_cenocc=True)"
   ]
  },
  {
   "cell_type": "code",
   "execution_count": 6,
   "metadata": {},
   "outputs": [],
   "source": [
    "# Here is how we define the same model in diffhod\n",
    "@tf.function\n",
    "def helper_hod(halo_cat, max_sat=60, temp=0.00001, params = zheng07_model.param_dict):\n",
    "\n",
    "  ### Occupation model ###\n",
    "  n_cen = Zheng07Cens(halo_cat['halo_mvir'],\n",
    "                      **params,\n",
    "                      temperature=temp)\n",
    "  \n",
    "  n_sat = Zheng07SatsRelaxedBernoulli(halo_cat['halo_mvir'],\n",
    "                                      n_cen,\n",
    "                                      **params,\n",
    "                                      sample_shape=(max_sat,),\n",
    "                                      temperature=temp)\n",
    "  \n",
    "  ### Phase Space model ###\n",
    "  # Centrals are just located at center of halo\n",
    "  pos_cen = ed.Deterministic(tf.stack([halo_cat['halo_x'],\n",
    "                                        halo_cat['halo_y'],\n",
    "                                        halo_cat['halo_z']], axis=-1))\n",
    "    \n",
    "  # Satellites follow an NFW profile centered on halos\n",
    "  pos_sat = NFWProfile(pos=pos_cen,\n",
    "                        concentration=halo_cat['halo_nfw_conc'],\n",
    "                        Rvir=halo_cat['halo_rvir'],\n",
    "                        sample_shape=(max_sat,))\n",
    "  \n",
    "  return {'pos_cen':pos_cen, 'pos_sat':pos_sat, 'n_cen':n_cen, 'n_sat':n_sat}"
   ]
  },
  {
   "cell_type": "code",
   "execution_count": 7,
   "metadata": {
    "colab": {},
    "colab_type": "code",
    "id": "iUwwpdUiex6-"
   },
   "outputs": [
    {
     "name": "stdout",
     "output_type": "stream",
     "text": [
      "Tensor(\"Pow:0\", shape=(), dtype=float32)\n",
      "WARNING:tensorflow:From /home/ben.horowitz/miniconda3/envs/dhodf/lib/python3.8/site-packages/diffhod-0.1-py3.8.egg/diffhod/components.py:56: AffineScalar.__init__ (from tensorflow_probability.python.bijectors.affine_scalar) is deprecated and will be removed after 2020-01-01.\n",
      "Instructions for updating:\n",
      "`AffineScalar` bijector is deprecated; please use `tfb.Shift(loc)(tfb.Scale(...))` instead.\n"
     ]
    }
   ],
   "source": [
    "# sampling galaxies from the model\n",
    "\n",
    "gal_cat = helper_hod(tf_halocat)"
   ]
  },
  {
   "cell_type": "code",
   "execution_count": 8,
   "metadata": {
    "colab": {},
    "colab_type": "code",
    "id": "5jGtvPrXdV1e"
   },
   "outputs": [],
   "source": [
    "# Same thing with halotools\n",
    "zheng07_model.populate_mock(halocat) "
   ]
  },
  {
   "cell_type": "markdown",
   "metadata": {
    "colab_type": "text",
    "id": "N8DEVqbc48hk"
   },
   "source": [
    "## Testing 2pt function"
   ]
  },
  {
   "cell_type": "code",
   "execution_count": 9,
   "metadata": {
    "colab": {},
    "colab_type": "code",
    "id": "IbBf4EAfV__6"
   },
   "outputs": [],
   "source": [
    "# Let's define halotools samples\n",
    "ht_sample = return_xyz_formatted_array(zheng07_model.mock.galaxy_table['x'],\n",
    "                                       zheng07_model.mock.galaxy_table['y'],\n",
    "                                       zheng07_model.mock.galaxy_table['z'])\n",
    "m = zheng07_model.mock.galaxy_table['host_centric_distance'] <0.0001\n",
    "ht_cens = ht_sample[m]\n",
    "ht_sats = ht_sample[~m]"
   ]
  },
  {
   "cell_type": "code",
   "execution_count": 10,
   "metadata": {
    "colab": {},
    "colab_type": "code",
    "id": "kqb4bXBv0U3j"
   },
   "outputs": [],
   "source": [
    "# Same thing for dhod\n",
    "p = gal_cat['n_cen']>0.5\n",
    "tf_cens = gal_cat['pos_cen'][p[0]].numpy()\n",
    "p = gal_cat['n_sat']>0.5\n",
    "tf_sats = gal_cat['pos_sat'][p[:,0,:]].numpy().reshape((-1,3))\n",
    "tf_sample = np.concatenate([tf_cens, tf_sats], axis=0)"
   ]
  },
  {
   "cell_type": "code",
   "execution_count": 11,
   "metadata": {
    "colab": {
     "base_uri": "https://localhost:8080/",
     "height": 299
    },
    "colab_type": "code",
    "id": "egHiliqQecqM",
    "outputId": "0583c91e-e37b-4d47-b04f-3e6ec8096406"
   },
   "outputs": [
    {
     "data": {
      "image/png": "[encoded data removed]",
      "text/plain": [
       "<Figure size 432x288 with 1 Axes>"
      ]
     },
     "metadata": {
      "needs_background": "light"
     },
     "output_type": "display_data"
    }
   ],
   "source": [
    "rbins = np.logspace(-1.5, 1.5, 16)\n",
    "xi_ht = tpcf(ht_sample, rbins, period=halocat.Lbox)\n",
    "xi_tf = tpcf(tf_sample, rbins, period=halocat.Lbox)\n",
    "\n",
    "loglog(rbins[1:],xi_ht, label='halotools')\n",
    "loglog(rbins[1:],xi_tf, label='DHOD')\n",
    "xlabel('r [Mpc/h]')\n",
    "title('Zheng2007 HOD 2pcf');"
   ]
  },
  {
   "cell_type": "code",
   "execution_count": 12,
   "metadata": {
    "colab": {
     "base_uri": "https://localhost:8080/",
     "height": 353
    },
    "colab_type": "code",
    "id": "-f2g6xD1f-ZA",
    "outputId": "7fa74972-b7e3-4daf-eef9-46782d022964"
   },
   "outputs": [
    {
     "data": {
      "image/png": "[encoded data removed]",
      "text/plain": [
       "<Figure size 936x360 with 2 Axes>"
      ]
     },
     "metadata": {
      "needs_background": "light"
     },
     "output_type": "display_data"
    }
   ],
   "source": [
    "xi_ht_cen = tpcf(ht_cens, rbins, period=halocat.Lbox)\n",
    "xi_tf_cen = tpcf(tf_cens, rbins, period=halocat.Lbox)\n",
    "xi_ht_sat = tpcf(ht_sats, rbins, period=halocat.Lbox)\n",
    "xi_tf_sat = tpcf(tf_sats, rbins, period=halocat.Lbox)\n",
    "\n",
    "figure(figsize=(13,5))\n",
    "subplot(121)\n",
    "loglog(rbins[1:],xi_ht_cen, label='halotools')\n",
    "loglog(rbins[1:],xi_tf_cen, label='DHOD')\n",
    "xlabel('r [Mpc/h]')\n",
    "title('Centrals');\n",
    "\n",
    "subplot(122)\n",
    "loglog(rbins[1:],xi_ht_sat, label='halotools')\n",
    "loglog(rbins[1:],xi_tf_sat, label='DHOD')\n",
    "xlabel('r [Mpc/h]')\n",
    "title('Satellites');"
   ]
  },
  {
   "cell_type": "markdown",
   "metadata": {},
   "source": [
    "## Occupancy Distributions\n"
   ]
  },
  {
   "cell_type": "code",
   "execution_count": 13,
   "metadata": {},
   "outputs": [],
   "source": [
    "import scipy\n"
   ]
  },
  {
   "cell_type": "code",
   "execution_count": 15,
   "metadata": {},
   "outputs": [],
   "source": [
    "import copy \n",
    "\n",
    "new_params = copy.deepcopy(zheng07_model.param_dict)"
   ]
  },
  {
   "cell_type": "code",
   "execution_count": 15,
   "metadata": {},
   "outputs": [
    {
     "name": "stdout",
     "output_type": "stream",
     "text": [
      "Tensor(\"Pow:0\", shape=(), dtype=float32)\n",
      "Tensor(\"Pow:0\", shape=(), dtype=float32)\n",
      "Tensor(\"Pow:0\", shape=(), dtype=float32)\n",
      "Tensor(\"Pow:0\", shape=(), dtype=float32)\n",
      "WARNING:tensorflow:5 out of the last 5 calls to <function helper_hod at 0x7f143a4deb80> triggered tf.function retracing. Tracing is expensive and the excessive number of tracings is likely due to passing python objects instead of tensors. Also, tf.function has experimental_relax_shapes=True option that relaxes argument shapes that can avoid unnecessary retracing. Please refer to https://www.tensorflow.org/tutorials/customization/performance#python_or_tensor_args and https://www.tensorflow.org/api_docs/python/tf/function for more details.\n"
     ]
    }
   ],
   "source": [
    "from diffhod.diffhod import *\n",
    "out_sat = []\n",
    "out_cen = []\n",
    "\n",
    "binned_out_sat = scipy.stats.binned_statistic(np.log10(zheng07_model.mock.halo_table[\"halo_mvir\"]),zheng07_model.mock.halo_table[\"halo_num_satellites\"],bins=50)\n",
    "binned_out_cen = scipy.stats.binned_statistic(np.log10(zheng07_model.mock.halo_table[\"halo_mvir\"]),zheng07_model.mock.halo_table[\"halo_num_centrals\"],bins=50)\n",
    "\n",
    "for tau in [1,0.75,0.02,0.001]:\n",
    "# sampling galaxies from the model\n",
    "    gal_cat = helper_hod(tf_halocat,temp = tau,params=new_params)\n",
    "    binned_out_sat_tf = scipy.stats.binned_statistic(np.log10(tf_halocat[\"halo_mvir\"]),tf.reduce_sum(gal_cat['n_sat'],axis=0),bins=50)\n",
    "    binned_out_cen_tf = scipy.stats.binned_statistic(np.log10(tf_halocat[\"halo_mvir\"]),gal_cat['n_cen'],bins=50)\n",
    "\n",
    "    out_sat.append(binned_out_sat_tf)\n",
    "    out_cen.append(binned_out_cen_tf)"
   ]
  },
  {
   "cell_type": "code",
   "execution_count": 16,
   "metadata": {},
   "outputs": [],
   "source": [
    "#pretty plot\n",
    "\n",
    "import matplotlib as mpl\n",
    "import matplotlib.pyplot as plt\n",
    "mpl.rcParams['text.usetex'] = False\n",
    "mpl.rcParams['font.family'] = 'serif'\n",
    "mpl.rcParams['axes.linewidth'] = 1.5\n",
    "mpl.rcParams['axes.xmargin'] = 1\n",
    "mpl.rcParams['xtick.labelsize'] = 'x-large'\n",
    "mpl.rcParams['xtick.major.size'] = 5\n",
    "mpl.rcParams['xtick.major.width'] = 1.5\n",
    "mpl.rcParams['ytick.labelsize'] = 'x-large'\n",
    "mpl.rcParams['ytick.major.size'] = 5\n",
    "mpl.rcParams['ytick.major.width'] = 1.5\n",
    "mpl.rcParams['legend.frameon'] = False"
   ]
  },
  {
   "cell_type": "code",
   "execution_count": 17,
   "metadata": {},
   "outputs": [
    {
     "data": {
      "image/png": "[encoded data removed]",
      "text/plain": [
       "<Figure size 432x288 with 1 Axes>"
      ]
     },
     "metadata": {
      "needs_background": "light"
     },
     "output_type": "display_data"
    }
   ],
   "source": [
    "plt.plot((binned_out_sat.bin_edges[1:] + binned_out_sat.bin_edges[:-1])/2,binned_out_sat.statistic,\"r*\",label=\"HOD\")\n",
    "\n",
    "tt = [1,0.75,0.02,0.001]\n",
    "\n",
    "for n,os in enumerate(out_sat):\n",
    "    plt.plot((os.bin_edges[1:] + os.bin_edges[:-1])/2,os.statistic[0],label=r\"$\\tau = $\" + str(tt[n]))\n",
    "plt.legend(loc=4,fontsize=12)\n",
    "plt.semilogy()\n",
    "plt.ylabel(r\"$\\langle N_{sat} \\rangle$\",fontsize=14)\n",
    "plt.xlabel(r\"$\\log_{10}(M_{vir})$\",fontsize=14)\n",
    "plt.ylim(0.001,100)\n",
    "plt.xlim(11.0,14.80)\n",
    "plt.tight_layout()\n",
    "plt.savefig(\"occupancy_sat.pdf\")\n"
   ]
  },
  {
   "cell_type": "code",
   "execution_count": 18,
   "metadata": {},
   "outputs": [
    {
     "data": {
      "image/png": "[encoded data removed]",
      "text/plain": [
       "<Figure size 432x288 with 1 Axes>"
      ]
     },
     "metadata": {
      "needs_background": "light"
     },
     "output_type": "display_data"
    }
   ],
   "source": [
    "plt.plot((binned_out_cen.bin_edges[1:] + binned_out_cen.bin_edges[:-1])/2,binned_out_cen.statistic,\"r*\",label=\"HOD\")\n",
    "\n",
    "tt = [1,0.75,0.02,0.001]\n",
    "\n",
    "for n,os in enumerate(out_cen):\n",
    "    plt.plot((os.bin_edges[1:] + os.bin_edges[:-1])/2,os.statistic[0],label=r\"$\\tau = $\" + str(tt[n]))\n",
    "plt.legend(loc=4,fontsize=12)\n",
    "#plt.semilogy()\n",
    "plt.ylabel(r\"$\\langle N_{cen} \\rangle$\",fontsize=14)\n",
    "plt.xlabel(r\"$\\log_{10}(M_{vir})$\",fontsize=14)\n",
    "plt.ylim(-0.1,1.1)\n",
    "plt.xlim(11.0,14.80)\n",
    "plt.tight_layout()\n",
    "\n",
    "plt.savefig(\"occupancy_cen.pdf\")\n"
   ]
  },
  {
   "cell_type": "code",
   "execution_count": 19,
   "metadata": {},
   "outputs": [],
   "source": [
    "from diffhod.math.binning import histogram"
   ]
  },
  {
   "cell_type": "code",
   "execution_count": 20,
   "metadata": {},
   "outputs": [],
   "source": [
    "# choosing subvolume so we can play around easier with derivatives\n",
    "\n",
    "# Load a reference halo catalog\n",
    "halocat = CachedHaloCatalog(simname = 'bolshoi', redshift=-0.003) \n",
    "\n",
    "# Removing subhalos and convert table to tensors\n",
    "halo_table = halocat.halo_table\n",
    "halo_table = halo_table[halo_table['halo_pid'] == -1]\n",
    "\n",
    "\n",
    "halo_table = halo_table[halo_table['halo_x'] < 128]\n",
    "halo_table = halo_table[halo_table['halo_y'] < 128]\n",
    "halo_table = halo_table[halo_table['halo_z'] < 128]\n",
    "tf_halocat = {k: tf.convert_to_tensor(halo_table[k], dtype=tf.float32) for k in halo_table.colnames}"
   ]
  },
  {
   "cell_type": "code",
   "execution_count": 21,
   "metadata": {},
   "outputs": [
    {
     "name": "stdout",
     "output_type": "stream",
     "text": [
      "0.001\n",
      "Tensor(\"Pow:0\", shape=(), dtype=float32)\n",
      "tf.Tensor(\n",
      "[0.0000000e+00 0.0000000e+00 0.0000000e+00 0.0000000e+00 0.0000000e+00\n",
      " 0.0000000e+00 0.0000000e+00 2.5000000e-02 0.0000000e+00 0.0000000e+00\n",
      " 0.0000000e+00 0.0000000e+00 1.6339869e-03 0.0000000e+00 0.0000000e+00\n",
      " 0.0000000e+00 1.5905206e-04 1.3051422e-04 2.7350802e-04 7.1551229e-05\n",
      " 0.0000000e+00 0.0000000e+00 1.4526438e-04 4.2572599e-03 1.5780600e-02\n",
      " 7.3492758e-02 2.1649235e-01 4.5543131e-01 6.9687289e-01 8.7512451e-01\n",
      " 9.7111112e-01 9.9578649e-01 1.0000000e+00 1.0000000e+00 1.0000000e+00\n",
      " 1.0000000e+00 1.0000000e+00 1.0000000e+00 1.0000000e+00 1.0000000e+00\n",
      " 1.0000000e+00 1.0000000e+00 1.0000000e+00 1.0000000e+00 1.0000000e+00\n",
      " 1.0000000e+00 1.0000000e+00 1.0000000e+00 1.0000000e+00], shape=(49,), dtype=float32)\n",
      "0 tf.Tensor([0. 0. 0. 0. 0.], shape=(5,), dtype=float32)\n",
      "1 tf.Tensor([0. 0. 0. 0. 0.], shape=(5,), dtype=float32)\n",
      "2 tf.Tensor([0. 0. 0. 0. 0.], shape=(5,), dtype=float32)\n",
      "3 tf.Tensor([0. 0. 0. 0. 0.], shape=(5,), dtype=float32)\n",
      "4 tf.Tensor([0. 0. 0. 0. 0.], shape=(5,), dtype=float32)\n",
      "5 tf.Tensor([0. 0. 0. 0. 0.], shape=(5,), dtype=float32)\n",
      "6 tf.Tensor([0. 0. 0. 0. 0.], shape=(5,), dtype=float32)\n",
      "7 tf.Tensor([0. 0. 0. 0. 0.], shape=(5,), dtype=float32)\n",
      "8 tf.Tensor([0. 0. 0. 0. 0.], shape=(5,), dtype=float32)\n",
      "9 tf.Tensor([0. 0. 0. 0. 0.], shape=(5,), dtype=float32)\n",
      "10 tf.Tensor([0. 0. 0. 0. 0.], shape=(5,), dtype=float32)\n",
      "11 tf.Tensor([0. 0. 0. 0. 0.], shape=(5,), dtype=float32)\n",
      "12 tf.Tensor([0. 0. 0. 0. 0.], shape=(5,), dtype=float32)\n",
      "13 tf.Tensor([0. 0. 0. 0. 0.], shape=(5,), dtype=float32)\n",
      "14 tf.Tensor([0. 0. 0. 0. 0.], shape=(5,), dtype=float32)\n",
      "15 tf.Tensor([0. 0. 0. 0. 0.], shape=(5,), dtype=float32)\n",
      "16 tf.Tensor([0. 0. 0. 0. 0.], shape=(5,), dtype=float32)\n",
      "17 tf.Tensor([0. 0. 0. 0. 0.], shape=(5,), dtype=float32)\n",
      "18 tf.Tensor([0. 0. 0. 0. 0.], shape=(5,), dtype=float32)\n",
      "19 tf.Tensor([0. 0. 0. 0. 0.], shape=(5,), dtype=float32)\n",
      "20 tf.Tensor([0. 0. 0. 0. 0.], shape=(5,), dtype=float32)\n",
      "21 tf.Tensor([0. 0. 0. 0. 0.], shape=(5,), dtype=float32)\n",
      "22 tf.Tensor([0. 0. 0. 0. 0.], shape=(5,), dtype=float32)\n",
      "23 tf.Tensor([0. 0. 0. 0. 0.], shape=(5,), dtype=float32)\n",
      "24 tf.Tensor([0. 0. 0. 0. 0.], shape=(5,), dtype=float32)\n",
      "25 tf.Tensor([0. 0. 0. 0. 0.], shape=(5,), dtype=float32)\n",
      "26 tf.Tensor([0. 0. 0. 0. 0.], shape=(5,), dtype=float32)\n",
      "27 tf.Tensor(\n",
      "[-5.9253980e-10  9.6765138e-11 -1.7750572e-10 -5.2516674e-10\n",
      " -3.8501177e-10], shape=(5,), dtype=float32)\n",
      "28 tf.Tensor(\n",
      "[-5.4582614e-19 -2.7835698e-19 -2.3214932e-19 -1.1430364e-18\n",
      " -7.1092674e-19], shape=(5,), dtype=float32)\n",
      "29 tf.Tensor(\n",
      "[-4.8077128e-26 -4.2200268e-26 -3.0682560e-26  0.0000000e+00\n",
      " -1.1071231e-25], shape=(5,), dtype=float32)\n",
      "30 tf.Tensor(\n",
      "[-1.4601276e-23 -2.2819958e-23 -3.4548921e-23 -3.4985072e-22\n",
      " -1.6254022e-22], shape=(5,), dtype=float32)\n",
      "31 tf.Tensor(\n",
      "[-1.6733880e-18 -3.0686748e-18 -8.4013666e-18 -1.0153496e-16\n",
      " -4.3253595e-17], shape=(5,), dtype=float32)\n",
      "32 tf.Tensor([-0.00286425 -0.00679473 -0.09850077 -1.6807133  -0.5894709 ], shape=(5,), dtype=float32)\n",
      "33 tf.Tensor(\n",
      "[-1.4176441e-10 -3.7228076e-10 -8.2761392e-02 -2.0713680e+00\n",
      " -5.5328566e-01], shape=(5,), dtype=float32)\n",
      "34 tf.Tensor([ 0.          0.         -0.01313048 -0.44289193 -0.0893988 ], shape=(5,), dtype=float32)\n",
      "35 tf.Tensor([ 0.          0.         -0.20621087 -7.449362   -1.3931375 ], shape=(5,), dtype=float32)\n",
      "36 tf.Tensor([ 0.          0.         -0.01482332 -0.7806378  -0.08178839], shape=(5,), dtype=float32)\n",
      "37 tf.Tensor([ 0.          0.         -0.00129338 -0.09859529 -0.00237148], shape=(5,), dtype=float32)\n",
      "38 tf.Tensor(\n",
      "[ 0.0000000e+00  0.0000000e+00 -1.6296359e-07 -1.5942858e-05\n",
      "  4.8883635e-07], shape=(5,), dtype=float32)\n",
      "39 tf.Tensor([ 0.          0.         -0.05948666 -7.667619    0.6944944 ], shape=(5,), dtype=float32)\n",
      "40 tf.Tensor([  0.           0.          -0.37551278 -66.12238     10.507374  ], shape=(5,), dtype=float32)\n",
      "41 tf.Tensor([  0.           0.          -0.10308099 -21.28759      4.1266327 ], shape=(5,), dtype=float32)\n",
      "42 tf.Tensor([  0.           0.          -0.15601483 -51.782722    15.380069  ], shape=(5,), dtype=float32)\n",
      "43 tf.Tensor([  0.           0.          -0.13528869 -52.84995     17.57938   ], shape=(5,), dtype=float32)\n",
      "44 tf.Tensor([0. 0. 0. 0. 0.], shape=(5,), dtype=float32)\n",
      "45 tf.Tensor([0. 0. 0. 0. 0.], shape=(5,), dtype=float32)\n",
      "46 tf.Tensor([0. 0. 0. 0. 0.], shape=(5,), dtype=float32)\n",
      "47 tf.Tensor([0. 0. 0. 0. 0.], shape=(5,), dtype=float32)\n",
      "48 tf.Tensor([0. 0. 0. 0. 0.], shape=(5,), dtype=float32)\n",
      "tf.Tensor(\n",
      "[0.0000000e+00 0.0000000e+00 0.0000000e+00 0.0000000e+00 0.0000000e+00\n",
      " 0.0000000e+00 0.0000000e+00 0.0000000e+00 0.0000000e+00 0.0000000e+00\n",
      " 0.0000000e+00 0.0000000e+00 0.0000000e+00 0.0000000e+00 0.0000000e+00\n",
      " 5.0709938e-04 7.9526028e-05 2.6102844e-04 0.0000000e+00 2.1465369e-04\n",
      " 8.9229943e-05 0.0000000e+00 4.3579313e-04 3.6878511e-03 2.0892302e-02\n",
      " 7.7237867e-02 2.1385466e-01 4.5077863e-01 7.0672441e-01 8.7959027e-01\n",
      " 9.6222264e-01 9.9016851e-01 1.0000000e+00 1.0000000e+00 1.0000000e+00\n",
      " 1.0000000e+00 1.0000000e+00 1.0000000e+00 1.0000000e+00 1.0000000e+00\n",
      " 1.0000000e+00 1.0000000e+00 1.0000000e+00 1.0000000e+00 1.0000000e+00\n",
      " 1.0000000e+00 1.0000000e+00 1.0000000e+00 1.0000000e+00], shape=(49,), dtype=float32)\n",
      "0 tf.Tensor([0. 0. 0. 0. 0.], shape=(5,), dtype=float32)\n",
      "1 tf.Tensor([0. 0. 0. 0. 0.], shape=(5,), dtype=float32)\n",
      "2 tf.Tensor([0. 0. 0. 0. 0.], shape=(5,), dtype=float32)\n",
      "3 tf.Tensor([0. 0. 0. 0. 0.], shape=(5,), dtype=float32)\n",
      "4 tf.Tensor([0. 0. 0. 0. 0.], shape=(5,), dtype=float32)\n",
      "5 tf.Tensor([0. 0. 0. 0. 0.], shape=(5,), dtype=float32)\n",
      "6 tf.Tensor([0. 0. 0. 0. 0.], shape=(5,), dtype=float32)\n",
      "7 tf.Tensor([0. 0. 0. 0. 0.], shape=(5,), dtype=float32)\n",
      "8 tf.Tensor([0. 0. 0. 0. 0.], shape=(5,), dtype=float32)\n",
      "9 tf.Tensor([0. 0. 0. 0. 0.], shape=(5,), dtype=float32)\n",
      "10 tf.Tensor([0. 0. 0. 0. 0.], shape=(5,), dtype=float32)\n",
      "11 tf.Tensor([0. 0. 0. 0. 0.], shape=(5,), dtype=float32)\n",
      "12 tf.Tensor([0. 0. 0. 0. 0.], shape=(5,), dtype=float32)\n",
      "13 tf.Tensor([0. 0. 0. 0. 0.], shape=(5,), dtype=float32)\n",
      "14 tf.Tensor([0. 0. 0. 0. 0.], shape=(5,), dtype=float32)\n",
      "15 tf.Tensor([0. 0. 0. 0. 0.], shape=(5,), dtype=float32)\n",
      "16 tf.Tensor([0. 0. 0. 0. 0.], shape=(5,), dtype=float32)\n",
      "17 tf.Tensor([0. 0. 0. 0. 0.], shape=(5,), dtype=float32)\n",
      "18 tf.Tensor([0. 0. 0. 0. 0.], shape=(5,), dtype=float32)\n",
      "19 tf.Tensor([0. 0. 0. 0. 0.], shape=(5,), dtype=float32)\n",
      "20 tf.Tensor([0. 0. 0. 0. 0.], shape=(5,), dtype=float32)\n",
      "21 tf.Tensor([0. 0. 0. 0. 0.], shape=(5,), dtype=float32)\n",
      "22 tf.Tensor(\n",
      "[-6.3621892e-14  1.4124246e-13  0.0000000e+00  0.0000000e+00\n",
      "  0.0000000e+00], shape=(5,), dtype=float32)\n",
      "23 tf.Tensor([-0.40283597  0.76007414  0.          0.          0.        ], shape=(5,), dtype=float32)\n",
      "24 tf.Tensor([-0.00069929  0.00095518  0.          0.          0.        ], shape=(5,), dtype=float32)\n",
      "25 tf.Tensor([-1.0684835  0.9088032  0.         0.         0.       ], shape=(5,), dtype=float32)\n",
      "26 tf.Tensor([-0.9181426   0.41667446  0.          0.          0.        ], shape=(5,), dtype=float32)\n",
      "27 tf.Tensor([-2.3081698  0.3559146  0.         0.         0.       ], shape=(5,), dtype=float32)\n",
      "28 tf.Tensor([-6.193046  -2.5156143  0.         0.         0.       ], shape=(5,), dtype=float32)\n",
      "29 tf.Tensor([-2.3645694 -2.314143   0.         0.         0.       ], shape=(5,), dtype=float32)\n",
      "30 tf.Tensor([-0.49399316 -0.5543227   0.          0.          0.        ], shape=(5,), dtype=float32)\n",
      "31 tf.Tensor(\n",
      "[-8.9453610e-32 -1.4707114e-31  0.0000000e+00  0.0000000e+00\n",
      "  0.0000000e+00], shape=(5,), dtype=float32)\n",
      "32 tf.Tensor([0. 0. 0. 0. 0.], shape=(5,), dtype=float32)\n",
      "33 tf.Tensor([0. 0. 0. 0. 0.], shape=(5,), dtype=float32)\n",
      "34 tf.Tensor([0. 0. 0. 0. 0.], shape=(5,), dtype=float32)\n",
      "35 tf.Tensor([0. 0. 0. 0. 0.], shape=(5,), dtype=float32)\n",
      "36 tf.Tensor([0. 0. 0. 0. 0.], shape=(5,), dtype=float32)\n",
      "37 tf.Tensor([0. 0. 0. 0. 0.], shape=(5,), dtype=float32)\n",
      "38 tf.Tensor([0. 0. 0. 0. 0.], shape=(5,), dtype=float32)\n",
      "39 tf.Tensor([0. 0. 0. 0. 0.], shape=(5,), dtype=float32)\n",
      "40 tf.Tensor([0. 0. 0. 0. 0.], shape=(5,), dtype=float32)\n",
      "41 tf.Tensor([0. 0. 0. 0. 0.], shape=(5,), dtype=float32)\n",
      "42 tf.Tensor([0. 0. 0. 0. 0.], shape=(5,), dtype=float32)\n"
     ]
    },
    {
     "name": "stdout",
     "output_type": "stream",
     "text": [
      "43 tf.Tensor([0. 0. 0. 0. 0.], shape=(5,), dtype=float32)\n",
      "44 tf.Tensor([0. 0. 0. 0. 0.], shape=(5,), dtype=float32)\n",
      "45 tf.Tensor([0. 0. 0. 0. 0.], shape=(5,), dtype=float32)\n",
      "46 tf.Tensor([0. 0. 0. 0. 0.], shape=(5,), dtype=float32)\n",
      "47 tf.Tensor([0. 0. 0. 0. 0.], shape=(5,), dtype=float32)\n",
      "48 tf.Tensor([0. 0. 0. 0. 0.], shape=(5,), dtype=float32)\n",
      "0.02\n",
      "Tensor(\"Pow:0\", shape=(), dtype=float32)\n",
      "tf.Tensor(\n",
      "[0.0000000e+00 0.0000000e+00 0.0000000e+00 0.0000000e+00 0.0000000e+00\n",
      " 0.0000000e+00 0.0000000e+00 0.0000000e+00 0.0000000e+00 0.0000000e+00\n",
      " 0.0000000e+00 0.0000000e+00 0.0000000e+00 1.8606960e-25 1.8381244e-13\n",
      " 2.5354969e-04 2.3130346e-04 4.3504740e-05 1.4217288e-11 1.4311048e-04\n",
      " 6.1040148e-05 3.3908471e-04 7.3512067e-04 2.8477262e-03 1.5975993e-02\n",
      " 7.8182474e-02 2.2201692e-01 4.5580196e-01 7.1009976e-01 8.7501121e-01\n",
      " 9.6674162e-01 9.9154824e-01 9.9999946e-01 1.0000000e+00 1.0000000e+00\n",
      " 1.0000000e+00 1.0000000e+00 1.0000000e+00 1.0000000e+00 1.0000000e+00\n",
      " 1.0000000e+00 1.0000000e+00 1.0000000e+00 1.0000000e+00 1.0000000e+00\n",
      " 1.0000000e+00 1.0000000e+00 1.0000000e+00 1.0000000e+00], shape=(49,), dtype=float32)\n",
      "0 tf.Tensor([0. 0. 0. 0. 0.], shape=(5,), dtype=float32)\n",
      "1 tf.Tensor([0. 0. 0. 0. 0.], shape=(5,), dtype=float32)\n",
      "2 tf.Tensor([0. 0. 0. 0. 0.], shape=(5,), dtype=float32)\n",
      "3 tf.Tensor([0. 0. 0. 0. 0.], shape=(5,), dtype=float32)\n",
      "4 tf.Tensor([0. 0. 0. 0. 0.], shape=(5,), dtype=float32)\n",
      "5 tf.Tensor([0. 0. 0. 0. 0.], shape=(5,), dtype=float32)\n",
      "6 tf.Tensor([0. 0. 0. 0. 0.], shape=(5,), dtype=float32)\n",
      "7 tf.Tensor([0. 0. 0. 0. 0.], shape=(5,), dtype=float32)\n",
      "8 tf.Tensor([0. 0. 0. 0. 0.], shape=(5,), dtype=float32)\n",
      "9 tf.Tensor([0. 0. 0. 0. 0.], shape=(5,), dtype=float32)\n",
      "10 tf.Tensor([0. 0. 0. 0. 0.], shape=(5,), dtype=float32)\n",
      "11 tf.Tensor([0. 0. 0. 0. 0.], shape=(5,), dtype=float32)\n",
      "12 tf.Tensor([0. 0. 0. 0. 0.], shape=(5,), dtype=float32)\n",
      "13 tf.Tensor([0. 0. 0. 0. 0.], shape=(5,), dtype=float32)\n",
      "14 tf.Tensor([0. 0. 0. 0. 0.], shape=(5,), dtype=float32)\n",
      "15 tf.Tensor([0. 0. 0. 0. 0.], shape=(5,), dtype=float32)\n",
      "16 tf.Tensor([0. 0. 0. 0. 0.], shape=(5,), dtype=float32)\n",
      "17 tf.Tensor([0. 0. 0. 0. 0.], shape=(5,), dtype=float32)\n",
      "18 tf.Tensor([0. 0. 0. 0. 0.], shape=(5,), dtype=float32)\n",
      "19 tf.Tensor([0. 0. 0. 0. 0.], shape=(5,), dtype=float32)\n",
      "20 tf.Tensor([0. 0. 0. 0. 0.], shape=(5,), dtype=float32)\n",
      "21 tf.Tensor([0. 0. 0. 0. 0.], shape=(5,), dtype=float32)\n",
      "22 tf.Tensor([0. 0. 0. 0. 0.], shape=(5,), dtype=float32)\n",
      "23 tf.Tensor([0. 0. 0. 0. 0.], shape=(5,), dtype=float32)\n",
      "24 tf.Tensor([0. 0. 0. 0. 0.], shape=(5,), dtype=float32)\n",
      "25 tf.Tensor([0. 0. 0. 0. 0.], shape=(5,), dtype=float32)\n",
      "26 tf.Tensor([0. 0. 0. 0. 0.], shape=(5,), dtype=float32)\n",
      "27 tf.Tensor([-0.03416532  0.0065411  -0.01020194 -0.0295957  -0.02181045], shape=(5,), dtype=float32)\n",
      "28 tf.Tensor(\n",
      "[-1.5740584e-04 -8.5883476e-05 -6.9217684e-05 -3.5014120e-04\n",
      " -2.1567874e-04], shape=(5,), dtype=float32)\n",
      "29 tf.Tensor([-0.01773605 -0.01560734 -0.01159599 -0.07519753 -0.04220361], shape=(5,), dtype=float32)\n",
      "30 tf.Tensor([-0.00516643 -0.0069885  -0.00761016 -0.06756001 -0.03331243], shape=(5,), dtype=float32)\n",
      "31 tf.Tensor([-0.00125872 -0.0023302  -0.00723522 -0.09108587 -0.03794378], shape=(5,), dtype=float32)\n",
      "32 tf.Tensor(\n",
      "[-3.3335025e-05 -7.1855364e-05 -5.1786384e-04 -7.8515522e-03\n",
      " -2.9520756e-03], shape=(5,), dtype=float32)\n",
      "33 tf.Tensor(\n",
      "[-2.4589676e-07 -6.2429746e-07 -6.4508342e-03 -1.3087839e-01\n",
      " -4.0938776e-02], shape=(5,), dtype=float32)\n",
      "34 tf.Tensor([ 0.          0.         -0.0048738  -0.15736488 -0.0331944 ], shape=(5,), dtype=float32)\n",
      "35 tf.Tensor([ 0.          0.         -0.0104053  -0.40562677 -0.06895258], shape=(5,), dtype=float32)\n",
      "36 tf.Tensor([ 0.          0.         -0.03594646 -1.9027064  -0.19583097], shape=(5,), dtype=float32)\n",
      "37 tf.Tensor([ 0.          0.         -0.03947904 -2.7621522  -0.1165356 ], shape=(5,), dtype=float32)\n",
      "38 tf.Tensor([ 0.          0.         -0.04808041 -4.5621285   0.11192419], shape=(5,), dtype=float32)\n",
      "39 tf.Tensor([ 0.          0.         -0.0766165  -9.658508    0.83458436], shape=(5,), dtype=float32)\n",
      "40 tf.Tensor([  0.          0.         -0.0787423 -13.136972    1.9412112], shape=(5,), dtype=float32)\n",
      "41 tf.Tensor([  0.           0.          -0.15029669 -33.204826     6.932189  ], shape=(5,), dtype=float32)\n",
      "42 tf.Tensor([  0.           0.          -0.19324364 -56.762615    15.382595  ], shape=(5,), dtype=float32)\n",
      "43 tf.Tensor([   0.            0.           -0.27213272 -104.7551       34.557507  ], shape=(5,), dtype=float32)\n",
      "44 tf.Tensor([  0.           0.          -0.02543031 -11.900822     4.4267755 ], shape=(5,), dtype=float32)\n",
      "45 tf.Tensor([0. 0. 0. 0. 0.], shape=(5,), dtype=float32)\n",
      "46 tf.Tensor([0. 0. 0. 0. 0.], shape=(5,), dtype=float32)\n",
      "47 tf.Tensor([0. 0. 0. 0. 0.], shape=(5,), dtype=float32)\n",
      "48 tf.Tensor([0. 0. 0. 0. 0.], shape=(5,), dtype=float32)\n",
      "tf.Tensor(\n",
      "[0.0000000e+00 0.0000000e+00 0.0000000e+00 0.0000000e+00 0.0000000e+00\n",
      " 0.0000000e+00 0.0000000e+00 0.0000000e+00 0.0000000e+00 0.0000000e+00\n",
      " 6.3841046e-22 0.0000000e+00 1.0134274e-16 0.0000000e+00 0.0000000e+00\n",
      " 1.4449914e-11 6.9421119e-05 2.5087316e-04 2.6305520e-04 2.5341255e-05\n",
      " 9.2418886e-05 3.3909766e-04 1.4527462e-04 3.8995051e-03 1.3513831e-02\n",
      " 7.8978285e-02 2.2158617e-01 4.7210738e-01 6.9027227e-01 8.6536205e-01\n",
      " 9.6099102e-01 9.9151528e-01 9.9824560e-01 1.0000000e+00 1.0000000e+00\n",
      " 1.0000000e+00 1.0000000e+00 1.0000000e+00 1.0000000e+00 1.0000000e+00\n",
      " 1.0000000e+00 1.0000000e+00 1.0000000e+00 1.0000000e+00 1.0000000e+00\n",
      " 1.0000000e+00 1.0000000e+00 1.0000000e+00 1.0000000e+00], shape=(49,), dtype=float32)\n",
      "0 tf.Tensor([0. 0. 0. 0. 0.], shape=(5,), dtype=float32)\n",
      "1 tf.Tensor([0. 0. 0. 0. 0.], shape=(5,), dtype=float32)\n",
      "2 tf.Tensor([0. 0. 0. 0. 0.], shape=(5,), dtype=float32)\n",
      "3 tf.Tensor([0. 0. 0. 0. 0.], shape=(5,), dtype=float32)\n",
      "4 tf.Tensor([0. 0. 0. 0. 0.], shape=(5,), dtype=float32)\n",
      "5 tf.Tensor([0. 0. 0. 0. 0.], shape=(5,), dtype=float32)\n",
      "6 tf.Tensor([0. 0. 0. 0. 0.], shape=(5,), dtype=float32)\n",
      "7 tf.Tensor([0. 0. 0. 0. 0.], shape=(5,), dtype=float32)\n",
      "8 tf.Tensor([0. 0. 0. 0. 0.], shape=(5,), dtype=float32)\n",
      "9 tf.Tensor([0. 0. 0. 0. 0.], shape=(5,), dtype=float32)\n",
      "10 tf.Tensor([0. 0. 0. 0. 0.], shape=(5,), dtype=float32)\n",
      "11 tf.Tensor([0. 0. 0. 0. 0.], shape=(5,), dtype=float32)\n",
      "12 tf.Tensor([0. 0. 0. 0. 0.], shape=(5,), dtype=float32)\n",
      "13 tf.Tensor([0. 0. 0. 0. 0.], shape=(5,), dtype=float32)\n",
      "14 tf.Tensor([0. 0. 0. 0. 0.], shape=(5,), dtype=float32)\n",
      "15 tf.Tensor([0. 0. 0. 0. 0.], shape=(5,), dtype=float32)\n",
      "16 tf.Tensor([0. 0. 0. 0. 0.], shape=(5,), dtype=float32)\n",
      "17 tf.Tensor([0. 0. 0. 0. 0.], shape=(5,), dtype=float32)\n",
      "18 tf.Tensor([0. 0. 0. 0. 0.], shape=(5,), dtype=float32)\n",
      "19 tf.Tensor([0. 0. 0. 0. 0.], shape=(5,), dtype=float32)\n",
      "20 tf.Tensor([0. 0. 0. 0. 0.], shape=(5,), dtype=float32)\n",
      "21 tf.Tensor([0. 0. 0. 0. 0.], shape=(5,), dtype=float32)\n",
      "22 tf.Tensor([-0.01890378  0.04779236  0.          0.          0.        ], shape=(5,), dtype=float32)\n",
      "23 tf.Tensor([-0.05870554  0.11436041  0.          0.          0.        ], shape=(5,), dtype=float32)\n",
      "24 tf.Tensor([-0.0987995   0.13804324  0.          0.          0.        ], shape=(5,), dtype=float32)\n",
      "25 tf.Tensor([-0.9089095   0.90239954  0.          0.          0.        ], shape=(5,), dtype=float32)\n",
      "26 tf.Tensor([-1.1337163  0.6444224  0.         0.         0.       ], shape=(5,), dtype=float32)\n",
      "27 tf.Tensor([-1.9582841   0.15319777  0.          0.          0.        ], shape=(5,), dtype=float32)\n",
      "28 tf.Tensor([-1.2855512  -0.49458605  0.          0.          0.        ], shape=(5,), dtype=float32)\n",
      "29 tf.Tensor([-0.9310416  -0.79494154  0.          0.          0.        ], shape=(5,), dtype=float32)\n",
      "30 tf.Tensor([-0.22561148 -0.30528185  0.          0.          0.        ], shape=(5,), dtype=float32)\n",
      "31 tf.Tensor(\n",
      "[-2.5034107e-05 -4.1585678e-05  0.0000000e+00  0.0000000e+00\n",
      "  0.0000000e+00], shape=(5,), dtype=float32)\n",
      "32 tf.Tensor([0. 0. 0. 0. 0.], shape=(5,), dtype=float32)\n",
      "33 tf.Tensor([0. 0. 0. 0. 0.], shape=(5,), dtype=float32)\n",
      "34 tf.Tensor([0. 0. 0. 0. 0.], shape=(5,), dtype=float32)\n",
      "35 tf.Tensor([0. 0. 0. 0. 0.], shape=(5,), dtype=float32)\n",
      "36 tf.Tensor([0. 0. 0. 0. 0.], shape=(5,), dtype=float32)\n",
      "37 tf.Tensor([0. 0. 0. 0. 0.], shape=(5,), dtype=float32)\n"
     ]
    },
    {
     "name": "stdout",
     "output_type": "stream",
     "text": [
      "38 tf.Tensor([0. 0. 0. 0. 0.], shape=(5,), dtype=float32)\n",
      "39 tf.Tensor([0. 0. 0. 0. 0.], shape=(5,), dtype=float32)\n",
      "40 tf.Tensor([0. 0. 0. 0. 0.], shape=(5,), dtype=float32)\n",
      "41 tf.Tensor([0. 0. 0. 0. 0.], shape=(5,), dtype=float32)\n",
      "42 tf.Tensor([0. 0. 0. 0. 0.], shape=(5,), dtype=float32)\n",
      "43 tf.Tensor([0. 0. 0. 0. 0.], shape=(5,), dtype=float32)\n",
      "44 tf.Tensor([0. 0. 0. 0. 0.], shape=(5,), dtype=float32)\n",
      "45 tf.Tensor([0. 0. 0. 0. 0.], shape=(5,), dtype=float32)\n",
      "46 tf.Tensor([0. 0. 0. 0. 0.], shape=(5,), dtype=float32)\n",
      "47 tf.Tensor([0. 0. 0. 0. 0.], shape=(5,), dtype=float32)\n",
      "48 tf.Tensor([0. 0. 0. 0. 0.], shape=(5,), dtype=float32)\n",
      "1.0\n",
      "Tensor(\"Pow:0\", shape=(), dtype=float32)\n",
      "tf.Tensor(\n",
      "[1.2942514e-05 3.8125534e-05 1.2274776e-04 3.9064427e-05 6.5748463e-05\n",
      " 4.3576903e-04 3.1068415e-04 4.0289419e-04 3.3733507e-03 2.5349521e-04\n",
      " 6.3346711e-04 6.2677800e-04 5.7494431e-04 1.1115981e-03 7.4869348e-04\n",
      " 8.2090712e-04 8.9692819e-04 8.5703400e-04 7.8738923e-04 8.2313910e-04\n",
      " 7.8155479e-04 7.9468440e-04 1.9618261e-03 1.3766167e-02 5.9338413e-02\n",
      " 1.5221488e-01 3.0001223e-01 4.6308330e-01 6.5451986e-01 7.9720718e-01\n",
      " 9.1338736e-01 9.7726279e-01 9.9545735e-01 9.9942380e-01 9.9933583e-01\n",
      " 9.9673933e-01 9.9939966e-01 9.9911153e-01 9.9950552e-01 9.9956411e-01\n",
      " 9.9947685e-01 9.9848431e-01 9.9962926e-01 9.9950010e-01 9.9988705e-01\n",
      " 9.9960279e-01 9.9927008e-01 9.9982244e-01 9.9993694e-01], shape=(49,), dtype=float32)\n",
      "0 tf.Tensor([0. 0. 0. 0. 0.], shape=(5,), dtype=float32)\n",
      "1 tf.Tensor([0. 0. 0. 0. 0.], shape=(5,), dtype=float32)\n",
      "2 tf.Tensor([0. 0. 0. 0. 0.], shape=(5,), dtype=float32)\n",
      "3 tf.Tensor([0. 0. 0. 0. 0.], shape=(5,), dtype=float32)\n",
      "4 tf.Tensor([0. 0. 0. 0. 0.], shape=(5,), dtype=float32)\n",
      "5 tf.Tensor([0. 0. 0. 0. 0.], shape=(5,), dtype=float32)\n",
      "6 tf.Tensor([0. 0. 0. 0. 0.], shape=(5,), dtype=float32)\n",
      "7 tf.Tensor([0. 0. 0. 0. 0.], shape=(5,), dtype=float32)\n",
      "8 tf.Tensor([0. 0. 0. 0. 0.], shape=(5,), dtype=float32)\n",
      "9 tf.Tensor([0. 0. 0. 0. 0.], shape=(5,), dtype=float32)\n",
      "10 tf.Tensor([0. 0. 0. 0. 0.], shape=(5,), dtype=float32)\n",
      "11 tf.Tensor([0. 0. 0. 0. 0.], shape=(5,), dtype=float32)\n",
      "12 tf.Tensor([0. 0. 0. 0. 0.], shape=(5,), dtype=float32)\n",
      "13 tf.Tensor([0. 0. 0. 0. 0.], shape=(5,), dtype=float32)\n",
      "14 tf.Tensor([0. 0. 0. 0. 0.], shape=(5,), dtype=float32)\n",
      "15 tf.Tensor([0. 0. 0. 0. 0.], shape=(5,), dtype=float32)\n",
      "16 tf.Tensor([0. 0. 0. 0. 0.], shape=(5,), dtype=float32)\n",
      "17 tf.Tensor([0. 0. 0. 0. 0.], shape=(5,), dtype=float32)\n",
      "18 tf.Tensor([0. 0. 0. 0. 0.], shape=(5,), dtype=float32)\n",
      "19 tf.Tensor([0. 0. 0. 0. 0.], shape=(5,), dtype=float32)\n",
      "20 tf.Tensor([0. 0. 0. 0. 0.], shape=(5,), dtype=float32)\n",
      "21 tf.Tensor([0. 0. 0. 0. 0.], shape=(5,), dtype=float32)\n",
      "22 tf.Tensor([0. 0. 0. 0. 0.], shape=(5,), dtype=float32)\n",
      "23 tf.Tensor([0. 0. 0. 0. 0.], shape=(5,), dtype=float32)\n",
      "24 tf.Tensor([0. 0. 0. 0. 0.], shape=(5,), dtype=float32)\n",
      "25 tf.Tensor([0. 0. 0. 0. 0.], shape=(5,), dtype=float32)\n",
      "26 tf.Tensor([-0.00065561  0.00021227 -0.0001916  -0.0004974  -0.00037884], shape=(5,), dtype=float32)\n",
      "27 tf.Tensor([-0.0277487   0.00160106 -0.00860868 -0.02790585 -0.01987172], shape=(5,), dtype=float32)\n",
      "28 tf.Tensor([-0.04074647 -0.01623212 -0.01606468 -0.07388463 -0.04698168], shape=(5,), dtype=float32)\n",
      "29 tf.Tensor([-0.04073337 -0.03461747 -0.02580891 -0.16504017 -0.0930724 ], shape=(5,), dtype=float32)\n",
      "30 tf.Tensor([-0.02396435 -0.03124408 -0.03331954 -0.29313895 -0.14490667], shape=(5,), dtype=float32)\n",
      "31 tf.Tensor([-0.00934717 -0.01651233 -0.04230914 -0.50900775 -0.21689892], shape=(5,), dtype=float32)\n",
      "32 tf.Tensor([-0.00220697 -0.00490309 -0.04825382 -0.78417045 -0.28272277], shape=(5,), dtype=float32)\n",
      "33 tf.Tensor(\n",
      "[-1.6493030e-04 -4.2572420e-04 -5.7386316e-02 -1.2593523e+00\n",
      " -3.7148315e-01], shape=(5,), dtype=float32)\n",
      "34 tf.Tensor([ 0.          0.         -0.06622352 -1.9505781  -0.4501204 ], shape=(5,), dtype=float32)\n",
      "35 tf.Tensor([ 0.          0.         -0.07740328 -3.050489   -0.510177  ], shape=(5,), dtype=float32)\n",
      "36 tf.Tensor([ 0.          0.         -0.08918167 -4.6938276  -0.4891064 ], shape=(5,), dtype=float32)\n",
      "37 tf.Tensor([ 0.          0.         -0.09368868 -6.626374   -0.26345032], shape=(5,), dtype=float32)\n",
      "38 tf.Tensor([ 0.          0.         -0.10296092 -9.73113     0.22947237], shape=(5,), dtype=float32)\n",
      "39 tf.Tensor([  0.           0.          -0.10148917 -12.853565     1.1251613 ], shape=(5,), dtype=float32)\n",
      "40 tf.Tensor([  0.           0.          -0.10863681 -18.162247     2.69202   ], shape=(5,), dtype=float32)\n",
      "41 tf.Tensor([  0.           0.          -0.11445914 -25.067749     5.1868954 ], shape=(5,), dtype=float32)\n",
      "42 tf.Tensor([  0.          0.         -0.1280264 -37.755188   10.2664585], shape=(5,), dtype=float32)\n",
      "43 tf.Tensor([  0.           0.          -0.19035335 -75.96614     25.67893   ], shape=(5,), dtype=float32)\n",
      "44 tf.Tensor([  0.           0.          -0.06441442 -30.144527    11.212926  ], shape=(5,), dtype=float32)\n",
      "45 tf.Tensor([0. 0. 0. 0. 0.], shape=(5,), dtype=float32)\n",
      "46 tf.Tensor([0. 0. 0. 0. 0.], shape=(5,), dtype=float32)\n",
      "47 tf.Tensor([0. 0. 0. 0. 0.], shape=(5,), dtype=float32)\n",
      "48 tf.Tensor([0. 0. 0. 0. 0.], shape=(5,), dtype=float32)\n",
      "tf.Tensor(\n",
      "[1.9374375e-04 9.0561562e-06 7.1118673e-04 1.1161848e-03 1.2791809e-04\n",
      " 3.2767066e-04 8.5048337e-04 4.3264692e-04 1.1447793e-03 3.0416388e-03\n",
      " 5.7468336e-04 9.5891493e-04 8.5338432e-04 5.8525364e-04 8.8605430e-04\n",
      " 1.1014970e-03 8.4195111e-04 7.1361451e-04 7.7404681e-04 7.0355326e-04\n",
      " 7.5315341e-04 6.5962703e-04 2.5723621e-03 1.5988996e-02 5.7259917e-02\n",
      " 1.4861648e-01 3.0394644e-01 4.8098385e-01 6.5151381e-01 8.0779928e-01\n",
      " 9.2136526e-01 9.7060674e-01 9.9593204e-01 9.9965763e-01 9.9922323e-01\n",
      " 9.9937427e-01 9.9911141e-01 9.9904555e-01 9.9940634e-01 9.9907130e-01\n",
      " 9.9919724e-01 9.9970865e-01 9.9959439e-01 9.9978954e-01 9.9937940e-01\n",
      " 9.9969238e-01 9.9974459e-01 9.9954188e-01 9.9930120e-01], shape=(49,), dtype=float32)\n",
      "0 tf.Tensor([0. 0. 0. 0. 0.], shape=(5,), dtype=float32)\n",
      "1 tf.Tensor([0. 0. 0. 0. 0.], shape=(5,), dtype=float32)\n",
      "2 tf.Tensor([0. 0. 0. 0. 0.], shape=(5,), dtype=float32)\n",
      "3 tf.Tensor([0. 0. 0. 0. 0.], shape=(5,), dtype=float32)\n",
      "4 tf.Tensor([0. 0. 0. 0. 0.], shape=(5,), dtype=float32)\n",
      "5 tf.Tensor([0. 0. 0. 0. 0.], shape=(5,), dtype=float32)\n",
      "6 tf.Tensor([0. 0. 0. 0. 0.], shape=(5,), dtype=float32)\n",
      "7 tf.Tensor([0. 0. 0. 0. 0.], shape=(5,), dtype=float32)\n",
      "8 tf.Tensor([0. 0. 0. 0. 0.], shape=(5,), dtype=float32)\n",
      "9 tf.Tensor([0. 0. 0. 0. 0.], shape=(5,), dtype=float32)\n",
      "10 tf.Tensor([0. 0. 0. 0. 0.], shape=(5,), dtype=float32)\n",
      "11 tf.Tensor([0. 0. 0. 0. 0.], shape=(5,), dtype=float32)\n",
      "12 tf.Tensor([0. 0. 0. 0. 0.], shape=(5,), dtype=float32)\n",
      "13 tf.Tensor([0. 0. 0. 0. 0.], shape=(5,), dtype=float32)\n",
      "14 tf.Tensor([0. 0. 0. 0. 0.], shape=(5,), dtype=float32)\n",
      "15 tf.Tensor([0. 0. 0. 0. 0.], shape=(5,), dtype=float32)\n",
      "16 tf.Tensor([0. 0. 0. 0. 0.], shape=(5,), dtype=float32)\n",
      "17 tf.Tensor([0. 0. 0. 0. 0.], shape=(5,), dtype=float32)\n",
      "18 tf.Tensor([0. 0. 0. 0. 0.], shape=(5,), dtype=float32)\n",
      "19 tf.Tensor([0. 0. 0. 0. 0.], shape=(5,), dtype=float32)\n",
      "20 tf.Tensor([0. 0. 0. 0. 0.], shape=(5,), dtype=float32)\n",
      "21 tf.Tensor([0. 0. 0. 0. 0.], shape=(5,), dtype=float32)\n",
      "22 tf.Tensor([-0.03724799  0.08796683  0.          0.          0.        ], shape=(5,), dtype=float32)\n",
      "23 tf.Tensor([-0.18206203  0.34909463  0.          0.          0.        ], shape=(5,), dtype=float32)\n",
      "24 tf.Tensor([-0.5488496   0.81293786  0.          0.          0.        ], shape=(5,), dtype=float32)\n",
      "25 tf.Tensor([-1.0025475  1.0120888  0.         0.         0.       ], shape=(5,), dtype=float32)\n",
      "26 tf.Tensor([-1.313443   0.7205195  0.         0.         0.       ], shape=(5,), dtype=float32)\n",
      "27 tf.Tensor([-1.4258003   0.11924368  0.          0.          0.        ], shape=(5,), dtype=float32)\n",
      "28 tf.Tensor([-1.3827003  -0.54647267  0.          0.          0.        ], shape=(5,), dtype=float32)\n",
      "29 tf.Tensor([-1.1065376 -0.9397134  0.         0.         0.       ], shape=(5,), dtype=float32)\n",
      "30 tf.Tensor([-0.7377305 -0.9627159  0.         0.         0.       ], shape=(5,), dtype=float32)\n",
      "31 tf.Tensor([-0.29274657 -0.52457386  0.          0.          0.        ], shape=(5,), dtype=float32)\n",
      "32 tf.Tensor([-0.07612304 -0.17091706  0.          0.          0.        ], shape=(5,), dtype=float32)\n"
     ]
    },
    {
     "name": "stdout",
     "output_type": "stream",
     "text": [
      "33 tf.Tensor([-0.00407031 -0.01053826  0.          0.          0.        ], shape=(5,), dtype=float32)\n",
      "34 tf.Tensor([0. 0. 0. 0. 0.], shape=(5,), dtype=float32)\n",
      "35 tf.Tensor([0. 0. 0. 0. 0.], shape=(5,), dtype=float32)\n",
      "36 tf.Tensor([0. 0. 0. 0. 0.], shape=(5,), dtype=float32)\n",
      "37 tf.Tensor([0. 0. 0. 0. 0.], shape=(5,), dtype=float32)\n",
      "38 tf.Tensor([0. 0. 0. 0. 0.], shape=(5,), dtype=float32)\n",
      "39 tf.Tensor([0. 0. 0. 0. 0.], shape=(5,), dtype=float32)\n",
      "40 tf.Tensor([0. 0. 0. 0. 0.], shape=(5,), dtype=float32)\n",
      "41 tf.Tensor([0. 0. 0. 0. 0.], shape=(5,), dtype=float32)\n",
      "42 tf.Tensor([0. 0. 0. 0. 0.], shape=(5,), dtype=float32)\n",
      "43 tf.Tensor([0. 0. 0. 0. 0.], shape=(5,), dtype=float32)\n",
      "44 tf.Tensor([0. 0. 0. 0. 0.], shape=(5,), dtype=float32)\n",
      "45 tf.Tensor([0. 0. 0. 0. 0.], shape=(5,), dtype=float32)\n",
      "46 tf.Tensor([0. 0. 0. 0. 0.], shape=(5,), dtype=float32)\n",
      "47 tf.Tensor([0. 0. 0. 0. 0.], shape=(5,), dtype=float32)\n",
      "48 tf.Tensor([0. 0. 0. 0. 0.], shape=(5,), dtype=float32)\n"
     ]
    }
   ],
   "source": [
    "#for some reason I can't get derivatives of all bandpowers at once with this sort of setup and end up looping through them isntead...\n",
    "#easier than debugging the grad function :D\n",
    "\n",
    "tau_array = [0.001,0.02,1.0]\n",
    "sat_array =[]\n",
    "\n",
    "cen_array =[]\n",
    "for tau in tau_array:\n",
    "    print(tau)\n",
    "    bins = tf.linspace(tf.math.reduce_min(np.log10(tf_halocat[\"halo_mvir\"])), tf.math.reduce_max(np.log10(tf_halocat[\"halo_mvir\"])), 50)\n",
    "\n",
    "    def ncen(x):\n",
    "        logMmin,sigma_logM,logM0,logM1,alpha = tf.transpose(x)\n",
    "        tf_gal = hod(tf_halocat,logMmin,sigma_logM,logM0,logM1,alpha,max_sat=30,temp=tau)\n",
    "        a=histogram(tf.math.log(tf_halocat[\"halo_mvir\"])/tf.math.log(10.0),bins,weights=tf_gal['n_cen'])\n",
    "        b=histogram(tf.math.log(tf_halocat[\"halo_mvir\"])/tf.math.log(10.0),bins)\n",
    "        return a/b\n",
    "\n",
    "\n",
    "    def nsat(x):\n",
    "        logMmin,sigma_logM,logM0,logM1,alpha = tf.transpose(x)\n",
    "        tf_gal = hod(tf_halocat,logMmin,sigma_logM,logM0,logM1,alpha,max_sat=30,temp=tau)\n",
    "        a=histogram(tf.math.log(tf_halocat[\"halo_mvir\"])/tf.math.log(10.0),bins,weights=tf.reduce_sum(tf_gal['n_sat'],axis=0))\n",
    "        b=histogram(tf.math.log(tf_halocat[\"halo_mvir\"])/tf.math.log(10.0),bins)\n",
    "        return a/b\n",
    "    \n",
    "    #checking gradients...\n",
    "    out_ar = []\n",
    "    x = tf.Variable([12.02,  0.26, 11.38, 13.31,  0000001.9900010])\n",
    "    print(ncen(x))#[[12.02,12.02,], [0.26,0.26,], [11.38,11.38,], [13.31,13.31,], [x,x,]]))\n",
    "    #loss_ar.append(np.array(L))\n",
    "    for nn in range(0,49):\n",
    "        def get_grads(x):\n",
    "            with tf.GradientTape(persistent=True) as g:\n",
    "             #  g.watch(x)\n",
    "               L = nsat(x)[nn]\n",
    "            dL_dx = g.gradient(L, x)\n",
    "            return dL_dx\n",
    "        #a = tf.constant((np.array([[12.5,0.5,11.38,13.01, x]],dtype=np.float32)))\n",
    "        grad = get_grads(x)\n",
    "        out_ar.append(np.array(grad))\n",
    "        print(nn,grad)\n",
    "    sat_array.append(np.array(out_ar))\n",
    "    out_ar = []\n",
    "    #same for centrals\n",
    "    x = tf.Variable([12.02,  0.26, 11.38, 13.31,  0000001.9900010])\n",
    "    print(ncen(x))#[[12.02,12.02,], [0.26,0.26,], [11.38,11.38,], [13.31,13.31,], [x,x,]]))\n",
    "    #loss_ar.append(np.array(L))\n",
    "    for nn in range(0,49):\n",
    "        def get_grads(x):\n",
    "            with tf.GradientTape(persistent=True) as g:\n",
    "             #  g.watch(x)\n",
    "               L = ncen(x)[nn]\n",
    "            dL_dx = g.gradient(L, x)\n",
    "            return dL_dx\n",
    "        #a = tf.constant((np.array([[12.5,0.5,11.38,13.01, x]],dtype=np.float32)))\n",
    "        grad = get_grads(x)\n",
    "        out_ar.append(np.array(grad))\n",
    "        print(nn,grad)\n",
    "    cen_array.append(np.array(out_ar))\n"
   ]
  },
  {
   "cell_type": "code",
   "execution_count": 22,
   "metadata": {},
   "outputs": [],
   "source": [
    "#analytical derivatives\n",
    "\n",
    "def dncendlogmin(M):\n",
    "    logMmin, sigma_logM, logM0, logM1, alpha = [12.02,  0.26, 11.38, 13.31,  0000001.9900010]\n",
    "    exp = np.exp(-(M-logMmin)**2/sigma_logM**2.0)\n",
    "    print((sigma_logM*np.sqrt(np.pi)*logMmin))\n",
    "    return -exp*10/(sigma_logM*np.sqrt(np.pi)*M)\n",
    "    \n",
    "def dncendsigma(M):\n",
    "    logMmin, sigma_logM, logM0, logM1, alpha = [12.02,  0.26, 11.38, 13.31,  0000001.9900010]\n",
    "    exp = np.exp(-(M-logMmin)**2/sigma_logM**2.0)\n",
    "    print((sigma_logM*np.sqrt(np.pi)*logMmin))\n",
    "    return -exp*1/(sigma_logM**2.0*np.sqrt(np.pi)) * (M-logMmin)\n",
    "\n",
    "def dnsatdlogmin(M):\n",
    "    logMmin, sigma_logM, logM0, logM1, alpha = [12.02,  0.26, 11.38, 13.31,  0000001.9900010]\n",
    "    exp = np.exp(-(M-logMmin)**2/sigma_logM**2.0)\n",
    "    print((sigma_logM*np.sqrt(np.pi)*logMmin))\n",
    "    pref = ((10**M-10**logM0)/(10**logM1))**alpha\n",
    "    return -exp*10/(sigma_logM*np.sqrt(np.pi)*M)*pref\n",
    "    \n",
    "def dnsatdsigma(M):\n",
    "    logMmin, sigma_logM, logM0, logM1, alpha = [12.02,  0.26, 11.38, 13.31,  0000001.9900010]\n",
    "    exp = np.exp(-(M-logMmin)**2/sigma_logM**2.0)\n",
    "    print((sigma_logM*np.sqrt(np.pi)*logMmin))\n",
    "    pref = ((10**M-10**logM0)/(10**logM1))**alpha\n",
    "\n",
    "    return -exp*1/(sigma_logM**2.0*np.sqrt(np.pi)) * (M-logMmin)*pref\n",
    "\n",
    "\n",
    "def dnsatdalpha(M):\n",
    "    logMmin, sigma_logM, logM0, logM1, alpha = [12.02,  0.26, 11.38, 13.31,  0000001.9900010]\n",
    "    pref = 1/2*(1+ scipy.special.erf((M-logMmin)/sigma_logM))\n",
    "\n",
    "    return pref *((10**M-10**logM0)/(10**logM1))**(alpha) * np.log((10**M-10**logM0)/(10**logM1))\n",
    "\n",
    "def dnsatdlogM0(M):\n",
    "    logMmin, sigma_logM, logM0, logM1, alpha = [12.02,  0.26, 11.38, 13.31,  0000001.9900010]\n",
    "    pref = 1/2*(1+ scipy.special.erf((M-logMmin)/sigma_logM))\n",
    "\n",
    "    return 1/2*pref *((10**M-10**logM0)/(10**logM1))**(alpha-1) * -1*alpha/logM1\n",
    "\n",
    "\n",
    "def dnsatdlogM1(M):\n",
    "    logMmin, sigma_logM, logM0, logM1, alpha = [12.02,  0.26, 11.38, 13.31,  0000001.9900010]\n",
    "    pref = 1/2*20*(1+ scipy.special.erf((M-logMmin)/sigma_logM))\n",
    "\n",
    "    return pref *((10**M-10**logM0)/(10**logM1))**(alpha) * -1*alpha/logM1\n",
    "\n"
   ]
  },
  {
   "cell_type": "code",
   "execution_count": 23,
   "metadata": {},
   "outputs": [
    {
     "name": "stderr",
     "output_type": "stream",
     "text": [
      "<ipython-input-23-b0ed8b25dd77>:14: MatplotlibDeprecationWarning: The 'linthreshy' parameter of __init__() has been renamed 'linthresh' since Matplotlib 3.3; support for the old name will be dropped two minor releases later.\n",
      "  ax[0,i].set_yscale('symlog', linthreshy=0.0010)\n",
      "<ipython-input-23-b0ed8b25dd77>:14: MatplotlibDeprecationWarning: The 'linthreshy' parameter of __init__() has been renamed 'linthresh' since Matplotlib 3.3; support for the old name will be dropped two minor releases later.\n",
      "  ax[0,i].set_yscale('symlog', linthreshy=0.0010)\n",
      "<ipython-input-23-b0ed8b25dd77>:14: MatplotlibDeprecationWarning: The 'linthreshy' parameter of __init__() has been renamed 'linthresh' since Matplotlib 3.3; support for the old name will be dropped two minor releases later.\n",
      "  ax[0,i].set_yscale('symlog', linthreshy=0.0010)\n",
      "<ipython-input-23-b0ed8b25dd77>:21: MatplotlibDeprecationWarning: The 'linthreshy' parameter of __init__() has been renamed 'linthresh' since Matplotlib 3.3; support for the old name will be dropped two minor releases later.\n",
      "  ax[1,i].set_yscale('symlog', linthreshy=0.0010)\n",
      "<ipython-input-23-b0ed8b25dd77>:21: MatplotlibDeprecationWarning: The 'linthreshy' parameter of __init__() has been renamed 'linthresh' since Matplotlib 3.3; support for the old name will be dropped two minor releases later.\n",
      "  ax[1,i].set_yscale('symlog', linthreshy=0.0010)\n",
      "<ipython-input-23-b0ed8b25dd77>:21: MatplotlibDeprecationWarning: The 'linthreshy' parameter of __init__() has been renamed 'linthresh' since Matplotlib 3.3; support for the old name will be dropped two minor releases later.\n",
      "  ax[1,i].set_yscale('symlog', linthreshy=0.0010)\n"
     ]
    },
    {
     "name": "stdout",
     "output_type": "stream",
     "text": [
      "5.539272774849919\n",
      "5.539272774849919\n",
      "5.539272774849919\n",
      "5.539272774849919\n"
     ]
    },
    {
     "data": {
      "image/png": "[encoded data removed]",
      "text/plain": [
       "<Figure size 828x540 with 6 Axes>"
      ]
     },
     "metadata": {
      "needs_background": "light"
     },
     "output_type": "display_data"
    }
   ],
   "source": [
    "\n",
    "fig, ax = plt.subplots(2, 3,sharex=True,sharey=True)\n",
    "fig.set_size_inches(11.5, 7.5)\n",
    "\n",
    "ll = [r'$\\logM_{min}$', r'$\\sigma_{\\log M}$', r'$\\log M_0$', r'$\\log M_1$', r'$\\alpha$']\n",
    "\n",
    "ax[0,0].set_ylabel(r\"$d\\langle N_{cen} \\rangle/d\\theta$\",fontsize=20)\n",
    "ax[1,0].set_ylabel(r\"$d\\langle N_{sat} \\rangle/d\\theta$\",fontsize=20)\n",
    "\n",
    "for i,xx in enumerate(cen_array):\n",
    "    for j in range(0,5):\n",
    "        ax[0,i].plot((bins[1:]+bins[:-1])/2,xx[:,j],label = ll[j])  \n",
    "    ax[0,i].set_xlim(10.5,15)\n",
    "  #  ax[0,i].set_ylabel(r\"$d\\langle N_{sat} \\rangle/d\\theta$\")\n",
    "    ax[0,i].set_yscale('symlog', linthreshy=0.0010)\n",
    "    ax[0,i].set_title(r'$\\tau = $' + str(tau_array[i]),fontsize=20)\n",
    "\n",
    "for i,xx in enumerate(sat_array):\n",
    "    for j in range(0,5):\n",
    "        ax[1,i].plot((bins[1:]+bins[:-1])/2,xx[:,j],label = ll[j])\n",
    "    ax[1,i].set_xlim(10.5,15)\n",
    "    ax[1,i].set_yscale('symlog', linthreshy=0.0010)\n",
    "    ax[1,i].set_xlabel(r'$\\log_{10} M/M_\\odot$',fontsize=20)\n",
    "    #ax[0,i].set_title(r'$\\tau = $' + str(tau_array[i]))\n",
    "\n",
    "    \n",
    "ax[0,1].plot(np.linspace(10,14.5,50),dncendlogmin(np.linspace(10,14.5,50)),\"b*\",markersize=3)\n",
    "ax[0,1].plot(np.linspace(10,14.5,50),dncendsigma(np.linspace(10,14.5,50)),\"*\",color=\"orange\",markersize=3)\n",
    "\n",
    "\n",
    "\n",
    "ax[1,1].plot(np.linspace(10,14.5,50),dnsatdlogmin(np.linspace(10,14.5,50)),\"b*\",markersize=3)\n",
    "ax[1,1].plot(np.linspace(10,14.5,50),dnsatdsigma(np.linspace(10,14.5,50)),\"*\",color=\"orange\",markersize=3)\n",
    "ax[1,1].plot(np.linspace(10,14.5,50),dnsatdalpha(np.linspace(10,14.5,50)),\"*\",color=\"purple\",markersize=3)\n",
    "ax[1,1].plot(np.linspace(10,14.5,50),dnsatdlogM0(np.linspace(10,14.5,50)),\"*\",color=\"green\",markersize=3)\n",
    "\n",
    "ax[1,1].plot(np.linspace(10,14.5,50),dnsatdlogM1(np.linspace(10,14.5,50)),\"*\",color=\"red\",markersize=3)\n",
    "\n",
    "plt.subplots_adjust(wspace=0, hspace=0)\n",
    "\n",
    "ax[1,0].legend(loc=3,fontsize=14)\n",
    "\n",
    "plt.tight_layout()\n",
    "plt.savefig(\"3panel.pdf\")"
   ]
  },
  {
   "cell_type": "markdown",
   "metadata": {},
   "source": [
    "## Derivatives of Power Spectra"
   ]
  },
  {
   "cell_type": "code",
   "execution_count": null,
   "metadata": {},
   "outputs": [],
   "source": []
  }
 ],
 "metadata": {
  "accelerator": "GPU",
  "colab": {
   "authorship_tag": "ABX9TyMBrvfIpf0Fq9PIg+0d9ylk",
   "include_colab_link": true,
   "name": "Zheng2007_demo.ipynb",
   "provenance": []
  },
  "kernelspec": {
   "display_name": "dhodf",
   "language": "python",
   "name": "dhodf"
  },
  "language_info": {
   "codemirror_mode": {
    "name": "ipython",
    "version": 3
   },
   "file_extension": ".py",
   "mimetype": "text/x-python",
   "name": "python",
   "nbconvert_exporter": "python",
   "pygments_lexer": "ipython3",
   "version": "3.8.10"
  }
 },
 "nbformat": 4,
 "nbformat_minor": 1
}
