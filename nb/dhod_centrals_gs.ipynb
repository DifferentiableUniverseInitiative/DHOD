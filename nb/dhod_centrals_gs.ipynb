{
 "cells": [
  {
   "cell_type": "code",
   "execution_count": 1,
   "metadata": {},
   "outputs": [
    {
     "name": "stdout",
     "output_type": "stream",
     "text": [
      "WARNING:tensorflow:From /usr/lib/python3.7/site-packages/tensorflow_core/python/compat/v2_compat.py:65: disable_resource_variables (from tensorflow.python.ops.variable_scope) is deprecated and will be removed in a future version.\n",
      "Instructions for updating:\n",
      "non-resource variables are not supported in the long term\n"
     ]
    }
   ],
   "source": [
    "import numpy as np \n",
    "\n",
    "import tensorflow.compat.v1  as tf\n",
    "tf.disable_v2_behavior()\n",
    "\n",
    "import tensorflow_probability as tfp\n",
    "# -- plotting\n",
    "import matplotlib as mpl\n",
    "import matplotlib.pyplot as plt\n",
    "mpl.rcParams['text.usetex'] = True\n",
    "mpl.rcParams['font.family'] = 'serif'\n",
    "mpl.rcParams['axes.linewidth'] = 1.5\n",
    "mpl.rcParams['axes.xmargin'] = 1\n",
    "mpl.rcParams['xtick.labelsize'] = 'x-large'\n",
    "mpl.rcParams['xtick.major.size'] = 5\n",
    "mpl.rcParams['xtick.major.width'] = 1.5\n",
    "mpl.rcParams['ytick.labelsize'] = 'x-large'\n",
    "mpl.rcParams['ytick.major.size'] = 5\n",
    "mpl.rcParams['ytick.major.width'] = 1.5\n",
    "mpl.rcParams['legend.frameon'] = False"
   ]
  },
  {
   "cell_type": "code",
   "execution_count": 2,
   "metadata": {},
   "outputs": [],
   "source": [
    "#import tensorflow as tf \n",
    "\"\"\"\n",
    "Gumbel Softmax functions borrowed from http://blog.evjang.com/2016/11/tutorial-categorical-variational.html\n",
    "\"\"\"\n",
    "\n",
    "def sample_gumbel(shape, eps=1e-7): \n",
    "    \"\"\"Sample from Gumbel(0, 1)\"\"\"\n",
    "    U = tf.random_uniform(shape,minval=0,maxval=1)\n",
    "    return -tf.log(-tf.log(U + eps) + eps)\n",
    "\n",
    "def gumbel_softmax_sample(logits, temperature): \n",
    "    \"\"\" Draw a sample from the Gumbel-Softmax distribution\"\"\"\n",
    "    y = logits + sample_gumbel(tf.shape(logits))\n",
    "    return tf.nn.softmax( y / temperature)\n",
    "\n",
    "def gumbel_softmax(logits, temperature, hard=False):\n",
    "    \"\"\"Sample from the Gumbel-Softmax distribution and optionally discretize.\n",
    "        Args:\n",
    "        logits: [batch_size, n_class] unnormalized log-probs\n",
    "        temperature: non-negative scalar\n",
    "        hard: if True, take argmax, but differentiate w.r.t. soft sample y\n",
    "        Returns:\n",
    "        [batch_size,..., n_class] sample from the Gumbel-Softmax distribution.\n",
    "        If hard=True, then the returned sample will be one-hot, otherwise it will\n",
    "        be a probabilitiy distribution that sums to 1 across classes\n",
    "    \"\"\"\n",
    "    y = gumbel_softmax_sample(logits, temperature)\n",
    "    if hard:\n",
    "        k = tf.shape(logits)[-1]\n",
    "        #y_hard = tf.cast(tf.one_hot(tf.argmax(y,1),k), y.dtype)\n",
    "        y_hard = tf.cast(tf.equal(y,tf.reduce_max(y,-1,keep_dims=True)),y.dtype)\n",
    "        y = tf.stop_gradient(y_hard - y) + y\n",
    "    return y"
   ]
  },
  {
   "cell_type": "code",
   "execution_count": 3,
   "metadata": {},
   "outputs": [
    {
     "name": "stdout",
     "output_type": "stream",
     "text": [
      "WARNING:tensorflow:From <ipython-input-2-abc763f8b025>:31: calling reduce_max_v1 (from tensorflow.python.ops.math_ops) with keep_dims is deprecated and will be removed in a future version.\n",
      "Instructions for updating:\n",
      "keep_dims is deprecated, use keepdims instead\n"
     ]
    }
   ],
   "source": [
    "d = gumbel_softmax(np.array([np.log(0.5), np.log(0.5)] ), 0.5, hard=True)"
   ]
  },
  {
   "cell_type": "code",
   "execution_count": 4,
   "metadata": {},
   "outputs": [
    {
     "data": {
      "text/plain": [
       "'0.8.0'"
      ]
     },
     "execution_count": 4,
     "metadata": {},
     "output_type": "execute_result"
    }
   ],
   "source": [
    "tfp.__version__"
   ]
  },
  {
   "cell_type": "code",
   "execution_count": 5,
   "metadata": {},
   "outputs": [],
   "source": [
    "sess = tf.Session()"
   ]
  },
  {
   "cell_type": "code",
   "execution_count": 6,
   "metadata": {},
   "outputs": [],
   "source": [
    "_Mmin = tf.get_variable(name='mass', initializer=13.2, dtype=tf.float32)"
   ]
  },
  {
   "cell_type": "code",
   "execution_count": 7,
   "metadata": {},
   "outputs": [],
   "source": [
    "Mhalo = tf.convert_to_tensor(np.random.uniform(11., 14., 1000), dtype=tf.float32)\n",
    "siglogm = tf.convert_to_tensor(0.2, dtype=tf.float32)\n",
    "temperature = 0.5\n",
    "\n",
    "def Ncen(Mmin): \n",
    "    # mean occupation of centrals\n",
    "    return tf.clip_by_value(0.5 * (1+tf.math.erf((Mhalo - Mmin)/siglogm)),1e-4,1-1e-4)\n",
    "\n",
    "def hod(Mmin): \n",
    "    p = Ncen(Mmin)\n",
    "    samp = gumbel_softmax(tf.stack([tf.log(p), tf.log(1.-p)],axis=1), temperature, hard=True)\n",
    "    return samp[...,0]\n",
    "\n",
    "\n",
    "def numden(Mmin): \n",
    "    return tf.reduce_sum(hod(Mmin))"
   ]
  },
  {
   "cell_type": "code",
   "execution_count": 8,
   "metadata": {},
   "outputs": [
    {
     "data": {
      "text/plain": [
       "(11, 13.5)"
      ]
     },
     "execution_count": 8,
     "metadata": {},
     "output_type": "execute_result"
    },
    {
     "data": {
      "image/png": "[encoded data removed]",
      "text/plain": [
       "<Figure size 432x288 with 1 Axes>"
      ]
     },
     "metadata": {
      "needs_background": "light"
     },
     "output_type": "display_data"
    }
   ],
   "source": [
    "ncen,mh,nh = sess.run([Ncen(12.5), Mhalo, hod(12.5)] )\n",
    "plt.scatter(mh, (ncen))\n",
    "plt.xlim(11, 13.5)"
   ]
  },
  {
   "cell_type": "code",
   "execution_count": 9,
   "metadata": {},
   "outputs": [
    {
     "data": {
      "text/plain": [
       "(11.0, 13.5)"
      ]
     },
     "execution_count": 9,
     "metadata": {},
     "output_type": "execute_result"
    },
    {
     "data": {
      "image/png": "[encoded data removed]",
      "text/plain": [
       "<Figure size 432x288 with 1 Axes>"
      ]
     },
     "metadata": {
      "needs_background": "light"
     },
     "output_type": "display_data"
    }
   ],
   "source": [
    "plt.scatter(mh, (ncen), c='k')\n",
    "plt.scatter(mh, nh)\n",
    "plt.xlim(11., 13.5)"
   ]
  },
  {
   "cell_type": "code",
   "execution_count": 10,
   "metadata": {},
   "outputs": [],
   "source": [
    "Mmin_true = 12.5"
   ]
  },
  {
   "cell_type": "code",
   "execution_count": 11,
   "metadata": {},
   "outputs": [],
   "source": [
    "loss = (numden(Mmin_true) - numden(_Mmin))**2"
   ]
  },
  {
   "cell_type": "code",
   "execution_count": 12,
   "metadata": {},
   "outputs": [],
   "source": [
    "opt = tf.train.AdamOptimizer(learning_rate=0.01)"
   ]
  },
  {
   "cell_type": "code",
   "execution_count": 13,
   "metadata": {},
   "outputs": [],
   "source": [
    "opt_op = opt.minimize(loss)"
   ]
  },
  {
   "cell_type": "code",
   "execution_count": 14,
   "metadata": {},
   "outputs": [],
   "source": [
    "sess.run(tf.global_variables_initializer())"
   ]
  },
  {
   "cell_type": "code",
   "execution_count": 15,
   "metadata": {},
   "outputs": [],
   "source": [
    "losses=[]\n",
    "masses=[]\n",
    "for i in range(200):\n",
    "    _,l,m = sess.run([opt_op, loss, _Mmin])\n",
    "    losses.append(l)\n",
    "    masses.append(m)"
   ]
  },
  {
   "cell_type": "code",
   "execution_count": 16,
   "metadata": {},
   "outputs": [
    {
     "data": {
      "text/plain": [
       "[55225.0,\n",
       " 49284.0,\n",
       " 42436.0,\n",
       " 41616.0,\n",
       " 42025.0,\n",
       " 36481.0,\n",
       " 40000.0,\n",
       " 42849.0,\n",
       " 39601.0,\n",
       " 37249.0,\n",
       " 37636.0,\n",
       " 30976.0,\n",
       " 30976.0,\n",
       " 32400.0,\n",
       " 30276.0,\n",
       " 30625.0,\n",
       " 30976.0,\n",
       " 29929.0,\n",
       " 29929.0,\n",
       " 29584.0,\n",
       " 26244.0,\n",
       " 29584.0,\n",
       " 22201.0,\n",
       " 20736.0,\n",
       " 21609.0,\n",
       " 19044.0,\n",
       " 15876.0,\n",
       " 23409.0,\n",
       " 17689.0,\n",
       " 15376.0,\n",
       " 15876.0,\n",
       " 15376.0,\n",
       " 13924.0,\n",
       " 15376.0,\n",
       " 12100.0,\n",
       " 12544.0,\n",
       " 15876.0,\n",
       " 13456.0,\n",
       " 11881.0,\n",
       " 10000.0,\n",
       " 9801.0,\n",
       " 8649.0,\n",
       " 12321.0,\n",
       " 9409.0,\n",
       " 9025.0,\n",
       " 8464.0,\n",
       " 6889.0,\n",
       " 9604.0,\n",
       " 9216.0,\n",
       " 7056.0,\n",
       " 4624.0,\n",
       " 9216.0,\n",
       " 5625.0,\n",
       " 6561.0,\n",
       " 5184.0,\n",
       " 5041.0,\n",
       " 4624.0,\n",
       " 3364.0,\n",
       " 2601.0,\n",
       " 3969.0,\n",
       " 4489.0,\n",
       " 4096.0,\n",
       " 3481.0,\n",
       " 4096.0,\n",
       " 3136.0,\n",
       " 2025.0,\n",
       " 2500.0,\n",
       " 1849.0,\n",
       " 3364.0,\n",
       " 2116.0,\n",
       " 3136.0,\n",
       " 1156.0,\n",
       " 2500.0,\n",
       " 1764.0,\n",
       " 1600.0,\n",
       " 1600.0,\n",
       " 1600.0,\n",
       " 1156.0,\n",
       " 1521.0,\n",
       " 1600.0,\n",
       " 1369.0,\n",
       " 1089.0,\n",
       " 1225.0,\n",
       " 729.0,\n",
       " 484.0,\n",
       " 961.0,\n",
       " 1024.0,\n",
       " 625.0,\n",
       " 484.0,\n",
       " 1156.0,\n",
       " 961.0,\n",
       " 1369.0,\n",
       " 289.0,\n",
       " 1024.0,\n",
       " 1681.0,\n",
       " 361.0,\n",
       " 841.0,\n",
       " 361.0,\n",
       " 1024.0,\n",
       " 841.0,\n",
       " 121.0,\n",
       " 441.0,\n",
       " 225.0,\n",
       " 49.0,\n",
       " 100.0,\n",
       " 324.0,\n",
       " 256.0,\n",
       " 49.0,\n",
       " 289.0,\n",
       " 441.0,\n",
       " 169.0,\n",
       " 25.0,\n",
       " 225.0,\n",
       " 49.0,\n",
       " 289.0,\n",
       " 121.0,\n",
       " 49.0,\n",
       " 25.0,\n",
       " 81.0,\n",
       " 289.0,\n",
       " 25.0,\n",
       " 225.0,\n",
       " 36.0,\n",
       " 144.0,\n",
       " 289.0,\n",
       " 100.0,\n",
       " 36.0,\n",
       " 4.0,\n",
       " 169.0,\n",
       " 225.0,\n",
       " 144.0,\n",
       " 121.0,\n",
       " 49.0,\n",
       " 400.0,\n",
       " 16.0,\n",
       " 256.0,\n",
       " 49.0,\n",
       " 25.0,\n",
       " 81.0,\n",
       " 9.0,\n",
       " 225.0,\n",
       " 9.0,\n",
       " 1.0,\n",
       " 4.0,\n",
       " 4.0,\n",
       " 16.0,\n",
       " 49.0,\n",
       " 1.0,\n",
       " 25.0,\n",
       " 1.0,\n",
       " 25.0,\n",
       " 169.0,\n",
       " 4.0,\n",
       " 289.0,\n",
       " 81.0,\n",
       " 400.0,\n",
       " 16.0,\n",
       " 9.0,\n",
       " 4.0,\n",
       " 4.0,\n",
       " 25.0,\n",
       " 100.0,\n",
       " 25.0,\n",
       " 64.0,\n",
       " 81.0,\n",
       " 121.0,\n",
       " 9.0,\n",
       " 1.0,\n",
       " 9.0,\n",
       " 64.0,\n",
       " 36.0,\n",
       " 25.0,\n",
       " 49.0,\n",
       " 16.0,\n",
       " 81.0,\n",
       " 49.0,\n",
       " 9.0,\n",
       " 81.0,\n",
       " 16.0,\n",
       " 0.0,\n",
       " 484.0,\n",
       " 49.0,\n",
       " 1.0,\n",
       " 16.0,\n",
       " 9.0,\n",
       " 144.0,\n",
       " 0.0,\n",
       " 16.0,\n",
       " 25.0,\n",
       " 100.0,\n",
       " 9.0,\n",
       " 1.0,\n",
       " 25.0,\n",
       " 1.0,\n",
       " 289.0,\n",
       " 256.0,\n",
       " 4.0,\n",
       " 16.0,\n",
       " 9.0,\n",
       " 16.0]"
      ]
     },
     "execution_count": 16,
     "metadata": {},
     "output_type": "execute_result"
    }
   ],
   "source": [
    "losses"
   ]
  },
  {
   "cell_type": "code",
   "execution_count": 17,
   "metadata": {},
   "outputs": [
    {
     "name": "stdout",
     "output_type": "stream",
     "text": [
      "Populating the interactive namespace from numpy and matplotlib\n"
     ]
    }
   ],
   "source": [
    "%pylab inline"
   ]
  },
  {
   "cell_type": "code",
   "execution_count": 18,
   "metadata": {},
   "outputs": [
    {
     "data": {
      "text/plain": [
       "[<matplotlib.lines.Line2D at 0x7f5e80221950>]"
      ]
     },
     "execution_count": 18,
     "metadata": {},
     "output_type": "execute_result"
    },
    {
     "data": {
      "image/png": "[encoded data removed]",
      "text/plain": [
       "<Figure size 432x288 with 1 Axes>"
      ]
     },
     "metadata": {
      "needs_background": "light"
     },
     "output_type": "display_data"
    }
   ],
   "source": [
    "plot(losses)"
   ]
  },
  {
   "cell_type": "code",
   "execution_count": 19,
   "metadata": {},
   "outputs": [
    {
     "data": {
      "text/plain": [
       "<matplotlib.legend.Legend at 0x7f5e80185810>"
      ]
     },
     "execution_count": 19,
     "metadata": {},
     "output_type": "execute_result"
    },
    {
     "data": {
      "image/png": "[encoded data removed]",
      "text/plain": [
       "<Figure size 432x288 with 1 Axes>"
      ]
     },
     "metadata": {
      "needs_background": "light"
     },
     "output_type": "display_data"
    }
   ],
   "source": [
    "plot(masses)\n",
    "axhline(Mmin_true, color='r', label='True Mmin')\n",
    "xlim(0,200)\n",
    "xlabel('Number of iterations')\n",
    "ylabel('Mmin')\n",
    "legend()"
   ]
  },
  {
   "cell_type": "code",
   "execution_count": null,
   "metadata": {},
   "outputs": [],
   "source": []
  }
 ],
 "metadata": {
  "kernelspec": {
   "display_name": "Python 3",
   "language": "python",
   "name": "python3"
  },
  "language_info": {
   "codemirror_mode": {
    "name": "ipython",
    "version": 3
   },
   "file_extension": ".py",
   "mimetype": "text/x-python",
   "name": "python",
   "nbconvert_exporter": "python",
   "pygments_lexer": "ipython3",
   "version": "3.8.2"
  }
 },
 "nbformat": 4,
 "nbformat_minor": 2
}
